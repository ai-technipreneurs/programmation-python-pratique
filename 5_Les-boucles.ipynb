{
  "nbformat": 4,
  "nbformat_minor": 0,
  "metadata": {
    "kernelspec": {
      "display_name": "Python 3",
      "language": "python",
      "name": "python3"
    },
    "language_info": {
      "codemirror_mode": {
        "name": "ipython",
        "version": 3
      },
      "file_extension": ".py",
      "mimetype": "text/x-python",
      "name": "python",
      "nbconvert_exporter": "python",
      "pygments_lexer": "ipython3",
      "version": "3.7.3"
    },
    "varInspector": {
      "cols": {
        "lenName": 16,
        "lenType": 16,
        "lenVar": 40
      },
      "kernels_config": {
        "python": {
          "delete_cmd_postfix": "",
          "delete_cmd_prefix": "del ",
          "library": "var_list.py",
          "varRefreshCmd": "print(var_dic_list())"
        },
        "r": {
          "delete_cmd_postfix": ") ",
          "delete_cmd_prefix": "rm(",
          "library": "var_list.r",
          "varRefreshCmd": "cat(var_dic_list()) "
        }
      },
      "types_to_exclude": [
        "module",
        "function",
        "builtin_function_or_method",
        "instance",
        "_Feature"
      ],
      "window_display": false
    },
    "colab": {
      "name": "5_Les-boucles.ipynb",
      "provenance": [],
      "include_colab_link": true
    }
  },
  "cells": [
    {
      "cell_type": "markdown",
      "metadata": {
        "id": "view-in-github",
        "colab_type": "text"
      },
      "source": [
        "<a href=\"https://colab.research.google.com/github/ai-technipreneurs/programmation-python-pratique/blob/master/5_Les-boucles.ipynb\" target=\"_parent\"><img src=\"https://colab.research.google.com/assets/colab-badge.svg\" alt=\"Open In Colab\"/></a>"
      ]
    },
    {
      "cell_type": "markdown",
      "metadata": {
        "id": "p5S_HxkYE2mP"
      },
      "source": [
        "****\n",
        "\n",
        "# <center> <b> <span style=\"color:orange;\"> Atelier 3P </span> </b></center>\n",
        "\n",
        "## <center> <b> <span style=\"color:green;\">Programmation Python Pratique</span> </b></center>\n",
        "\n",
        "<center>\n",
        "    <a href=\"https://github.com/ai-technipreneurs\" ><img src=\"https://avatars.githubusercontent.com/u/83169416?v=4\" style=\"float:center; max-width: 650px; display: inline\" alt=\"IMSP\"/> </a>\n",
        "    </center>\n",
        "\n",
        "### <center> <b> <span style=\"color:blue;\">Boucles  </span> </b></center>\n",
        "\n",
        "#### <left> <b> <span style=\"color:brown;\">Instructeur : </span> </b></left>[ai-technipreneurs](https://github.com/ai-technipreneurs)\n",
        "\n",
        "****"
      ]
    },
    {
      "cell_type": "markdown",
      "metadata": {
        "id": "wi3aYUf6E2mR"
      },
      "source": [
        " Un script Python est formé d’une suite d’instructions exécutées en séquence de\n",
        "haut en bas. Chaque ligne d’instructions est formée d’une ou plusieurs lignes physiques qui\n",
        "peuvent être continuées par un antislash `\\` ou un caractère ouvrant `[({` pas encore\n",
        "fermé. Cette exécution en séquence peut être modifiée pour choisir ou répéter des portions de code. C’est l’objet de ce calepin.\n"
      ]
    },
    {
      "cell_type": "markdown",
      "metadata": {
        "id": "SRRAr_E2E2mT"
      },
      "source": [
        "## Les instructions en boucle\n",
        "\n",
        "Sous python, on distingue deux principales catégories d’instructions en boucles : les\n",
        "instructions en boucle **« while... »** et les instructions en boucle **« for... in... »**.\n",
        "\n",
        "### Les boucles while\n",
        "\n",
        "Après avoir introduit les structures de choix, nous nous intéressons aux structures de répé-\n",
        "tition : ces structures permettent d’exécuter à plusieurs reprises un bloc d’instructions. Ces\n",
        "répétitions se classent en deux catégories :\n",
        "  \n",
        "  - les répétitions conditionnelles : le bloc d’instructions est à répéter autant de fois qu’une\n",
        "condition est vérifiée.\n",
        "\n",
        "  - les répétitions inconditionnelles : le bloc d’instructions est répété un nombre donné de\n",
        "fois.\n",
        "\n",
        "La syntaxe générale de la définition des instructions en boucle while se présente comme suit :\n",
        "\n",
        "```python\n",
        "   Initialisation de la variable d’incrémentation\n",
        "   while condition :\n",
        "        bloc_instructions\n",
        "        incrémentation\n",
        "\n",
        "```\n",
        "\n",
        "Comme dans la\n",
        "structure if, la condition est d’abord évaluée et si elle vraie, le bloc d’instructions est exécuté.\n",
        "Mais ici avec la clause while après exécution du bloc d’instruction, la condition est évaluée à\n",
        "nouveau. Cette exécution se répète jusqu’à ce que la condition devienne fausse. C’est pourquoi\n",
        "il n’est nécessaire de définir une variable d’incrémentation dont la valeur se modifie après\n",
        "chaque exécution de sorte que la condition puisse être fausse à partir d’une certaine valeur.\n",
        "Cette incrémentation est nécessaire pour éviter que les instructions soient indéfiniment\n",
        "évaluées créant ainsi une boucle infinie (ou boucle folle). Une telle situation nécessite alors un\n",
        "arrêt forcé de l’exécution du programme."
      ]
    },
    {
      "cell_type": "code",
      "metadata": {
        "id": "x9PZQJQ6E2mV",
        "outputId": "b1db5e4a-2be7-438a-d99c-020a612c61c8"
      },
      "source": [
        "x = 1 # Initialisation de la variable x\n",
        "while (x < 10):\n",
        "    print('La valeur de x est ', a)\n",
        "    x = x + 1 # Incrémentation de la variable x"
      ],
      "execution_count": null,
      "outputs": [
        {
          "output_type": "stream",
          "text": [
            "La valeur de x est  150\n",
            "La valeur de x est  150\n",
            "La valeur de x est  150\n",
            "La valeur de x est  150\n",
            "La valeur de x est  150\n",
            "La valeur de x est  150\n",
            "La valeur de x est  150\n",
            "La valeur de x est  150\n",
            "La valeur de x est  150\n"
          ],
          "name": "stdout"
        }
      ]
    },
    {
      "cell_type": "code",
      "metadata": {
        "id": "lZ-B25vuE2mY",
        "outputId": "78409871-d1f7-454f-9e3e-f0fd8ad7fe98"
      },
      "source": [
        "fruits = ['pommes', 'oranges', 'fraises', 'bananes']\n",
        "i = 0\n",
        "while i < len(fruits):\n",
        "    print (fruits[i])\n",
        "    i = i + 1"
      ],
      "execution_count": null,
      "outputs": [
        {
          "output_type": "stream",
          "text": [
            "pommes\n",
            "oranges\n",
            "fraises\n",
            "bananes\n"
          ],
          "name": "stdout"
        }
      ]
    },
    {
      "cell_type": "markdown",
      "metadata": {
        "id": "sNzGiyPyE2mc"
      },
      "source": [
        "### Les instructions en boucle « for... in... »\n",
        "\n",
        "Lorsque l’on souhaite répéter un bloc d’instructions un nombre déterminé de fois, on peut\n",
        "utiliser un *compteur actif*, c’est-à-dire une variable qui compte le nombre de répétitions et\n",
        "conditionne la sortie de la boucle **while**. C’est le cas de l’exemple suivant où l’on définit une\n",
        "fonction qui prend en argument un entier `n` et affiche `n` fois le même message.\n",
        "\n",
        "Pour effectuer une telle répétition, on dispose d’une structure de répétition nous économisant\n",
        "d’une part l’initialisation du compteur `( i = 0 )`, et d’autre part son incrémentation `( i += 1 )`:\n",
        "c’est la structure introduite par le mot-clé `for`.\n",
        "\n",
        "La syntaxe générale de la définition d’instructions en boucle for... in... est la suivante :\n",
        "\n",
        "```python\n",
        "   for element in sequence_de_valeurs :\n",
        "        bloc instructions\n",
        "```        "
      ]
    },
    {
      "cell_type": "code",
      "metadata": {
        "id": "wRtJ8ibBE2me",
        "outputId": "4b1c1f61-9cea-49a4-9e22-968cbe76fc8a"
      },
      "source": [
        "n = 5\n",
        "for i in range(n):\n",
        "    print('Je me répète {} fois.' ' (i={})'.format(n, i))"
      ],
      "execution_count": null,
      "outputs": [
        {
          "output_type": "stream",
          "text": [
            "Je me répète 5 fois. (i=0)\n",
            "Je me répète 5 fois. (i=1)\n",
            "Je me répète 5 fois. (i=2)\n",
            "Je me répète 5 fois. (i=3)\n",
            "Je me répète 5 fois. (i=4)\n"
          ],
          "name": "stdout"
        }
      ]
    },
    {
      "cell_type": "code",
      "metadata": {
        "id": "qiwgbEFyE2mg",
        "outputId": "85afecda-b85a-4a6a-9aaa-cdf832888ca4"
      },
      "source": [
        "# Instruction dans une boucle « for.. in ... » simple\n",
        "for i in range(1,11) :\n",
        "    print(i)"
      ],
      "execution_count": null,
      "outputs": [
        {
          "output_type": "stream",
          "text": [
            "1\n",
            "2\n",
            "3\n",
            "4\n",
            "5\n",
            "6\n",
            "7\n",
            "8\n",
            "9\n",
            "10\n"
          ],
          "name": "stdout"
        }
      ]
    },
    {
      "cell_type": "code",
      "metadata": {
        "id": "tDvHicJCE2mj",
        "outputId": "6058d689-5aaf-4355-cf5d-837994cc805a"
      },
      "source": [
        "# Boucle « for.. in... » sur une chaine de caractères\n",
        "listch = \"Hello world\"\n",
        "for i in listch :\n",
        "    print ( i )"
      ],
      "execution_count": null,
      "outputs": [
        {
          "output_type": "stream",
          "text": [
            "H\n",
            "e\n",
            "l\n",
            "l\n",
            "o\n",
            " \n",
            "w\n",
            "o\n",
            "r\n",
            "l\n",
            "d\n"
          ],
          "name": "stdout"
        }
      ]
    },
    {
      "cell_type": "code",
      "metadata": {
        "id": "k5OAWMCWE2ml",
        "outputId": "55844ed4-961a-4855-f6a5-1615e5541da1"
      },
      "source": [
        "# Combinaison d’une boucle « for...in ... » et d’une clause « if »\n",
        "listnb = [4, 5, 6]\n",
        "for i in listnb:\n",
        "    if i == 5:\n",
        "        print(\"La condition est vérifiée pour l’élement\", i)\n",
        "    else :\n",
        "        print(\"La condition ,n’est pas vérifiée pour l’élément\", i)"
      ],
      "execution_count": null,
      "outputs": [
        {
          "output_type": "stream",
          "text": [
            "La condition ,n’est pas vérifiée pour l’élément 4\n",
            "La condition est vérifiée pour l’élement 5\n",
            "La condition ,n’est pas vérifiée pour l’élément 6\n"
          ],
          "name": "stdout"
        }
      ]
    },
    {
      "cell_type": "code",
      "metadata": {
        "id": "iFYqzUXWE2mm",
        "outputId": "79ac803b-6ee3-4959-bdb7-f787621cb06f"
      },
      "source": [
        "# Combinaison d’une boucle « for...in ... » et d’une clause « if »\n",
        "mych = \"Hello World\"\n",
        "for lettre in mych :\n",
        "    if lettre in \"AEIOUYaeiouy\":\n",
        "        print ('La lettre', lettre, 'est une voyelle')\n",
        "    else :\n",
        "        print ('La lettre', lettre, 'est une consonne')"
      ],
      "execution_count": null,
      "outputs": [
        {
          "output_type": "stream",
          "text": [
            "La lettre H est une consonne\n",
            "La lettre e est une voyelle\n",
            "La lettre l est une consonne\n",
            "La lettre l est une consonne\n",
            "La lettre o est une voyelle\n",
            "La lettre   est une consonne\n",
            "La lettre W est une consonne\n",
            "La lettre o est une voyelle\n",
            "La lettre r est une consonne\n",
            "La lettre l est une consonne\n",
            "La lettre d est une consonne\n"
          ],
          "name": "stdout"
        }
      ]
    },
    {
      "cell_type": "code",
      "metadata": {
        "id": "Uw7qOZbmE2mo",
        "outputId": "20738722-10c4-4b7f-f17a-a3ef5e23843e"
      },
      "source": [
        "# Combinaison d’une boucle « for...in ... » et d’une clause « if »\n",
        "# On tient compte de caractere `espace`\n",
        "mych = \"Hello World\"\n",
        "for lettre in mych :\n",
        "    if lettre in \"AEIOUYaeiouy\":\n",
        "        print ('La lettre', lettre, 'est une voyelle')\n",
        "    elif lettre == \" \" :\n",
        "        print (\"Il s'agit surement d'un espace\")\n",
        "    else :\n",
        "        print ('La lettre', lettre, 'est une consonne')"
      ],
      "execution_count": null,
      "outputs": [
        {
          "output_type": "stream",
          "text": [
            "La lettre H est une consonne\n",
            "La lettre e est une voyelle\n",
            "La lettre l est une consonne\n",
            "La lettre l est une consonne\n",
            "La lettre o est une voyelle\n",
            "Il s'agit surement d'un espace\n",
            "La lettre W est une consonne\n",
            "La lettre o est une voyelle\n",
            "La lettre r est une consonne\n",
            "La lettre l est une consonne\n",
            "La lettre d est une consonne\n"
          ],
          "name": "stdout"
        }
      ]
    },
    {
      "cell_type": "code",
      "metadata": {
        "id": "CWMHBOGuE2mo",
        "outputId": "a222b595-de4c-4c0f-9ead-19ec4cc1a0b2"
      },
      "source": [
        "fruits = ['mangue', 'orange', 'pomme', 'banane']\n",
        "couts = [49, 99, 15, 32]\n",
        "for fruit, prix in zip(fruits, couts):\n",
        "    print(\"Une\",fruit, \"coute\", prix, \"frs CFA.\")    "
      ],
      "execution_count": null,
      "outputs": [
        {
          "output_type": "stream",
          "text": [
            "Une mangue coute 49 frs CFA.\n",
            "Une orange coute 99 frs CFA.\n",
            "Une pomme coute 15 frs CFA.\n",
            "Une banane coute 32 frs CFA.\n"
          ],
          "name": "stdout"
        }
      ]
    },
    {
      "cell_type": "code",
      "metadata": {
        "id": "XUMOwtewE2mq",
        "outputId": "dd6fb764-9f28-4e9e-93a6-49cedb020459"
      },
      "source": [
        "couts = {'mangue': 49, 'orange': 99, 'pomme': 15, 'banane': 32}\n",
        "for fruit, prix in couts.items():\n",
        "    print (\"Une\",fruit, \"coute\", prix, \"frs CFA.\")"
      ],
      "execution_count": null,
      "outputs": [
        {
          "output_type": "stream",
          "text": [
            "Une mangue coute 49 frs CFA.\n",
            "Une orange coute 99 frs CFA.\n",
            "Une pomme coute 15 frs CFA.\n",
            "Une banane coute 32 frs CFA.\n"
          ],
          "name": "stdout"
        }
      ]
    },
    {
      "cell_type": "markdown",
      "metadata": {
        "id": "MbPxPA-PE2mr"
      },
      "source": [
        "### Liste par compréhension\n",
        "Pour créer des listes, Python fournit une facilité syntaxique particulièrement agréable, à savoir les listes (définies) par compréhension (en anglais, *list-comprehensions*). Elles permettent\n",
        "de générer des listes d’une manière très concise, sans avoir à utiliser de boucles si les éléments doivent\n",
        "êtres testés ou traités avant d’être intégrés dans la liste.\n",
        "\n",
        "La syntaxe pour définir une liste par compréhension est proche de celle utilisée en mathématiques pour définir un ensemble par compréhension :"
      ]
    },
    {
      "cell_type": "markdown",
      "metadata": {
        "id": "cSUM-XvyE2ms"
      },
      "source": [
        "<center>\n",
        "    <img src=\"images/list-comprehension.png\" width=\"60%\">\n",
        "    </center>"
      ]
    },
    {
      "cell_type": "markdown",
      "metadata": {
        "id": "KFjGERsTE2ms"
      },
      "source": [
        "L’expression est de la forme :\n",
        "    \n",
        "                    [expression for expression in sequence [if test]] "
      ]
    },
    {
      "cell_type": "code",
      "metadata": {
        "id": "8rGg33mgE2mt",
        "outputId": "cd068d6c-275b-4303-9023-efed207cdd6e"
      },
      "source": [
        "liste = [2, 4, 6, 8, 10]\n",
        "\n",
        "\n",
        "print([3*x for x in liste])\n",
        "print(\"================================================\")\n",
        "print('\\t')\n",
        "\n",
        "\n",
        "\n",
        "print([[x, x**3] for x in liste])\n",
        "print(\"================================================\")\n",
        "print('\\t')\n",
        "\n",
        "\n",
        "\n",
        "print([3*x for x in liste if x > 5] )# on filtre avec une condition\n",
        "print(\"================================================\")\n",
        "print('\\t')\n",
        "\n",
        "\n",
        "\n",
        "print([3*x for x in liste if x**2 < 50]) # idem\n",
        "print(\"================================================\")\n",
        "print('\\t')\n",
        "\n",
        "\n",
        "liste2 = list(range(3))\n",
        "print([x*y for x in liste for y in liste2])\n"
      ],
      "execution_count": null,
      "outputs": [
        {
          "output_type": "stream",
          "text": [
            "[6, 12, 18, 24, 30]\n",
            "================================================\n",
            "\t\n",
            "[[2, 8], [4, 64], [6, 216], [8, 512], [10, 1000]]\n",
            "================================================\n",
            "\t\n",
            "[18, 24, 30]\n",
            "================================================\n",
            "\t\n",
            "[6, 12, 18]\n",
            "================================================\n",
            "\t\n",
            "[0, 2, 4, 0, 4, 8, 0, 6, 12, 0, 8, 16, 0, 10, 20]\n"
          ],
          "name": "stdout"
        }
      ]
    },
    {
      "cell_type": "code",
      "metadata": {
        "id": "jRthWDADE2mx"
      },
      "source": [
        "# Voici par exemple, un moyen efficace d’obtenir la liste des années bissextiles dans un intervalle donné :\n",
        "bissextile = [b for b in range(2000, 2100) if (b % 4 ==0 and b % 100 != 0) or (b % 400 == 0)]"
      ],
      "execution_count": null,
      "outputs": []
    },
    {
      "cell_type": "markdown",
      "metadata": {
        "id": "L9LHpCNiE2m6"
      },
      "source": [
        "### Les instructions break et continue dans une clause « while... » ou « for ... in...»\n",
        "Les mots réservés `break` et `continue` sont utilisés pour modifier le comportement d'une boucle\n",
        "« for...in » ou d'une boucle « while... ». L’instruction `break` permet d’arrêter l’évaluation de la\n",
        "boucle et l’exécution des instructions pour sortir prématurément de la boucle même la\n",
        "condition principale définissant la boucle reste encore vraie. Et l’instruction `continue` permet de\n",
        "suspendre l’exécution des instructions lorsque la condition principale est vérifiée. Les exemples\n",
        "ci-dessous sont des illustrations."
      ]
    },
    {
      "cell_type": "code",
      "metadata": {
        "id": "fhULcq-2E2m7",
        "outputId": "f2c1c547-f3c7-4b74-ffce-ae574954f0dc"
      },
      "source": [
        "# Boucle avec l’instruction break\n",
        "for i in range(5):\n",
        "    if i > 2:\n",
        "        break\n",
        "print (i)"
      ],
      "execution_count": null,
      "outputs": [
        {
          "output_type": "stream",
          "text": [
            "3\n"
          ],
          "name": "stdout"
        }
      ]
    },
    {
      "cell_type": "markdown",
      "metadata": {
        "id": "ipQ3EyhdE2m8"
      },
      "source": [
        "Au départ, cette boucle for vise à afficher tous éléments de la séquence de valeurs allant de 1 à 4. Mais avec l’instruction break définie à l’intérieur de la clause if, la boucle for est stoppée\n",
        "lorsque i devient supérieur à 2."
      ]
    },
    {
      "cell_type": "code",
      "metadata": {
        "id": "j9E9Iub1E2m8",
        "outputId": "659811d1-71b3-45fe-cad7-ded12fc04955"
      },
      "source": [
        "# Boucle avec l’instruction continue\n",
        "for i in range(5):\n",
        "    if i == 2:\n",
        "        continue\n",
        "    print (i)"
      ],
      "execution_count": null,
      "outputs": [
        {
          "output_type": "stream",
          "text": [
            "0\n",
            "1\n",
            "3\n",
            "4\n"
          ],
          "name": "stdout"
        }
      ]
    },
    {
      "cell_type": "markdown",
      "metadata": {
        "id": "vpwIhbrdE2m9"
      },
      "source": [
        "Au départ, cette boucle for est conçue pour afficher tous éléments de la séquence de valeurs\n",
        "allant de 1 à 4. Mais avec l’instruction continue définie à l’intérieur de la clause if, l’instruction\n",
        "print() n’est pas exécutée lorsque i prend la valeur 2. Mais elle est exécutée pour toutes les\n",
        "autres valeurs de la séquence."
      ]
    },
    {
      "cell_type": "markdown",
      "metadata": {
        "id": "eo1VAtOrE2m-"
      },
      "source": [
        "<!--NAVIGATION-->\n",
        "< [3. Objets itérables ou conteneurs](03.Objets_itérables_ou_conteneurs.ipynb)| [Sommaire](Index.ipynb) | [5. Fonctions,Modules et Packages](05.Fonctions_Modules_et_Packages.ipynb) >\n",
        "\n"
      ]
    }
  ]
}