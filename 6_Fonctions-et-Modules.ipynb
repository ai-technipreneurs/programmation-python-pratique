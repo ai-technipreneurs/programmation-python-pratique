{
  "nbformat": 4,
  "nbformat_minor": 0,
  "metadata": {
    "kernelspec": {
      "display_name": "Python 3",
      "language": "python",
      "name": "python3"
    },
    "language_info": {
      "codemirror_mode": {
        "name": "ipython",
        "version": 3
      },
      "file_extension": ".py",
      "mimetype": "text/x-python",
      "name": "python",
      "nbconvert_exporter": "python",
      "pygments_lexer": "ipython3",
      "version": "3.7.3"
    },
    "varInspector": {
      "cols": {
        "lenName": 16,
        "lenType": 16,
        "lenVar": 40
      },
      "kernels_config": {
        "python": {
          "delete_cmd_postfix": "",
          "delete_cmd_prefix": "del ",
          "library": "var_list.py",
          "varRefreshCmd": "print(var_dic_list())"
        },
        "r": {
          "delete_cmd_postfix": ") ",
          "delete_cmd_prefix": "rm(",
          "library": "var_list.r",
          "varRefreshCmd": "cat(var_dic_list()) "
        }
      },
      "types_to_exclude": [
        "module",
        "function",
        "builtin_function_or_method",
        "instance",
        "_Feature"
      ],
      "window_display": false
    },
    "colab": {
      "name": "6_Fonctions-et-Modules.ipynb",
      "provenance": [],
      "include_colab_link": true
    }
  },
  "cells": [
    {
      "cell_type": "markdown",
      "metadata": {
        "id": "view-in-github",
        "colab_type": "text"
      },
      "source": [
        "<a href=\"https://colab.research.google.com/github/ai-technipreneurs/programmation-python-pratique/blob/master/6_Fonctions-et-Modules.ipynb\" target=\"_parent\"><img src=\"https://colab.research.google.com/assets/colab-badge.svg\" alt=\"Open In Colab\"/></a>"
      ]
    },
    {
      "cell_type": "markdown",
      "metadata": {
        "id": "ldG_J0v6FZGL"
      },
      "source": [
        "****\n",
        "\n",
        "# <center> <b> <span style=\"color:orange;\"> Atelier 3P </span> </b></center>\n",
        "\n",
        "## <center> <b> <span style=\"color:green;\">Programmation Python Pratique</span> </b></center>\n",
        "\n",
        "<center>\n",
        "    <a href=\"https://github.com/ai-technipreneurs\" ><img src=\"https://avatars.githubusercontent.com/u/83169416?v=4\" style=\"float:center; max-width: 650px; display: inline\" alt=\"IMSP\"/> </a>\n",
        "    </center>\n",
        "\n",
        "### <center> <b> <span style=\"color:blue;\"> Fonctions et Modules </span> </b></center>\n",
        "\n",
        "#### <left> <b> <span style=\"color:brown;\">Instructeur : </span> </b></left>[ai-technipreneurs](https://github.com/ai-technipreneurs)\n",
        "\n",
        "****"
      ]
    },
    {
      "cell_type": "markdown",
      "metadata": {
        "id": "Q2l9G8K-FZGU"
      },
      "source": [
        "\n",
        "\n",
        "\n",
        "\n",
        " Dans cette section, nous allons étudier\n",
        "comment élaborer et appliquer une fonction sous python. Nous menons une discussion générale sur comment utiliser un\n",
        "module python.\n",
        "\n"
      ]
    },
    {
      "cell_type": "markdown",
      "metadata": {
        "id": "Uix95WIfFZGq"
      },
      "source": [
        "## Fonctions\n",
        "Simplement définie, une fonction est un bout de programme, un ensemble d’instructions\n",
        "agencées dans le but de réaliser une ou plusieurs tâches bien définies. On distingue deux\n",
        "catégories de fonctions sous python, les fonctions prédéfinies et les fonctions écrites par les\n",
        "utilisateurs.\n",
        "\n",
        "- Les fonctions prédéfinies sont des fonctions directement intégrées dans la bibliothèque standard du système python.\n",
        "- Les fonctions-utilisateurs sont écrites soit par l’utilisateur actuel ou par d’autres utilisateurs."
      ]
    },
    {
      "cell_type": "markdown",
      "metadata": {
        "id": "9HJlBga7FZGu"
      },
      "source": [
        "### Quelques fonctions prédéfinies sous python\n",
        "\n",
        " - La fonction `print()`: Comme on le sait déjà, la fonction **print()** a pour rôle d'afficher à l’écran les valeurs des objets spécifiés comme arguments:\n",
        " ```python\n",
        "print(\"Bonjour\", \"à\", \"tous\")\n",
        "x=12\n",
        "print(x)\n",
        "y=[1, \"lundi\",\"12\", 5, 3, \"valeur test\"]\n",
        "print(y)\n",
        "```\n",
        "On peut remplacer le séparateur par défaut (l’espace) par un autre caractère quelconque (ou\n",
        "même par aucun caractère), grâce à l’argument `sep`:\n",
        "```python\n",
        "    print(\"Bonjour\", \"à\", \"tous\", sep= \"****\")\n",
        "    print(\"Bonjour\", \"à\", \"tous\", sep= \"\")\n",
        "```    \n",
        "\n",
        "\n",
        " - La fonction `input()` : La fonction **input()** permet de donner la main à l'utilisateur afin qu'il saisisse la valeur d'un argument donné:\n",
        " ```python\n",
        "    prenom = input(\"Entrez votre prénom : \")\n",
        "    print(\"Bonjour,\", prenom)\n",
        " ```\n",
        " \n",
        " ```python\n",
        "    print(\"Veuillez entrer un nombre positif quelconque : \", end=\" \"  )\n",
        "    ch = input()\n",
        "    num = int(ch) # conversion de la chaîne en un nombre entier\n",
        "    print(\"Le carré de\", num, \"vaut\", num**2)\n",
        " ```   "
      ]
    },
    {
      "cell_type": "markdown",
      "metadata": {
        "id": "WBT5ePtTFZGx"
      },
      "source": [
        "**NB** : Soulignons que la fonction `input()` renvoie toujours une chaîne de caractères. Si vous\n",
        "souhaitez que l’utilisateur entre une valeur numérique, vous devrez donc convertir la valeur\n",
        "entrée (qui sera donc de toute façon de type string) en une valeur numérique du type qui vous\n",
        "convient, par l’intermédiaire des fonctions intégrées `int()` (si vous attendez un entier) ou `float()`\n",
        "(si vous attendez un réel)."
      ]
    },
    {
      "cell_type": "markdown",
      "metadata": {
        "id": "IiwW79EcFZGy"
      },
      "source": [
        "### Les fonctions définies par l’utilisateur\n",
        "\n",
        "Pour définir une fonction sous Python, on utilise le mot clé `def ` pour déclarer le nom de la\n",
        "fonction. La syntaxe générale de définition d’une fonction est la suivante :\n",
        "\n",
        "\n",
        "        def nomDeLaFonction([paramètre1,paramètre2,...,paramètreN]):\n",
        "        \n",
        "            \"\"\"Documentation de la fonction.\"\"\"\n",
        "            \n",
        "            <bloc_instructions>\n",
        "            \n",
        " Dans la définition d’une fonction, la première chaîne de charactères (appelé docstring) servira de docu-\n",
        "mentation pour la fonction, accessible de l’interpréteur via p.ex. `help(temp_f2c)`, ou `temp_f2c?` sous\n",
        "*jupyter*. Elle se doit d’être tout à la fois pertinente, concise et complète. Elle peut également inclure\n",
        "des exemples d’utilisation.           "
      ]
    },
    {
      "cell_type": "markdown",
      "metadata": {
        "id": "9TCEeyfUFZGz"
      },
      "source": [
        "#### Définition d'une fonction simple sans argument\n",
        "L’exemple ci-dessous illustre la définition d’une fonction simple sans argument. Le but de la\n",
        "fonction est d’afficher les 20 premières valeurs de la table de multiplication par 8."
      ]
    },
    {
      "cell_type": "code",
      "metadata": {
        "id": "JkXtIaOGFZG1"
      },
      "source": [
        "def tableMultiplication8():\n",
        "    \"\"\"\n",
        "    Le but de la fonction est d’afficher les 20 premières \n",
        "    valeurs de la table de multiplication par 8.\n",
        "    Entree : Aucune\n",
        "    Sortie : La table de multiplication par 8\n",
        "    \"\"\"\n",
        "    n = 1\n",
        "    while n <=20 :\n",
        "        v = n*8\n",
        "        print(n, 'x', 8, '=', v, sep =' ')\n",
        "        n = n +1"
      ],
      "execution_count": null,
      "outputs": []
    },
    {
      "cell_type": "markdown",
      "metadata": {
        "id": "i_4mcwYFFZG7"
      },
      "source": [
        "Pour exécuter la fonction `tableMultiplication8()` que nous venons de définir, il suffit de le référencer en indiquant son nom comme suit (n’importe où dans le programme principal).        "
      ]
    },
    {
      "cell_type": "code",
      "metadata": {
        "id": "xIMR2wocFZG9"
      },
      "source": [
        "tableMultiplication8() # appelle la fonction tableMultiplication8()"
      ],
      "execution_count": null,
      "outputs": []
    },
    {
      "cell_type": "markdown",
      "metadata": {
        "id": "uUIlAD46FZG-"
      },
      "source": [
        "**** \n",
        "<left> <b> <span style=\"color:brown;\">Exercice: </span> </b></left>\n",
        "\n",
        "Proposer une version de la fonction `tableMultiplication8()` à partir d’une\n",
        "boucle « for ».\n",
        "****"
      ]
    },
    {
      "cell_type": "markdown",
      "metadata": {
        "id": "6ypMqU3eFZG_"
      },
      "source": [
        "#### Définition d'une fonction dont les arguments sont des paramètres\n",
        "Un paramètre est une variable qui prend une valeur constante. Dans l'exemple précédent, nous\n",
        "avons élaboré une table de multiplication par 8. Nous pouvons généraliser cette fonction de\n",
        "sorte que qu’elle puisse renvoyée la table de multiplication de n’importe quel nombre spécifié\n",
        "comme argument. Ces nombres étant des paramètres, il s’agit alors de définir une fonction\n",
        "dont les arguments sont les paramètres. Voir l’exemple ci-dessous"
      ]
    },
    {
      "cell_type": "code",
      "metadata": {
        "id": "xf5cbad3FZHA"
      },
      "source": [
        "def tableMultiplication(base):\n",
        "    n = 1\n",
        "    while n <=20 :\n",
        "        v=n*base\n",
        "        print(n, 'x', base, '=', v, sep =' ')\n",
        "        n = n +1"
      ],
      "execution_count": null,
      "outputs": []
    },
    {
      "cell_type": "code",
      "metadata": {
        "id": "rPYeiA38FZHB"
      },
      "source": [
        "tableMultiplication(2) # renvoie la table de multiplication par 2\n",
        "tableMultiplication(8) # renvoie la table de multiplication par 8\n",
        "tableMultiplication(11) # renvoie la table de multiplication par 11"
      ],
      "execution_count": null,
      "outputs": []
    },
    {
      "cell_type": "markdown",
      "metadata": {
        "id": "ivKVffCIFZHD"
      },
      "source": [
        "#### Un ou plusieurs paramètres, pas de retour\n",
        "Exemple sans l’instruction `return`, ce qu’on appelle souvent une **procédure**. Dans\n",
        "ce cas la fonction renvoie implicitement la valeur `None` :\n",
        "    \n",
        "```python    \n",
        "def table(base, debut, fin):\n",
        "\"\"\"Affiche la table des <base> de <debut> à <fin>.\"\"\"\n",
        "    n = debut\n",
        "    while n <= fin:\n",
        "        print(n, ’x’, base, ’=’, n * base, end=” ”)\n",
        "        n += 1\n",
        "```\n",
        "\n",
        "```python\n",
        "# exemple d’appel :\n",
        "table(7, 2, 11)\n",
        "# 2 x 7 = 14 3 x 7 = 21 4 x 7 = 28 5 x 7 = 35 6 x 7 = 42\n",
        "# 7 x 7 = 49 8 x 7 = 56 9 x 7 = 63 10 x 7 = 70 11 x 7 = 77\n",
        "```"
      ]
    },
    {
      "cell_type": "markdown",
      "metadata": {
        "id": "WMWVzW97FZHD"
      },
      "source": [
        "#### Un ou plusieurs paramètres, utilisation du retour\n",
        "\n",
        "**Exemple avec utilisation d’un `return` unique :**\n",
        "\n",
        "\n",
        "```python\n",
        "\n",
        "def carre(x):\n",
        "    return x**2\n",
        "\n",
        "def aireCarre(r):\n",
        "    return carre(x)\n",
        "\n",
        "# Saisie du cote et affichage de l'aire\n",
        "cote = float(input('Cote : ''))\n",
        "print(”Aire du carre =”, aireCarre(cote))\n",
        "```\n",
        "\n",
        "\n",
        "**Exemple avec utilisation d’un return multiple :**\n",
        "```python\n",
        "PI = 3.14\n",
        "def surfaceVolumeSphere(r):\n",
        "        surf = 4.0 *PI* r**2\n",
        "        vol = surf * r/3\n",
        "    return surf, vol\n",
        "```\n",
        "```python\n",
        "# programme principal\n",
        "rayon = float(input(’Rayon : ’))\n",
        "s, v = surfaceVolumeSphere(rayon)\n",
        "print(”Sphère de surface {:g} et de volume {:g}”.format(s, v))\n",
        "```"
      ]
    },
    {
      "cell_type": "markdown",
      "metadata": {
        "id": "oz8mtqYaFZHE"
      },
      "source": [
        "### Passage d’une fonction en paramètre\n",
        "\n",
        "```python\n",
        "def tabuler(fonction, borneInf, borneSup, nbPas):\n",
        "    \"\"\"Affichage des valeurs de <fonction>. On doit avoir (borneInf < borneSup) et (nbPas > 0)\"\"\"\n",
        "    h, x = (borneSup - borneInf) / float(nbPas), borneInf\n",
        "    while x <= borneSup:\n",
        "        y = fonction(x)\n",
        "        print(”f({:.2f}) = {:.2f}”.format(x, y))\n",
        "        x += h\n",
        "```\n",
        "\n",
        "```python\n",
        "def maFonction(x):\n",
        "    return 2*x**3 + x - 5\n",
        "```\n",
        "```python\n",
        "tabuler(maFonction, -5, 5, 10)\n",
        "# f(-5.00) = -260.00\n",
        "# f(-4.00) = -137.00\n",
        "# ...\n",
        "# f(5.00) = 250.00\n",
        "```"
      ]
    },
    {
      "cell_type": "markdown",
      "metadata": {
        "id": "xB-vGqlqFZHF"
      },
      "source": [
        "### Définition des valeurs par défaut pour les arguments d’une fonction\n",
        "Lors de la définition d’une fonction, il est souvent conseillé de définir des valeurs par défaut\n",
        "pour certain arguments (notamment les arguments optionnels). En définissant les valeurs par défaut pour les arguments d’une fonction, il est possible\n",
        "d’appeler le programme avec une partie seulement des arguments attendus. Exemples :\n",
        "\n",
        "```python\n",
        "   def salutation(nom, titre ='Monsieur'):\n",
        "        print(\"Bonjour\", titre, nom)\n",
        "```\n",
        "\n",
        "La fonction salutation ainsi définie a deux arguments : nom et titre. Une valeur par défaut a été\n",
        "définie pour l’argument. Ainsi lorsque la fonction salutation est appelée avec seulement\n",
        "l’argument nom (omettant l’argument), la fonction renvoie la valeur par défaut Monsieur.\n",
        "Exemple :\n",
        "\n",
        "```python\n",
        "   salutation('Dupont') # renvoie Bonjour Monsieur Dupont\n",
        "```    \n",
        "\n",
        "Mais lorsque la fonction est appelée avec les deux arguments, la valeur par défaut est ignorée.\n",
        "Exemple :\n",
        "En définissant les valeurs par défaut pour les arguments d’une fonction, il est possible\n",
        "d’appeler le programme avec une partie seulement des arguments attendus. Exemple:\n",
        "```python\n",
        "   salutation('Dupont', 'Mademoiselle')\n",
        "```"
      ]
    },
    {
      "cell_type": "markdown",
      "metadata": {
        "id": "RHv5F3b5FZHK"
      },
      "source": [
        "<left> <b> <span style=\"color:brown;\"> NB : Les arguments sans valeur par défaut doivent être spécifiés avant les arguments avec les\n",
        "valeurs par défaut. Par exemple, la définition ci-dessous est incorrecte et renvoie une erreur\n",
        "lors de l’exécution.</span> </b></left>\n",
        "```python\n",
        "   def salutation(titre='Monsieur', nom):\n",
        "```    "
      ]
    },
    {
      "cell_type": "code",
      "metadata": {
        "id": "kDix6hqeFZHX"
      },
      "source": [
        "def salutation(titre='Monsieur', nom):"
      ],
      "execution_count": null,
      "outputs": []
    },
    {
      "cell_type": "markdown",
      "metadata": {
        "id": "tH_q_DXAFZHY"
      },
      "source": [
        "### Les fonctions lambda\n",
        "Une fonction lambda est une fonction anonyme c'est-à-dire une fonction constituée d’un bloc\n",
        "d’instructions appelable et réutilisable comme une fonction, mais sans nom. Une fonction\n",
        "lambda est généralement utilisée pour des fonctions très courtes avec peu d’instructions\n",
        "(nécessitant pas alors d’écrire une fonction classique avec le mot clé def et un appel).\n",
        "\n",
        "La syntaxe générale de définition d'une fonction lamda est la suivante:\n",
        "\n",
        "```python\n",
        "   lambda arg1, arg2,..., argN : bloc instructions(ou formules)\n",
        "```\n",
        "\n",
        "L’exemple ci-dessus illustre la défintion d’une fonction lambda.\n",
        "```python\n",
        "   lambda x, y : x * y\n",
        "```    "
      ]
    },
    {
      "cell_type": "markdown",
      "metadata": {
        "id": "ptE__I5kFZHZ"
      },
      "source": [
        "Notons toutefois que même si la fonction lambda n’est pas définie avec un nom, pour\n",
        "récupérer la valeur renvoyée, lors de l’appel de la fonction, il faut l’assigner à une nouvelle\n",
        "variable. L’exemple ci-dessous illustre l’appel de la fonction lambda précédente en prenant x=2\n",
        "et y=3.\n",
        "```python\n",
        "   x = lambda x, y : x * y\n",
        "   x(2,3)\n",
        "```"
      ]
    },
    {
      "cell_type": "code",
      "metadata": {
        "id": "cmZ-RyJAFZHa"
      },
      "source": [
        "x = lambda x, y : x * y\n",
        "x(2,3)"
      ],
      "execution_count": null,
      "outputs": []
    },
    {
      "cell_type": "markdown",
      "metadata": {
        "id": "0DKABQcFFZHb"
      },
      "source": [
        "<left> <b> <span style=\"color:red;\">\n",
        "Note : Lorsque nous définissons des variables à l’intérieur d’une fonction, ces variables ne sont\n",
        "accessibles que pour cette fonction elle-même. On dit que ces variables sont des variables\n",
        "`« locales » ` à la fonction. Mais lorsque les variables sont définies à l’extérieur de la fonction dans\n",
        "le corps du programme principal. Ces variables sont appelées variables `« globales »`. Le contenu d’une variable globale est visible et accessible à partir de l’intérieur d’une fonction,\n",
        "mais cette fonction ne peut pas modifier la valeur de la variable.</span> </b></left>"
      ]
    },
    {
      "cell_type": "code",
      "metadata": {
        "id": "aWAXdwPXFZHd"
      },
      "source": [
        "def myFunction():\n",
        "    p = 20\n",
        "    print(p, q)\n",
        "p=15\n",
        "q=38\n",
        "\n",
        "print(p, q) # renvoie 15 38\n",
        "myFunction() # appelle la fonction, renvoie 20 38\n",
        "print(p, q) # renvoie 15 38"
      ],
      "execution_count": null,
      "outputs": []
    },
    {
      "cell_type": "code",
      "metadata": {
        "id": "x64nWbknFZHe"
      },
      "source": [
        "Cependant, on peut modifier ce comportement par défaut en permettant à la fonction de\n",
        "modifier la valeur de la variable globale. Dans ce cas, il faut explicitement définir la variable\n",
        "comme global à l’intérieur de la fonction. Exemple:"
      ],
      "execution_count": null,
      "outputs": []
    },
    {
      "cell_type": "code",
      "metadata": {
        "id": "Ue5Z85OKFZHg"
      },
      "source": [
        "def myFunction():\n",
        "    global p\n",
        "    p = 20\n",
        "    print(p, q)\n",
        "p=15\n",
        "q=38\n",
        "print(p, q) # renvoie 15 38\n",
        "myFunction() # appelle la fonction, renvoie 20 38\n",
        "print(p, q) # renvoie 20 38"
      ],
      "execution_count": null,
      "outputs": []
    },
    {
      "cell_type": "markdown",
      "metadata": {
        "id": "eLPM0aWXFZHg"
      },
      "source": [
        "### Nombre d’arguments arbitraire : passage d’un tuple"
      ]
    },
    {
      "cell_type": "code",
      "metadata": {
        "id": "b11za1b8FZHh"
      },
      "source": [
        "def somme(*args):\n",
        "    \"\"\"\" Renvoie la somme de <tuple>.\"\"\"\n",
        "    resultat = 0\n",
        "    for nombre in args:\n",
        "        resultat += nombre\n",
        "    return resultat\n",
        "\n",
        "# Exemples d’appel :\n",
        "print(somme(23)) # 23\n",
        "print(somme(23, 42, 13)) # 78"
      ],
      "execution_count": null,
      "outputs": []
    },
    {
      "cell_type": "markdown",
      "metadata": {
        "id": "toFX4qCZFZHi"
      },
      "source": [
        "Si la fonction possède plusieurs arguments, le *tuple* est en dernière position. Il est aussi possible de passer un tuple (en fait une séquence) à l’appel qui sera décompressé\n",
        "en une liste de paramètres d’une fonction « classique » :\n",
        "\n",
        "```python\n",
        "   def somme(a, b, c):\n",
        "        return a+b+c\n",
        "    \n",
        "   # Exemple d’appel :\n",
        "   elements = (2, 4, 6)\n",
        "   print(somme(*elements)) # 12\n",
        "\n",
        "```"
      ]
    },
    {
      "cell_type": "markdown",
      "metadata": {
        "id": "IMFuErogFZHp"
      },
      "source": [
        "### Nombre d’arguments arbitraire : passage d’un dictionnaire"
      ]
    },
    {
      "cell_type": "code",
      "metadata": {
        "id": "PPYcCS0vFZHt"
      },
      "source": [
        "def unDict(**kargs):\n",
        "    return kargs\n",
        "\n",
        "# Exemples d’appels\n",
        "## par des paramètres nommés :\n",
        "print(unDict(a=23, b=42)) # {’a’: 23, ’b’: 42}\n",
        "\n",
        "## en fournissant un dictionnaire :\n",
        "mots = {'d': 85, 'e': 14, 'f':9}\n",
        "print(unDict(**mots)) # {’e’: 14, ’d’: 85, ’f’: 9}"
      ],
      "execution_count": null,
      "outputs": []
    },
    {
      "cell_type": "markdown",
      "metadata": {
        "id": "iXobAyRFFZHv"
      },
      "source": [
        "### Documenter une fonction\n",
        "Après avoir élaboré une fonction (surtout une fonction relativement long et complexe), il et\n",
        "fortement de la documenter afin de permettre à d’autres utilisateurs de se l’approprier\n",
        "rapidement. La documentation d’une fonction est généralement une chaîne de caractères qui\n",
        "fournit une générale de la fonction ainsi que les aides utiles. Cette description est\n",
        "généralement spécifiée après la déclaration du nom de la fonction avant la définition des\n",
        "autres blocs d’instructions. L’exemple ci-dessous illustre comment documenter une fonction et\n",
        "comment accéder à cette document en cas de besoin."
      ]
    },
    {
      "cell_type": "code",
      "metadata": {
        "id": "HQubFOVfFZHw"
      },
      "source": [
        "def volumeSphere():\n",
        "    \"\"\" Ce programme calcule le volume d'un cube.\\n La fonction est définie avec un seul argument obligatoire r\n",
        "    qui représente le rayon du cercle.\n",
        "    Celui-ci peut prendre n'importe quelle valeur positive\"\"\"\n",
        "    r=float(input(\"Saisir le rayon de la sphère\"))\n",
        "    PI = 3.14\n",
        "    return (4 * PI * r**3)/3"
      ],
      "execution_count": null,
      "outputs": []
    },
    {
      "cell_type": "markdown",
      "metadata": {
        "id": "dLqPKvOWFZHz"
      },
      "source": [
        "Dans la définition de la fonction volumeSphere, la chaine de caractères ne joue aucun rôle\n",
        "fonctionnel dans le script : elle est traitée par Python comme un simple commentaire, mais qui\n",
        "est mémorisé comme une documentation interne sur la fonction. Cette document est stockée\n",
        "dans un attribut appelé `__doc__`. Pour afficher cette attribut, on fait:"
      ]
    },
    {
      "cell_type": "code",
      "metadata": {
        "id": "H_pCma-GFZH0"
      },
      "source": [
        "print(volumeSphere.__doc__)"
      ],
      "execution_count": null,
      "outputs": []
    },
    {
      "cell_type": "markdown",
      "metadata": {
        "id": "9m6eB1lDFZH1"
      },
      "source": [
        "## Modules\n",
        "\n",
        "\n",
        "Un programme Python est généralement composé de plusieurs fichiers sources,\n",
        "appelés *modules*. Leur nom est suffixé `.py`. S’ils sont correctement codés les modules doivent être indépendants les uns des\n",
        "autres pour être réutilisés à la demande dans d’autres programmes.\n",
        "\n",
        "`Les modules sont des fichiers qui regroupent des ensembles de fonctions`.\n",
        "Un **module** est un fichier indépendant permettant de scinder un programme en plusieurs scripts.\n",
        "Ce mécanisme permet d’élaborer efficacement des bibliothèques de fonctions ou de classes.\n",
        "Avantages des modules :\n",
        "- réutilisation du code ;\n",
        "- la documentation et les tests peuvent être intégrés au module ;\n",
        "- réalisation de services ou de données partagés ;\n",
        "- partition de l’espace de noms du système.\n",
        "\n",
        "Tout comme les dictionnaires sont des collections d’objets (listes, tuples, set, etc..), les\n",
        "modules sont des collections de fonctions qui permettent de réalisées des tâches apparentées.\n",
        "Par exemple, le module math, contient un certain nombre de fonctions mathématiques telles\n",
        "que sinus, cosinus, tangente, racine carrée, etc. De nombreux modules sont déjà pré-installés dans la bibliothèque standard de python.\n",
        "Toutefois, pour réaliser certaines tâches spécifiques, on est souvent amené à installer des\n",
        "modules supplémentaires (ex : numpy, scipy, matplotlib, pandas, etc..)"
      ]
    },
    {
      "cell_type": "markdown",
      "metadata": {
        "id": "Bisw0NiKFZH1"
      },
      "source": [
        "### Import d’un module\n",
        "\n",
        "Deux syntaxes possibles :\n",
        "    \n",
        "- la commande `import nom_module` importe la totalité des objets du module :  \n",
        "  ```python\n",
        "     import tkinter\n",
        "  ```\n",
        "- la commande `from <nom_module> import obj1, obj2`... n’importe\n",
        "que les objets `obj1, obj2...` du module : \n",
        "  ```python\n",
        "     from math import pi, sin, log\n",
        "  ```\n",
        "  \n",
        "Il est conseillé d’importer dans l’ordre :\n",
        "- les modules de la bibliothèque standard ;\n",
        "- les modules des bibliothèques tierces ;\n",
        "- les modules personnels.  "
      ]
    },
    {
      "cell_type": "markdown",
      "metadata": {
        "id": "lYl0lA9CFZH4"
      },
      "source": [
        "### La bibliothèque standard\n",
        "On dit souvent que Python est livré « piles comprises » (batteries included) tant sa biblio-\n",
        "thèque standard, riche de plus de 200 packages et modules, répond aux problèmes courants\n",
        "les plus variés."
      ]
    },
    {
      "cell_type": "code",
      "metadata": {
        "id": "MZ1ZlZXAFZH7"
      },
      "source": [
        "import math\n",
        "dir(math)  # Pour voir l’ensemble des fonction qui forment le module."
      ],
      "execution_count": null,
      "outputs": []
    },
    {
      "cell_type": "code",
      "metadata": {
        "id": "5Z41VrUaFZH-"
      },
      "source": [
        "help(math.gamma) # renvoie l’aide sur la fonction gamma du module math"
      ],
      "execution_count": null,
      "outputs": []
    },
    {
      "cell_type": "code",
      "metadata": {
        "id": "FmCVWtUvFZH_"
      },
      "source": [
        "from math import sin # Importe la fonction sinus\n",
        "from math import cos, sin, tan, pi # Importe respectivement les fonction cosinus, sinus, tangente et la valeur pi (3.14)."
      ],
      "execution_count": null,
      "outputs": []
    },
    {
      "cell_type": "code",
      "metadata": {
        "id": "nXvuLi2IFZIB"
      },
      "source": [
        "from math import * # Importe toutes les fonction associées à math (équivalent à import math)"
      ],
      "execution_count": null,
      "outputs": []
    },
    {
      "cell_type": "markdown",
      "metadata": {
        "id": "Bg1zvB8cFZIC"
      },
      "source": [
        "<left> <b> <span style=\"color:brown;\">Quelques utilisations de la fonction math : </span> </b></left>\n",
        "```python\n",
        "   from math import *\n",
        "    v=16 # définit une variable v\n",
        "    x = math.sqrt (v) # Renvoie la racine carrée de v\n",
        "    y = math.e(v) # Renvoie l’exponentiel de v\n",
        "    z = math.log(v) # Renvoie le logarithme népérien de v\n",
        "\n",
        "```"
      ]
    },
    {
      "cell_type": "markdown",
      "metadata": {
        "id": "H0PodGl1FZID"
      },
      "source": [
        "<left> <b> <span style=\"color:brown;\">Quelques exemples d’utilisation du module random: </span> </b></left>\n",
        "\n",
        "```python\n",
        "   from random import random, randint, seed, uniform, randrange,sample, shuffle # Importe quelques fonctions utiles de random\n",
        " \n",
        "```"
      ]
    },
    {
      "cell_type": "code",
      "metadata": {
        "id": "e4G6krf0FZIE"
      },
      "source": [
        "import random\n",
        "x=random.random() # Renvoie un nombre aléatoire.\n",
        "print(x)"
      ],
      "execution_count": null,
      "outputs": []
    },
    {
      "cell_type": "code",
      "metadata": {
        "id": "rNO8iUncFZIJ"
      },
      "source": [
        "import random\n",
        "x=random.randint(5,17) # Renvoie un nombre aléatoire entier entre 5 et 17.\n",
        "print(x)"
      ],
      "execution_count": null,
      "outputs": []
    },
    {
      "cell_type": "code",
      "metadata": {
        "id": "chj7zEc9FZIO"
      },
      "source": [
        "import random\n",
        "x=random.uniform(5,17) # Renvoie un nombre aléatoire uniforme réel entre 5 et 17.\n",
        "print(x)"
      ],
      "execution_count": null,
      "outputs": []
    },
    {
      "cell_type": "markdown",
      "metadata": {
        "id": "_Ug8egFbFZIP"
      },
      "source": [
        "## Amusez a regarder les modules `turtle`, `time`, `decimal`, `fractions`, `cmath`."
      ]
    },
    {
      "cell_type": "markdown",
      "metadata": {
        "id": "7N0cB4sHFZIR"
      },
      "source": [
        "### Bibliothèques tierces\n",
        "Outre les modules intégrés à la distribution standard de Python, on trouve des biblio-\n",
        "thèques dans tous les domaines :\n",
        "- scientifique ;\n",
        "- bases de données ;\n",
        "- tests fonctionnels et contrôle de qualité ;\n",
        "- 3D ;\n",
        "- ...\n",
        "\n",
        "Le site [PYPI](pypi.python.org/pypi) (The Python Package Index) recense des milliers de modules\n",
        "et de packages !"
      ]
    },
    {
      "cell_type": "markdown",
      "metadata": {
        "id": "1VbUG-8vH9E6"
      },
      "source": [
        "<!--NAVIGATION-->\n",
        "<  [5. Fonctions et Modules](https://colab.research.google.com/github/ai-technipreneurs/programmation-python-pratique/blob/master/6_Fonctions-et-Modules.ipynb) | [Sommaire](https://colab.research.google.com/github/ai-technipreneurs/programmation-python-pratique/blob/master/Index.ipynb) >"
      ]
    }
  ]
}