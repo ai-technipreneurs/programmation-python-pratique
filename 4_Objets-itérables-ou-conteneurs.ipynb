{
  "nbformat": 4,
  "nbformat_minor": 0,
  "metadata": {
    "kernelspec": {
      "display_name": "Python 3",
      "language": "python",
      "name": "python3"
    },
    "language_info": {
      "codemirror_mode": {
        "name": "ipython",
        "version": 3
      },
      "file_extension": ".py",
      "mimetype": "text/x-python",
      "name": "python",
      "nbconvert_exporter": "python",
      "pygments_lexer": "ipython3",
      "version": "3.7.3"
    },
    "varInspector": {
      "cols": {
        "lenName": 16,
        "lenType": 16,
        "lenVar": 40
      },
      "kernels_config": {
        "python": {
          "delete_cmd_postfix": "",
          "delete_cmd_prefix": "del ",
          "library": "var_list.py",
          "varRefreshCmd": "print(var_dic_list())"
        },
        "r": {
          "delete_cmd_postfix": ") ",
          "delete_cmd_prefix": "rm(",
          "library": "var_list.r",
          "varRefreshCmd": "cat(var_dic_list()) "
        }
      },
      "types_to_exclude": [
        "module",
        "function",
        "builtin_function_or_method",
        "instance",
        "_Feature"
      ],
      "window_display": false
    },
    "colab": {
      "name": "4-Objets-itérables-ou-conteneurs.ipynb",
      "provenance": [],
      "include_colab_link": true
    }
  },
  "cells": [
    {
      "cell_type": "markdown",
      "metadata": {
        "id": "view-in-github",
        "colab_type": "text"
      },
      "source": [
        "<a href=\"https://colab.research.google.com/github/ai-technipreneurs/programmation-python-pratique/blob/master/4_Objets-it%C3%A9rables-ou-conteneurs.ipynb\" target=\"_parent\"><img src=\"https://colab.research.google.com/assets/colab-badge.svg\" alt=\"Open In Colab\"/></a>"
      ]
    },
    {
      "cell_type": "markdown",
      "metadata": {
        "id": "s0Rcox4XDWhr"
      },
      "source": [
        "****\n",
        "\n",
        "# <center> <b> <span style=\"color:orange;\"> Atelier 3P </span> </b></center>\n",
        "\n",
        "## <center> <b> <span style=\"color:green;\">Programmation Python Pratique</span> </b></center>\n",
        "\n",
        "<center>\n",
        "    <a href=\"https://github.com/ai-technipreneurs\" ><img src=\"https://avatars.githubusercontent.com/u/83169416?v=4\" style=\"float:center; max-width: 650px; display: inline\" alt=\"IMSP\"/> </a>\n",
        "    </center>\n",
        "\n",
        "### <center> <b> <span style=\"color:blue;\"> Objets itérables ou conteneurs</span> </b></center>\n",
        "\n",
        "#### <left> <b> <span style=\"color:brown;\">Instructeur : </span> </b></left>[ai-technipreneurs](https://github.com/ai-technipreneurs)\n",
        "\n",
        "****"
      ]
    },
    {
      "cell_type": "markdown",
      "metadata": {
        "id": "UxAYlMedDWhy"
      },
      "source": [
        "Python offre *les conteneurs*.\n",
        "De façon générale, un conteneur, comme son nom l'indique, est un objet composite destiné à contenir d’autres objets. Ce calepin détaille les listes et les dictionnaires, et donne également un bref apercu sur les ensembles et les tuples.\n"
      ]
    },
    {
      "cell_type": "markdown",
      "metadata": {
        "id": "vM7Fmo2RDWh3"
      },
      "source": [
        "Comme signalé dans les sections précédentes, un programme python fonctionne toujours sur\n",
        "la base des manipulations des objets. Les instructions (qu’elles soient définies dans un code\n",
        "libre, dans une clause if ou dans une boucle while ou for) sont toujours exécutées sur des\n",
        "objets. Les variables telles que discutées précédemment représentent un type particulier\n",
        "d’objet python. Sinon d’une manière générale, les instructions dans un programme python\n",
        "sont définies à partir d’une collection d’objets qui se présentent sous différentes formes de\n",
        "séquences de valeurs. Cette séquence de valeurs peut être par exemple constituée par un\n",
        "ensemble de variables à valeur unique. Ce qui signifie finalement qu’une variable définie à\n",
        "partir d’une seule valeur n’est généralement pas suffisant pour former l’architecture d’un\n",
        "programme. Dans le langage python, nous avons:\n",
        "    \n",
        "   - Un objet **liste** est une séquence de valeurs (numériques et /ou caractères) **indicées** et\n",
        "spécifiées à l’intérieur des **crochets**, séparées par des virgules. Exemple :\n",
        "      ```python\n",
        "         x = [ 1 , 5 , 8, 10 ,4 , 50, 8 ] # Liste formée uniquement de chiffres\n",
        "         y = [\"Olivier\",\"ENGEL\",\"Strasbourg\"] # liste formée uniquement de caractères\n",
        "         z = [1, \"Olivier\",5 , 8, \"ENGEL\",10, 4, 50, \"Strasbourg\"] # liste formée de chiffres et de caractères.\n",
        "       \n",
        "      ``` \n",
        "     Un objet liste peut être généré manuellement en indiquant les valeurs entre crochets ou\n",
        "     automatiquement en utilisant la fonction `list()`.\n",
        "      ```python\n",
        "        x = list(range(1,10))\n",
        "        print(x) # renvoie [1, 2, 3, 4, 5, 6, 7, 8, 9]\n",
        "     ```\n",
        "   - Un objet **tuple** est une séquence de valeurs (numériques et /ou caractères) **indicées** et\n",
        "spécifiées à l’intérieur des **parenthèses**, séparées par des virgules. Exemple :\n",
        "      ```python\n",
        "         x = ( 1 , 5 , 8, 10 ,4 , 50, 8 ) # tuple formé uniquement de chiffres\n",
        "         y = (\"Olivier\",\"ENGEL\",\"Strasbourg\") # tuple formé uniquement de caractères\n",
        "         z = (1, \"Olivier\",5 , 8, \"ENGEL\",10, 4, 50, \"Strasbourg\") # tuple formé de chiffres et de caractères.\n",
        "       \n",
        "      ``` \n",
        "     Un objet tuple peut être généré manuellement en indiquant les valeurs entre crochets ou\n",
        "     automatiquement en utilisant la fonction `tuple()`.\n",
        "      ```python\n",
        "        x = tuple(range(1,10))\n",
        "        print(x) # renvoie (1, 2, 3, 4, 5, 6, 7, 8, 9)\n",
        "     ```\n",
        "     \n",
        "   - Un objet **set** est une séquence de valeurs (numériques et /ou caractères) **non\n",
        "dupliquées** et **non indicées**, et spécifiées à l’intérieur des **accolades**, séparées par des\n",
        "virgules. Exemple :\n",
        "      ```python\n",
        "         x = { 1 , 5 , 8, 10 ,4 , 50, 8 } # set formé uniquement de chiffres\n",
        "         y = {\"Olivier\",\"ENGEL\",\"Strasbourg\"} # set formé uniquement de caractères\n",
        "         z = {1, \"Olivier\",5 , 8, \"ENGEL\",10, 4, 50, \"Strasbourg\"} # set formé de chiffres et de caractères.\n",
        "       \n",
        "      ``` \n",
        "     Un objet tuple peut être généré manuellement en indiquant les valeurs entre crochets ou\n",
        "     automatiquement en utilisant la fonction `set()`.\n",
        "      ```python\n",
        "         v = [2 , 4 , \"orange\", \"viande\", 4, \"orange\"]\n",
        "         V = set(v)\n",
        "         print(V) # renvoie {2, 'orange', 4, 'viande'}\n",
        "      \n",
        "      ```\n",
        "   - Un objet **dictionnaire** est une séquence de valeurs (numériques et /ou caractères)\n",
        "**indicées** par des clés et spécifiées à l’intérieur des **accolades** et séparées par des\n",
        "virgules. A chaque `clé` correspond une ou plusieurs `valeurs`. Un dictionnaire est\n",
        "constitué d’un ensemble `clé-valeurs`. Exemple :   \n",
        "      ```python\n",
        "         x = {'nom':'Jean', 'poids':70, 'taille':1.75} # Clés à valeurs uniques.\n",
        "         y = {'Jean':[25,70,1.75],'Paul':[30,65,1.80],'Pierre':[35,75,1.65]} # Clé à plusieurs valeurs formée par une liste\n",
        "      \n",
        "      ```\n",
        "   Pour le dictionnaire `x`, les clés sont nom, poids et taille. Les valeurs correspondant à\n",
        "chacun de ces clés sont respectivement jean, 70 et 1.75.\n",
        "Pour le dictionnaire `y`, les clés sont Jean, Paul et Pierre alors que les valeurs sont des\n",
        "listes constituées de trois valeurs (âge, poids et taille).\n",
        "Un objet dictionnaire peut être généré manuellement en indiquant les valeurs entre\n",
        "accolades ou automatiquement en utilisant la fonction `dict()` pour créer un dictionnaire\n",
        "vide. Nous reviendrons plus en détails sur la définition des dictionnaires.   \n",
        "\n",
        "Les quatres objets que nous venons de citer sont aussi ceux que nous appelons les `conteneurs` pour la simple raison qu'ils `peuvent contenir` quelque chose. Ainsi, les chaînes de caractères, listes, tuples et dictionnaires sont les objets itérables de base en Python. Les\n",
        "listes et dictionnaires sont mutables – leurs éléments constitutifs peuvent être changés à la volée – tandis\n",
        "que chaînes de caractères et les tuples sont immuables.\n",
        "\n",
        "Les trois derniers objets que nos citons ne sont pas itérables mais nous les mentionnons et en ferons une etude plus detaillee et assez mintieuse dans la suite.\n",
        "\n",
        "   - Un objet **fonction** est un programme conçu pour réaliser une opération bien précise.\n",
        "Par exemple la fonction `print()` permet d’afficher à l’écran les résultats de l’instruction\n",
        "qu’on lui fournit;\n",
        "   - Un objet **classe** est une collection de fonctions c'est-à-dire une association de fonctions\n",
        "apparentées;\n",
        "   - Un objet **module** est une collection de classe c'est-à-dire une collection de classes\n",
        "apparentées."
      ]
    },
    {
      "cell_type": "markdown",
      "metadata": {
        "id": "WuWITgy4DWh8"
      },
      "source": [
        "## Listes\n",
        "Un objet liste peut être déclaré et défini manuellement ou en utilisant la fonction `list()`. On\n",
        "distingue deux catégories de listes. Les listes à une dimension (ou listes simples) et les listes à\n",
        "plusieurs dimensions."
      ]
    },
    {
      "cell_type": "code",
      "metadata": {
        "id": "M4vO8fwcDWiA",
        "outputId": "12a74bab-7695-4507-cae2-f84d4bb67897"
      },
      "source": [
        "voltage = [-2.0, -1.0, 0.0, 1.0, 2.0]\n",
        "\n",
        "courant = [-1.0, -0.5, 0.0, 0.5, 1.0]\n",
        "\n",
        "type(courant) # Renvoie le type de la variable courant"
      ],
      "execution_count": null,
      "outputs": [
        {
          "output_type": "execute_result",
          "data": {
            "text/plain": [
              "list"
            ]
          },
          "metadata": {
            "tags": []
          },
          "execution_count": 1
        }
      ]
    },
    {
      "cell_type": "code",
      "metadata": {
        "id": "0g6apwPIDWiK",
        "outputId": "86899613-e44e-426d-83b6-7b13504fe4c4"
      },
      "source": [
        "help(voltage.sort())"
      ],
      "execution_count": null,
      "outputs": [
        {
          "output_type": "stream",
          "text": [
            "Help on NoneType object:\n",
            "\n",
            "class NoneType(object)\n",
            " |  Methods defined here:\n",
            " |  \n",
            " |  __bool__(self, /)\n",
            " |      self != 0\n",
            " |  \n",
            " |  __repr__(self, /)\n",
            " |      Return repr(self).\n",
            " |  \n",
            " |  ----------------------------------------------------------------------\n",
            " |  Static methods defined here:\n",
            " |  \n",
            " |  __new__(*args, **kwargs) from builtins.type\n",
            " |      Create and return a new object.  See help(type) for accurate signature.\n",
            "\n"
          ],
          "name": "stdout"
        }
      ]
    },
    {
      "cell_type": "markdown",
      "metadata": {
        "id": "5GTLritWDWiN"
      },
      "source": [
        "Par ailleurs, dans certaines situations, il arrive qu’on crée d’bord une liste vide et qui sera par la\n",
        "suite remplie par des valeurs en utilisant la fonction `append()`. Pour créer une liste vide, on fait :\n",
        "`x = list()` Ou bien `x = []`."
      ]
    },
    {
      "cell_type": "markdown",
      "metadata": {
        "id": "AG7iMH3RDWiP"
      },
      "source": [
        "Contrairement à une liste simple, une liste à plusieurs dimensions est une liste dont les\n",
        "éléments individuels sont constitués de plusieurs valeurs. D’une manière générale, une liste à\n",
        "plusieurs dimensions se présente comme une liste de listes."
      ]
    },
    {
      "cell_type": "code",
      "metadata": {
        "id": "PSOiXCFuDWiS",
        "outputId": "2364aeea-9aac-48b4-cbb4-abb31cb76525"
      },
      "source": [
        "x = [[1,2,3],[2,3,4],[3,4,5]] # liste à deux dimensions (liste de listes)\n",
        "\n",
        "y = [[[1,2],[2,3]],[[4,5],[5,6]]] # liste à trois dimensions (liste de listes de listes)\n",
        "\n",
        "x,y"
      ],
      "execution_count": null,
      "outputs": [
        {
          "output_type": "execute_result",
          "data": {
            "text/plain": [
              "([[1, 2, 3], [2, 3, 4], [3, 4, 5]], [[[1, 2], [2, 3]], [[4, 5], [5, 6]]])"
            ]
          },
          "metadata": {
            "tags": []
          },
          "execution_count": 3
        }
      ]
    },
    {
      "cell_type": "code",
      "metadata": {
        "id": "uM6KlLxnDWiV",
        "outputId": "840f371c-b4b1-4c79-81db-5c4d33a3b852"
      },
      "source": [
        "La liste étant une séquence de valeurs indicées, on peut accéder à chacun des valeurs ou des groupes de valeurs en\n",
        "indiquant leur indice:"
      ],
      "execution_count": null,
      "outputs": [
        {
          "output_type": "error",
          "ename": "SyntaxError",
          "evalue": "invalid syntax (<ipython-input-4-297b630a6d1f>, line 1)",
          "traceback": [
            "\u001b[0;36m  File \u001b[0;32m\"<ipython-input-4-297b630a6d1f>\"\u001b[0;36m, line \u001b[0;32m1\u001b[0m\n\u001b[0;31m    La liste étant une séquence de valeurs indicées, on peut accéder à chacun des valeurs ou des groupes de valeurs en\u001b[0m\n\u001b[0m           ^\u001b[0m\n\u001b[0;31mSyntaxError\u001b[0m\u001b[0;31m:\u001b[0m invalid syntax\n"
          ]
        }
      ]
    },
    {
      "cell_type": "code",
      "metadata": {
        "id": "KCa2Vkg5DWib"
      },
      "source": [
        "x = list ([' lundi ',' mardi ',' mercredi ',1800,20.357,' jeudi ',' vendredi ']) # Définition d’une liste\n",
        "print(x) # affiche tous les éléments de la liste x"
      ],
      "execution_count": null,
      "outputs": []
    },
    {
      "cell_type": "code",
      "metadata": {
        "id": "-9BLY2jpDWie"
      },
      "source": [
        "print(x[0]) # renvoie le premier élément de x :lundi (Nb :l’indiçage commence toujours à 0)\n",
        "print(\"================================================\")\n",
        "print('\\t')\n",
        "\n",
        "\n",
        "\n",
        "print(x[3]) # renvoie l’élément d’indice 3( quatrième élément de x) :1800\n",
        "print(\"================================================\")\n",
        "print('\\t')\n",
        "\n",
        "\n",
        "print(x[1:3]) # Renvoie tous éléments compris entre l’indice 1 et l’indice 3 (Nb : l’élément d’indice 3 est exclu)\n",
        "print(\"================================================\")\n",
        "print('\\t')\n",
        "\n",
        "\n",
        "\n",
        "print(x[1:6 :2]) # Renvoie tous éléments compris entre l’indice 1 et l’indice 6 avec un saut de 2 éléments à chaque fois ['mardi', 1800, 'jeudi'](l’élément d’indice 6 est exclu).\n",
        "print(\"================================================\")\n",
        "print('\\t')\n",
        "\n",
        "\n",
        "print(x[2 :]) # renvoie tous éléments à partir de l’élément d’indice 2 (inclu).\n",
        "print(\"================================================\")\n",
        "print('\\t')\n",
        "\n",
        "\n",
        "\n",
        "print(x[:3]) # renvoie tous éléments situés avant l’élément d’indice 3 (exclu)\n",
        "print(\"================================================\")\n",
        "print('\\t')\n",
        "\n",
        "\n",
        "\n",
        "print(x[-1]) # Indiçage négatif, renvoie le dernier élément de la liste (équivaut ici à x[6])\n",
        "print(\"================================================\")\n",
        "print('\\t')\n",
        "\n",
        "\n",
        "\n",
        "print(x[-2]) # Indiçage négatif, liste(équivaut ici à x[5]) renvoie l’avant-dernier élément de la\n",
        "print(\"================================================\")\n",
        "print('\\t')\n",
        "\n",
        "\n",
        "\n",
        "print(x[: :2]) # Parcourt tous éléments compris entre l’indice 0 et le dernier indice en renvoyant tous les éléments avec un saut de 2 éléments à chaque fois ['lundi', 'mercredi', 20.357, 'vendredi'].\n",
        "print(\"================================================\")\n",
        "print('\\t')\n",
        "\n",
        "\n",
        "print(x[: :-1]) # renvoie une liste contenant tous éléments de x en les réorganisant du dernier élement au premier élément. Il s’agit de faire reverse sur x. renvoie ['vendredi', 'jeudi', 20.357, 1800, 'mercredi','mardi', 'lundi']. \n",
        "#On obient le même résultats en faisant x.reverse()\n",
        "x_rev = x.reverse()\n",
        "x_rev"
      ],
      "execution_count": null,
      "outputs": []
    },
    {
      "cell_type": "code",
      "metadata": {
        "id": "qNM5AsXMDWie"
      },
      "source": [
        "Avec une liste à plusieurs dimensions, l’indiçage se fait à plusieurs niveaux. Par example:"
      ],
      "execution_count": null,
      "outputs": []
    },
    {
      "cell_type": "code",
      "metadata": {
        "id": "HCeNe1BhDWig"
      },
      "source": [
        "x=[[1,2,3],[2,3,4],[3,4,5]]\n",
        "print(x)\n",
        "print(\"================================================\")\n",
        "print('\\t')\n",
        "\n",
        "\n",
        "print(x[0]) # renvoie le premier élément-liste [1,2,3]\n",
        "print(\"================================================\")\n",
        "print('\\t')\n",
        "\n",
        "\n",
        "\n",
        "print(x[0][0]) # renvoie le premier élément du premier élément-liste c'est-à-dire 1\n",
        "print(\"================================================\")\n",
        "print('\\t')\n",
        "\n",
        "\n",
        "\n",
        "print(x[2]) # renvoie [ 3,4,5]\n",
        "print(\"================================================\")\n",
        "print('\\t')\n",
        "\n",
        "\n",
        "print(x[2][1]) # renvoie 2\n",
        "print(\"================================================\")\n",
        "print('\\t')\n",
        "\n",
        "\n",
        "\n",
        "\n",
        "\n",
        "print(x[1:]) # renvoie [[2, 3, 4], [3, 4, 5]]\n",
        "print(\"================================================\")\n",
        "print('\\t')\n",
        "\n",
        "\n",
        "print(x[1:][0]) # renvoie [2, 3, 4]\n",
        "print(\"================================================\")\n",
        "print('\\t')\n",
        "\n",
        "\n",
        "print(x[-1]) # renvoie 3, 4, 5]\n",
        "print(\"================================================\")\n",
        "print('\\t')\n",
        "\n",
        "\n",
        "\n",
        "print(x[1][:2]) # renvoie [2, 3]\n",
        "print(\"================================================\")\n",
        "print('\\t')\n",
        "\n",
        "\n",
        "x[1][1:] # renvoie [3, 4]"
      ],
      "execution_count": null,
      "outputs": []
    },
    {
      "cell_type": "markdown",
      "metadata": {
        "id": "gzWfoQFZDWih"
      },
      "source": [
        "### La fonction range()\n",
        "\n",
        "Les séquences de valeurs sont des variables très fréquemment rencontrées dans les\n",
        "programmes python. Elles correspondent à un ensemble de valeurs successives et ordonnées dont les valeurs peuvent être extraites comme une liste. Les séquences de valeurs sont\n",
        "générées en utilisant la fonction `range()`. Exemple :"
      ]
    },
    {
      "cell_type": "code",
      "metadata": {
        "id": "VjBobQDPDWij"
      },
      "source": [
        "x = range(10) # Crée une séquence de valeurs entières allant de 0 à 9\n",
        "print(x)\n",
        "print(\"================================================\")\n",
        "print('\\t')\n",
        "\n",
        "\n",
        "\n",
        "x = range(2, 10) # Crée une séquence de valeurs entières allant de 2 à 9\n",
        "print(x)\n",
        "print(\"================================================\")\n",
        "print('\\t')\n",
        "\n",
        "\n",
        "x = range(1, 10, 2) # Crée une séquence de valeurs entières allant de 2 à 9 avec un pas de 2. Il renvoie alors 1, 3, 5, 7 et 9\n",
        "x"
      ],
      "execution_count": null,
      "outputs": []
    },
    {
      "cell_type": "code",
      "metadata": {
        "id": "KgXUVgA0DWij"
      },
      "source": [
        "Pour afficher les valeurs générées, on peut utiliser la fonction list() ou la fonction tuple() telles\n",
        "que :\n"
      ],
      "execution_count": null,
      "outputs": []
    },
    {
      "cell_type": "code",
      "metadata": {
        "id": "obg4jCtaDWil"
      },
      "source": [
        "x = range(10)\n",
        "\n",
        "print(list(x)) # renvoie une liste :valeurs entre crochets [0, 1, 2, 3, 4, 5, 6, 7, 8, 9]\n",
        "\n",
        "print(tuple(x)) # renvoie un tuple : valeurs entre parenthèses (0, 1, 2, 3, 4, 5, 6, 7, 8, 9)"
      ],
      "execution_count": null,
      "outputs": []
    },
    {
      "cell_type": "markdown",
      "metadata": {
        "id": "EpuzjNeTDWiq"
      },
      "source": [
        "### Les opérations sur les listes \n",
        "Une liste étant définie, on peut réaliser plusieurs opérations visant à modifier la structure de la\n",
        "liste ou les éléments qui le constituent.\n",
        "\n",
        " - Pour connaitre le nombre d’éléments d’une liste, on utilise la fonction `len()`. Exemple : soit la\n",
        "liste x définie comme suit :\n",
        "```python \n",
        "   x = ['lundi', 'mardi', 'mercredi', 1800, 20.357, 'jeudi', 'vendredi']\n",
        "```\n",
        "Pour connaitre la longueur de x (nombre d’éléments de x), on fait :\n",
        " ```python\n",
        "    print(len(x)) # cela renvoie 7\n",
        " ```   \n",
        " \n",
        " - On peut additionner deux listes pour en former une seule en utilisant l’opérateur `+` qui permet\n",
        "de concaténer les listes en questions:\n",
        "```python \n",
        "   x = ['girafe','tigre']\n",
        "   y = ['singe','souris']\n",
        "   z = x + y\n",
        "   print(z) # renvoie ['girafe', 'tigre', 'singe', 'souris']\n",
        "```\n",
        " - On peut démultiplier les éléments d’une liste en utilisant l’opérateur de multiplication `*`\n",
        " ```python\n",
        "    x = ['girafe', 24, 18 , 'tigre', 2400, 150 ]\n",
        "    y = x*3\n",
        "    print(y) # renvoie ['girafe', 24, 18, 'tigre', 2400, 150, 'girafe', 24, 18, 'tigre', 2400, 150, 'girafe', 24, 18, 'tigre', 2400, 150]\n",
        " ```   \n",
        " \n",
        " - Il est possible de modifier un élément particulier d’une liste en se servant de son indice.\n",
        " ```python\n",
        "    x = ['lundi', 'mardi', 'mercredi', 1800, 20.357, 'jeudi', 'vendredi']\n",
        "    x[3] = x[3]+100\n",
        "    print(x) # renvoie ['lundi', 'mardi', 'mercredi', 1900, 20.357,'jeudi', 'vendredi']\n",
        "    \n",
        "    x[6] = x[6]+ ' saint' # attention à l’espace dans ' saint' sinon on aura vendredisaint.\n",
        "    print(x) # renvoie ['lundi', 'mardi', 'mercredi', 1900, 20.357, 'jeudi', 'vendredi saint']\n",
        "\n",
        " ```\n",
        " \n",
        " - Il est possible d’ajouter des nouveaux éléments en plus des éléments initiaux. Pour cela, on\n",
        "utilise la fonction `append().`\n",
        " ```python\n",
        "    x = ['lundi', 'mardi', 'mercredi’, ‘jeudi', 'vendredi']\n",
        "    x.append( ' samedi ')\n",
        "    x.append( ' dimanche ')\n",
        "    print(x)\n",
        "\n",
        " ```\n",
        " Comme on peut le constater la fonction append() ne peut ajouter qu’un seul\n",
        "élément à une liste à la fois. C’est pourquoi, on peut avoir recours à la fonction extend()\n",
        "lorsque l’on veut ajouter plusieurs éléments en même temps. Exemple :\n",
        " ```python\n",
        "    x = ['lundi', 'mardi', 'mercredi’, ‘jeudi', 'vendredi']\n",
        "    x.extend(['samedi','dimanche'])\n",
        "    print(x)\n",
        "\n",
        " ```"
      ]
    },
    {
      "cell_type": "markdown",
      "metadata": {
        "id": "gUwE-BQ_DWi4"
      },
      "source": [
        "****\n",
        "A titre d'approfondissement, etudier les methodes suivantes et comment elles operent sur les listes:\n",
        "`insert()`, `remove()`,`delete()`,`index()`,`count()`,`join()`,`zip()`.\n",
        "***"
      ]
    },
    {
      "cell_type": "markdown",
      "metadata": {
        "id": "GUZD5zAgDWi6"
      },
      "source": [
        "<left> <b> <span style=\"color:brown;\">Compte tenu du fait que leur utilisation est assez peu commune, nous ne traiterons pas, dans ce cours, des objets `tuple` et `set`. La breve presentation donnee plus haut est relativement suffisante et le lecteur qui en a expressement besoin pourra consulter la documentation abondante sur la toile. </span> </b></left>\n",
        "\n",
        "Nous pouvons neanmois, dire que qu'un `set` est une collection itérable non ordonnée d’éléments hachables distincts et que les operations mathematiques classiques sur les ensembles peuvent etre faites sous Python, par example:"
      ]
    },
    {
      "cell_type": "markdown",
      "metadata": {
        "id": "62QeOuqmDWi9"
      },
      "source": [
        "<center>\n",
        "    <img src=\"images/set.png\" width=\"20%></center>\n",
        "                              \n",
        "                   "
      ]
    },
    {
      "cell_type": "markdown",
      "metadata": {
        "id": "60OuJ_exDWi-"
      },
      "source": [
        "```python\n",
        "   X, Y = set(’abcd’), set(’sbds’)\n",
        "   print(\"X =\", X) # X = {’a’, ’c’, ’b’, ’d’}\n",
        "   print(\"Y =\", Y) # Y = {’s’, ’b’, ’d’} : un seul élément ’s’      \n",
        "    \n",
        "   print('c' in X)  # True\n",
        "   print('a'in Y)   # False\n",
        "   print(X - Y)     # {’a’, ’c’}\n",
        "   print(Y - X)     #{’s’}\n",
        "   print(X | Y)     # {’a’, ’c’, ’b’, ’d’, ’s’}\n",
        "   print(X & Y)     #{’b’, ’d’}     \n",
        "                              \n",
        "```          "
      ]
    },
    {
      "cell_type": "markdown",
      "metadata": {
        "id": "my47p7z4DWi_"
      },
      "source": [
        "## Dictionnaires\n",
        "\n",
        "Dans une conception pythonienne, un dictionnaire (encore appelé bibilothèque) est une\n",
        "collection d’objets définie selon le principe `clé-valeur`. Contrairement aux listes, dans lesquels chaque élément est\n",
        "identifié à partir de son indice, dans un dictionnaire, les éléments sont identifiés à travers des\n",
        "clés (qui se présente généralement sous forme de chaîne de caractère). "
      ]
    },
    {
      "cell_type": "code",
      "metadata": {
        "id": "cheuA2vMDWjA"
      },
      "source": [
        "x = {'nom':'Jean', 'age':25, 'poids':70, 'taille':1.75}\n",
        "y = {'Jean':[25,70,1.75],'Paul':[30,65,1.80],'Pierre':[35,75,1.65] }\n",
        "z = {'Jean':(25,70,1.75),'Paul':(30,65,1.80),'Pierre':(35,75,1.65) }\n",
        "k = {'nom':'Jean','biométrie':[25,70,1.75],'score':(12,17,15),'rang':25}"
      ],
      "execution_count": null,
      "outputs": []
    },
    {
      "cell_type": "markdown",
      "metadata": {
        "id": "GHyGQCvQDWjB"
      },
      "source": [
        "Les quatre variables ci-dessus représentent **quatre** manières typiques de définir un\n",
        "dictionnaire. La variable x est un dictionnaire dont les clés sont **nom, age, poids et taille**. Les valeurs\n",
        "respectives correspondantes sont **Jean, 25, 70** et **1.75**. Dans la définition\n",
        "de x, il à est noter qu' à chaque clé correspond une valeur unique.\n",
        "Toutefois, il arrive très fréquemment d’associer plusieurs valeurs à une seule clé. C’est le cas du dictionnaire y."
      ]
    },
    {
      "cell_type": "markdown",
      "metadata": {
        "id": "z25lZUtaDWjC"
      },
      "source": [
        "###  Les opérations sur les dictionnaires\n",
        "\n",
        " - Pour accéder aux éléments d’un dictionnaire on se sert des clés. La méthode `keys()` renvoie la liste des clés \n",
        "   du dictionnaire et a methodes `values()` les valeurs.\n",
        "  ```python \n",
        "     X= {'nom':'Jean', 'age':25, 'poids':70, 'taille':1.75}\n",
        "     print(X.keys())  # renvoie ['nom', 'age', 'poids', 'taille']\n",
        "     print(X.values()) # renvoie ['Jean',25,70,1.75]   \n",
        "     print(X['nom'])  # renvoie 'Jean\"   \n",
        "     x = {' Jean ':[25,70,1.75],' Paul ':[30,65,1.80],' Pierre ':[35,75,1.65] }\n",
        "     print(x['Jean']) #renvoie [25, 70, 1.75]\n",
        "     print(x['Jean'][0]) #renvoie 25\n",
        "     print(x['Jean'][0 :2]) #renvoie [25, 70]   \n",
        "\n",
        "  ```\n",
        "  \n",
        " - Ajout ou modification de clés ou de valeurs: on peut modifier un dictionnaire soit en modifiant les clés et les valeurs déjà existantes ou en ajouter des nouvelles. On peut également supprimer des valeurs mais aussi des clés.\n",
        "  \n",
        "```python\n",
        "  x= {} #  Crée un dictionnaire vide. On pouvait aussi utiliser x=dict()\n",
        "  x['nom'] = 'Jean' # ajoute la clé-valeur nom et Jean au dictionnaire x initial\n",
        "  x['biométrie']= [25,70,1.75] # ajoute la clé-valeur biométrie et [25,70,1.75] au dictionnaire x\n",
        "  x['biométrie']= [30,70,1.80] # modifie les valeurs de la clé biométrie en effectuant une nouvelle définition\n",
        "  x['biométrie'][0]= 2 # modifie l’élément d’indice 0 de la liste de valeur qui correspond à la clé biométrie    (préalabelemnt définie)\n",
        "\n",
        "   Y = {' Jean ':[25,70,1.75],' Paul ':[30,65,1.80],' Pierre ':[35,75,1.65] }\n",
        "   del Y['Jean'] # Supprime la clé Jean toutes les valeurs correspondantes\n",
        "   del Y['Jean'][0] # Supprime l’élément d’indice 0 dans la séquence de valeur correspondant à la clé Jean. Pour une clé à une seule valeur, on utilise del x['nomCle'] où nomCle est le nom de la clé qui a la valeur unique. \n",
        "\n",
        "```\n",
        "   \n",
        " - Pour renommer une clé dans un dictionnaire, on utilise la fonction pop() telle que définie dans\n",
        "l’exemple suivant :\n",
        "\n",
        "```python\n",
        "x = {' Jean ':[25,70,1.75],' Paul ':[30,65,1.80],' Pierre ':[35,75,1.65] }\n",
        "x['John'] = x.pop('Jean') # On renomme la clé Jean comme John\n",
        "print(x)\n",
        "\n",
        "```"
      ]
    },
    {
      "cell_type": "markdown",
      "metadata": {
        "id": "t8CA5Qi_DWjD"
      },
      "source": [
        "<!--NAVIGATION-->\n",
        "<  [3. Chaînes de caractères](https://colab.research.google.com/github/ai-technipreneurs/programmation-python-pratique/blob/master/3_Cha%C3%AEnes-de-caract%C3%A8res.ipynb#scrollTo=1ZJRlE0OXBlm)| [Sommaire](https://colab.research.google.com/github/ai-technipreneurs/programmation-python-pratique/blob/master/Index.ipynb) |  [5. Les Boucles](https://colab.research.google.com/github/ai-technipreneurs/programmation-python-pratique/blob/master/5_Les-boucles.ipynb) >\n"
      ]
    }
  ]
}