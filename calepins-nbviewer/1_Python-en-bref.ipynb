{
 "cells": [
  {
   "cell_type": "markdown",
   "metadata": {},
   "source": [
    "****\n",
    "\n",
    "# <center> <b> <span style=\"color:orange;\"> Atelier 3P </span> </b></center>\n",
    "\n",
    "## <center> <b> <span style=\"color:green;\">Programmation Python Pratique</span> </b></center>\n",
    "\n",
    "<center>\n",
    "    <a href=\"https://github.com/ai-technipreneurs\" ><img src=\"https://avatars.githubusercontent.com/u/83169416?v=4\" style=\"float:center; max-width: 650px; display: inline\" alt=\"IMSP\"/> </a>\n",
    "    </center>\n",
    "\n",
    "### <center> <b> <span style=\"color:blue;\">Jour 01: Introduction à Python  </span> </b></center>\n",
    "\n",
    "#### <left> <b> <span style=\"color:brown;\">Instructeur : </span> </b></left>[ai-technipreneurs](https://github.com/ai-technipreneurs)\n",
    "\n",
    "****"
   ]
  },
  {
   "cell_type": "markdown",
   "metadata": {
    "id": "FlKvA2FSt-C1"
   },
   "source": [
    "# 0. Pourquoi Python ?\n",
    "\n",
    "Le langage de programmation Python est une très bonne option tant pour ceux qui débutent en programmation que pour ceux qui s'y connaissent déjà beaucoup plus. C'est un langage de très haut niveau dont la syntaxe encourage à écrire du code clair et de qualité. De plus l'apprentissage de Python est facilité par l’existence d’une interface interactive et en particlier par l'utilisation des `calepin Jupyter`. Cela dit, son intérêt ne se limite pas à l'apprentissage de la programmation ou de l’algorithmique; sa popularité et son utilisation vont bien au-delà du cadre académique, en témoigne sa popularité croissante. Il a été choisi par des acteurs majeurs comme `Google`, `YouTube`,\n",
    "la `NASA`.\n",
    "\n",
    "\n",
    "\n",
    "1. C'est un langage **interprété**: lorsqu'on écrit une instruction, on peut directement l'exécuter. A l'opposé, un langage **compilé** nécessite l'écriture (et la compilation) d'un programme entier avant de pouvoir le tester. Un langage interprété permet de programmer plus facilement, **de manière interactive**, de tester facilement un morceau de code. C'est donc un langage idéal pour rapidement développer et tester des prototypes, ou plus particulièrement, des algorithmes d'analyse de données.\n",
    "\n",
    "2. C'est un langage **haut-niveau**: une seule ligne de code permet dans certains cas de réaliser des processus complexe, en cachant les détails liés notamment à la gestion ou la représentation des données dans la mémoire de l'ordinateur, ou les opérations arithmétiques ou binaires de bas-niveau. Un langage de haut-niveau rend plus facile le développement d'un programme, et augmente donc la **productivité** (généralement au détriment de la vitesse d'exécution).\n",
    "\n",
    "3. Python est **open source**: et donc **gratuit** pour tout le monde, y compris les entreprises.\n",
    "\n",
    "4. C'est un langage **populaire**: la communauté de développeurs est très active, et on trouve facilement sur internet de la documentation et de très **nombreux exemples d'utilisation** dans tout type d'application. De plus, la communauté développe et maintient de très **nombreuses librairies** développées et/ou compatibles avec Python, permettant d'augmenter la productivité lors de l'écriture d'un programme, particulièrement dans les domaines des mathématiques et des sciences des données.\n",
    "\n",
    "![Texte alternatif…](https://github.com/titsitits/Python_Data_Science/blob/master/Images/python_stack_overflow_withsource.png?raw=true)\n",
    "\n",
    "(source: https://stackoverflow.blog/2017/09/06/incredible-growth-python/)\n",
    "\n",
    "\n",
    "Python est donc le langage idéal pour développer et tester facilement et rapidement un algorithme. Le désavantage principal est sa lenteur: l'exécution d'un langage haut-niveau et interprété est généralement plus lente que celle d'un langage compilé. \n",
    "\n",
    "Dans un contexte où la vitesse d'exécution est cruciale (e.g. pour des systèmes embarqués, ou traitement de données en temps réel, des programmes réactifs), Python n'est pas le langage idéal. A l'inverse, dans un contexte où la vitesse de développement est cruciale (développement de prototypes, d'applications business concurrentes), la productivité offerte par le langage Python en fait un bon choix.\n",
    "\n",
    "\n",
    "\n",
    "\n",
    "Les principales caractéristiques du langage Python:\n",
    "\n",
    " - **Syntaxe simple** et __lisible__ : langage pédagogique et facile à apprendre et à utiliser;\n",
    " - __Langage interprété__ : utilisation interactive ou script exécuté ligne à ligne, pas de processus de\n",
    "compilation;\n",
    " - __Haut niveau__ : typage dynamique, gestion active de la mémoire, pour une plus grande facilité\n",
    "d’emploi;\n",
    " - __Multi-paradigme__ : langage impératif et/ou orienté objet, selon les besoins et les capacités de\n",
    "chacun;\n",
    " - __Logiciel libre__ et __ouvert__, largement répandu (multi-plateforme) et utilisé (forte communauté);\n",
    " - __Riche bibliothèque standard__ : Batteries included;\n",
    " - __Riche bibliothèque externe__ : de nombreuses bibliothèques de qualité, dans divers domaines (y\n",
    "compris scientifiques), sont déjà disponibles.\n",
    "\n",
    "Les différentes versions de Python (pour *Windows*, *Unix*, etc.), son  **tutoriel** original, son __manuel de référence__ , la  **documentation** des bibliothèques de fonctions, etc. sont disponibles en téléchargement\n",
    "gratuit depuis Internet, à partir du [site web officiel](http://www.python.org).\n",
    "\n",
    "\n",
    "\n",
    "\n",
    "\n",
    "L’objectif de cette formation est bien d'apprendre un *seul* langage de haut niveau, permettant tout aussi bien des analyses rapides dans la vie de tous les jours – quelques lignes de code en intéractif – que des programes plus complexes (projets plus volumineux, p.ex. de plus de 100000 lignes).\n"
   ]
  },
  {
   "cell_type": "markdown",
   "metadata": {
    "id": "j02sjwqOttpj"
   },
   "source": [
    "# 1. Types de données de base\n",
    "\n",
    "## 1.0 Scalaires et chaînes de caractères (ou strings)"
   ]
  },
  {
   "cell_type": "markdown",
   "metadata": {
    "id": "OJe8qc_Qiipc"
   },
   "source": [
    "On identifie généralement quatre types de données de base en Python.\n",
    "\n",
    "Trois sont des **données numériques**:\n",
    "* Booléen (**`bool`**): `True, False`\n",
    "* Nombre entier (**`int`**): `-42, 0, 1, 42, 250000`\n",
    "* Nombre décimal à virgule flottante (**`float`**): `42.0, 3.14, -0.01`\n",
    "\n",
    "La dernière permet de représenter du **texte**:\n",
    "\n",
    "* Chaîne de caractères (**`string`**): `\"Hello World!\"` ou `'Hello World!' `\n",
    "\n",
    "On définit un **`string`** en entourant le texte des symboles **\"double quote\"** ou **'simple quote'**. Ainsi, 4 représente un **`int`**, mais \"4\" représente un **`string`**."
   ]
  },
  {
   "cell_type": "code",
   "execution_count": null,
   "metadata": {
    "id": "4VW52peNqBSu"
   },
   "outputs": [],
   "source": [
    "mon_entier1 = 2\n",
    "mon_entier2 = -4\n",
    "mon_flottant = 4.2\n",
    "mon_booleen = True\n",
    "ma_chaine_de_caractere1 = \"Rue de Cotonou\"\n",
    "ma_chaine_de_caracter2 = ' 64'\n",
    "ma_chaine_de_caractere3  = \" Akpakpa \"\n"
   ]
  },
  {
   "cell_type": "markdown",
   "metadata": {
    "id": "erueK9u6w35g"
   },
   "source": [
    "### 1.0.0 Opérations sur les scalaires \n",
    "  \n",
    "\n",
    "Les opérations de base peuvent se faire entre différents types de données numériques, en réalisant des conversions implicites de types si nécessaire:\n",
    "\n",
    "* Les **int**, **float** et **bool** peuvent être additionnés (**+**), multiplés (**\\***), divisés (**/**), ou soustraits (**-**) entre eux.  \n",
    "* L'opérateur **\\*\\*** et un opérateur de puissance (exposant): 2\\*\\*10 => 1024\n",
    "* L'opérateur **%** et un modulo (reste de la division entière): 11%3 => 2\n"
   ]
  },
  {
   "cell_type": "code",
   "execution_count": null,
   "metadata": {
    "id": "91uAuVpbsm8I"
   },
   "outputs": [],
   "source": [
    "#Operations sur un seul type de donnée\n",
    "print(  mon_entier1+mon_entier2,   111-69,   6*7,   (mon_entier1 + mon_entier12) * 10 + 2)"
   ]
  },
  {
   "cell_type": "code",
   "execution_count": null,
   "metadata": {
    "id": "psumtjRGBFD3"
   },
   "outputs": [],
   "source": [
    "#Opération compatibles entre types différents (entier, float, booléen)\n",
    "print(mon_entier1 + mon_flottant,\\\n",
    "      mon_flottant + mon_booleen,\\\n",
    "      (mon_entier1 + mon_entier2 - 3.5) * 5 / 2)"
   ]
  },
  {
   "cell_type": "code",
   "execution_count": null,
   "metadata": {
    "id": "TIJAjY4eBhxg"
   },
   "outputs": [],
   "source": [
    "#Exposant\n",
    "print(2 ** 42)\n",
    "\n",
    "#Modulo\n",
    "print(11%3)"
   ]
  },
  {
   "cell_type": "code",
   "execution_count": null,
   "metadata": {
    "id": "c-H_YAb3HcNB"
   },
   "outputs": [],
   "source": [
    "#La division entière renvoie un float (contrairement au langage C)\n",
    "8/3"
   ]
  },
  {
   "cell_type": "code",
   "execution_count": null,
   "metadata": {},
   "outputs": [],
   "source": [
    "# Attention:\n",
    "a/2  # le résultat 1.5 en Python 3.4 \n",
    "     # mais 1 en 2.7"
   ]
  },
  {
   "cell_type": "markdown",
   "metadata": {
    "id": "02YJHXTyqlV9"
   },
   "source": [
    "### 1.0.1 Opérations sur des chaînes de caractères\n",
    "\n",
    "Les strings peuvent être additionnés entre eux (**+**), ou multiplés par un entier (**\\***):\n",
    "\n",
    "  * Deux **string** peuvent être additionnés, ce qui résulte en une concaténation: \"hell\" + \"o\" => \"hello\"\n",
    "  * Un **string** peut être multiplié par un entier, ce qui résulte en une concaténation multiple du string: \"hi\"*3 => \"hihihi\""
   ]
  },
  {
   "cell_type": "code",
   "execution_count": null,
   "metadata": {
    "id": "OmUps4p3_16q"
   },
   "outputs": [],
   "source": [
    "#Les opérations sur les strings sont des concaténation\n",
    "address = ma_chaine_de_caractere1 + ma_chaine_de_caractere2 + ma_chaine_de_caractere3\n",
    "print(address)\n",
    "print(\"Bonjour\" * 3)"
   ]
  },
  {
   "cell_type": "markdown",
   "metadata": {
    "id": "0k8t2ZQW9L7x"
   },
   "source": [
    "* Les opérations invalides (telle qu'additionner un string avec une variable numérique), renvoient une erreur:"
   ]
  },
  {
   "cell_type": "code",
   "execution_count": null,
   "metadata": {
    "id": "mhBeoWyks8In"
   },
   "outputs": [],
   "source": [
    "mon_entier1 + ma_chaine_de_caractere1"
   ]
  },
  {
   "cell_type": "code",
   "execution_count": null,
   "metadata": {
    "id": "mvy5DPPQs-P3"
   },
   "outputs": [],
   "source": [
    "string = '4'\n",
    "string + str(mon_entier1)"
   ]
  },
  {
   "cell_type": "code",
   "execution_count": null,
   "metadata": {
    "id": "PGkQdMjktCfm"
   },
   "outputs": [],
   "source": [
    "mon_entier1 + int(string)"
   ]
  },
  {
   "cell_type": "markdown",
   "metadata": {},
   "source": [
    "## 1.1 Structures de base"
   ]
  },
  {
   "cell_type": "markdown",
   "metadata": {},
   "source": [
    "### 1.1.0 Listes\n",
    "Les listes permettent des combinaisons de types.  "
   ]
  },
  {
   "cell_type": "code",
   "execution_count": null,
   "metadata": {},
   "outputs": [],
   "source": [
    "ma_liste1= [0,53,562,'rdv',[17,\"l\",298,43]] "
   ]
  },
  {
   "cell_type": "markdown",
   "metadata": {},
   "source": [
    "### 1.1.1 Tuple\n",
    "Un tuple est similaire à une liste mais ne peut être modifié, il est défini par des parenthèses."
   ]
  },
  {
   "cell_type": "code",
   "execution_count": null,
   "metadata": {},
   "outputs": [],
   "source": [
    "mon_tuple_1= (2020,34,42,'h')\n"
   ]
  },
  {
   "cell_type": "markdown",
   "metadata": {},
   "source": [
    "### 1.1.2 Dictionnaire\n",
    "Un dictionnaire est similaire à une liste mais chaque entrée est assignée par une clé / un nom, il est défini avec des accolades."
   ]
  },
  {
   "cell_type": "code",
   "execution_count": null,
   "metadata": {},
   "outputs": [],
   "source": [
    "mois = {'Jan':31 , 'Fev': 29, 'Mar':31, 'Avr':30}"
   ]
  },
  {
   "cell_type": "code",
   "execution_count": null,
   "metadata": {},
   "outputs": [],
   "source": []
  },
  {
   "cell_type": "markdown",
   "metadata": {},
   "source": [
    "# 2. Syntaxe de Python"
   ]
  },
  {
   "cell_type": "markdown",
   "metadata": {},
   "source": [
    "\n",
    "## 2.0 Structures de contrôle \n",
    "Certaines instructions permettent de contrôler le flux du code:\n",
    "\n",
    "* Les **conditions** permettent de réaliser un bloc d'instructions, ou de l'éviter, ou encore de choisir un bloc d'instructions parmi plusieurs.\n",
    "* Les **boucles** permettent de repasser plusieurs fois, de manière itérative, par le même bloc d'instructions\n",
    "* Pour différencier les différents blocs d'instructions, on utilise l'**indentation** (en utilisant des Tab, ou des Whitespace)\n",
    "\n",
    "En Python, l'indentation de chaque ligne de commande est donc très importante, puisque c'est elle qui définit le flux des instructions."
   ]
  },
  {
   "cell_type": "markdown",
   "metadata": {},
   "source": [
    "### 2.0.0 Structure conditionnelle\n",
    "Les mot-clés **`if`**, **`elif`**, et **`else`** permettent de définir un flux conditionnel d'instructions:\n",
    "* \"**`if condition:`**\" : si la condition est vraie (**`True`**), le bloc d'instruction indenté sous cette condition est réalisé\n",
    "* \"**`elif condition2:`**\": si la condition précédente était fausse (dans le **`if`** précédent), et que cette condition2 est vraie, le bloc d'instruction indenté sous cette condition est réalisé\n",
    "* \"**`else:`**\": si toutes les conditions précédentes étaient fausses, le bloc indenté suivant est réalisé\n",
    "* Attention à l'**indentation** et au symbole **\":\"** ! C'est le bloc indenté après le symbole \":\" qui dépend de la condition\n"
   ]
  },
  {
   "cell_type": "code",
   "execution_count": null,
   "metadata": {},
   "outputs": [],
   "source": [
    "# si alors sinon\n",
    "a = -23\n",
    "if a > 0:\n",
    "    b = 0\n",
    "    print(b)\n",
    "else:\n",
    "    b = -1\n",
    "print(b)"
   ]
  },
  {
   "cell_type": "markdown",
   "metadata": {},
   "source": [
    "### 2.0.1 Structure itérative\n",
    "Les boucles permettent de définir un flux itératif d'instructions:\n",
    "* **`while condition:`**: on éxécute le même bloc d'instructions itérativement tant qu'on respecte une condition\n",
    "* **`for variable in variable_set:`**: on exécute le bloc d'instructions itérativement sur un ensemble d'éléments"
   ]
  },
  {
   "cell_type": "code",
   "execution_count": null,
   "metadata": {},
   "outputs": [],
   "source": [
    "for i in range(1,8,2):\n",
    "    print(i)"
   ]
  },
  {
   "cell_type": "markdown",
   "metadata": {},
   "source": [
    "## 2.1 Fonctions\n",
    "\n",
    "Une fonction est un regroupement d’instructions impératives – assignations, branchements, boucles –\n",
    "s’appliquant sur des arguments d’entrée. C’est le concept central de la _programmation impérative_."
   ]
  },
  {
   "cell_type": "code",
   "execution_count": null,
   "metadata": {},
   "outputs": [],
   "source": [
    "# Définition d'une fonction\n",
    "def pythagorus(x,y):\n",
    "    \"\"\" Calcule l'hypotenuse d'un triangle \"\"\"\n",
    "    r = pow(x**2+y**2,0.5)\n",
    "    return x,y,r\n",
    "pythagorus(5,6)"
   ]
  },
  {
   "cell_type": "code",
   "execution_count": null,
   "metadata": {},
   "outputs": [],
   "source": [
    "# exemple d'appel\n",
    "pythagorus(x=5,y=7)"
   ]
  },
  {
   "cell_type": "code",
   "execution_count": null,
   "metadata": {},
   "outputs": [],
   "source": [
    "# aide intégrée\n",
    "help(pythagorus)"
   ]
  },
  {
   "cell_type": "code",
   "execution_count": null,
   "metadata": {},
   "outputs": [],
   "source": [
    "pythagorus.__doc__"
   ]
  },
  {
   "cell_type": "markdown",
   "metadata": {},
   "source": [
    "# Un résumé élargi\n",
    "- Les types et structures de base\n",
    "  - 250000 #entier\n",
    "  - 0.12 #float\n",
    "  - '42' ou \"42\" #string\n",
    "  - True False #booléens\n",
    "  - [3, 4, 'ville'] #Liste\n",
    "  - ('formation',20, 'Cotonou') # Tuple\n",
    "  - {'Jan':31 , 'Fev': 29, 'Mar':31, 'Avr':30} #Dictionaire\n",
    "- Les blocs sont définis par **l’indentation** (en général par pas de 4 espaces);\n",
    "- Une instruction par ligne en *général* (ou instructions séparées par `;`);\n",
    "- Les **commentaires** commencent par `#`, et vont jusqu’à la fin de la ligne;\n",
    "- **Expression booléenne** : une condition est une expression s’évaluant à `True` ou `False`:\n",
    "  - `False` : test logique faux (p.ex. 3 == 4), valeur nulle, chaîne vide (''), liste vide ([]), etc,\n",
    "  - `True` : test logique vrai (p.ex. 2 + 2 == 4), toute valeur ou objet non-nul (et donc s’évaluant\n",
    "par défaut à True *sauf exception*);\n",
    "  - **Tests logiques** : `==`, `!=`, `>`, `>=`, etc;\n",
    "  - **Opérateurs logiques** : `and`, `or`, `not`;\n",
    "  - **Opérateur ternaire** : `valeur **if** condition **else** valeurealt`;\n",
    "- **Expression conditionnelle** : `**if** condition1 : ... [**elif** condition2 : ...] [**else**: ...]`;  \n",
    "- **Boucle for** : `**for** élément **in** itérable`, s’éxecute sur chacun des éléments d’un objet itérable :\n",
    "  - `continue` : interrompt l’itération courante, et reprend la boucle à l’itération suivante,\n",
    "  - `break` : interrompt complètement la boucle;\n",
    "- **Boucle while** : `while condition` : se répéte tant que la condition est vraie, ou après une sortie\n",
    "explicite avec break.\n",
    "\n",
    "Ces structures seront discutées en details dans les calepins à venir."
   ]
  },
  {
   "cell_type": "markdown",
   "metadata": {},
   "source": [
    "# Références principales\n",
    "\n",
    " 1. **Yaé U. Gaba, J. Sanders; J. Masakuna** (2016); [Introduction to Programming using Python (IPuP)](https://github.com/gabayae/scientific-computing/edit/master/README.md).\n",
    "\n",
    "\n",
    " 2. **Mac Kinney W.** (2013); *Python for Data Analysis*, O’Reilly; [pdf](http://it-ebooks.info/book/104).\n",
    " \n",
    "\n",
    " 3. **Sheppard K.** (2014); *Introduction to Python for Econometrics, Statistics and Data Analysis*,[pdf](https://www.kevinsheppard.com/images/0/09/Python_introduction.pdf).\n",
    " \n",
    "\n",
    " 4. **Moussa Keita** (2017); *Data Science with Python: Algorithm, Statistics, DataViz, DataMining and Machine-Learning*. [pdf](https://mpra.ub.uni-muenchen.de/76653/).\n",
    "\n",
    "\n",
    "\n",
    "\n",
    "# Plus de littérature (Références secondaires)\n",
    "\n",
    "Il existe également de très bons ouvrages imprimés concernant Python. La plupart concernent encore\n",
    "Python 2.x, mais vous ne devrez guère éprouver de difficultés à adapter leurs exemples à Python 3. En\n",
    "langue française, vous pourrez très profitablement consulter les manuels ci-après:\n",
    "\n",
    "- __Programmation   Python__,   par   Tarek   Ziadé,   éditions   Eyrolles,   Paris,   2009,   586   p.,   ISBN\n",
    "978-2-212-12483-5. C’est l’un des premiers ouvrages édités directement en langue française sur le\n",
    "langage Python. Excellent. Une mine de renseignements essentielle si vous voulez acquérir les\n",
    "meilleures pratiques et vous démarquer des débutants.\n",
    "\n",
    "\n",
    "- __Au cœur de Python__, volumes 1 et 2, par Wesley J. Chun, traduction de \n",
    "Python core programming, 2d\n",
    "edition\n",
    " (Prentice Hall) par Marie-Cécile Baland, Anne Bohy et Luc Carité, éditions CampusPress,\n",
    "Paris, 2007, respectivement 645 et 385 p., ISBN 978-2-7440-2148-0 et 978-2-7440-2195-4. C’est un\n",
    "ouvrage de référence indispensable, très bien écrit. \n",
    "\n",
    "\n",
    "- __Apprendre à programmer avec Python__, de Gérard Swinnen (troisième et cinquième éditions), un excellent ouvrage que l'on peut obtenir [ici](https://inforef.be/swi/python.htm).\n",
    "\n",
    "\n",
    "- [Le tutoriel Python](https://docs.python.org/fr/3/tutorial/).\n",
    "\n",
    "\n",
    "- Vous pouvez aussi trouver en ligne et en français, l’excellent cours sur Python 3 de Robert Cordeau,\n",
    "professeur à l’IUT d’Orsay. Il est disponible sur le site de l'[AFPY](http://www.afpy.org/Members/bcordeau/Python3v1-1.pdf/download).\n"
   ]
  },
  {
   "cell_type": "markdown",
   "metadata": {
    "id": "SnSuv8RjqwzB"
   },
   "source": [
    "Maintenant que vous connaissez les bases du Python, vous pouvez passer au [Chapitre 2: Les collections d'objets Python](https://colab.research.google.com/github/titsitits/UNamur_Python_Analytics/blob/master/2_Collections.ipynb)"
   ]
  }
 ],
 "metadata": {
  "colab": {
   "collapsed_sections": [
    "Nx49_9RZwiWR"
   ],
   "name": "1_Introduction.ipynb",
   "provenance": [],
   "toc_visible": true
  },
  "kernelspec": {
   "display_name": "Python 3",
   "language": "python",
   "name": "python3"
  },
  "language_info": {
   "codemirror_mode": {
    "name": "ipython",
    "version": 3
   },
   "file_extension": ".py",
   "mimetype": "text/x-python",
   "name": "python",
   "nbconvert_exporter": "python",
   "pygments_lexer": "ipython3",
   "version": "3.7.3"
  }
 },
 "nbformat": 4,
 "nbformat_minor": 1
}
