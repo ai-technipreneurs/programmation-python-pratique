{
 "cells": [
  {
   "cell_type": "markdown",
   "metadata": {
    "colab_type": "text",
    "id": "view-in-github"
   },
   "source": [
    "<a href=\"https://colab.research.google.com/github/ai-technipreneurs/programmation-python-pratique/blob/master/3_Cha%C3%AEnes_de_caract%C3%A8res.ipynb\" target=\"_parent\"><img src=\"https://colab.research.google.com/assets/colab-badge.svg\" alt=\"Open In Colab\"/></a>"
   ]
  },
  {
   "cell_type": "markdown",
   "metadata": {
    "id": "FW1QDIAlXBkb"
   },
   "source": [
    "****\n",
    "\n",
    "# <center> <b> <span style=\"color:orange;\"> Atelier 3P </span> </b></center>\n",
    "\n",
    "## <center> <b> <span style=\"color:green;\">Programmation Python Pratique</span> </b></center>\n",
    "\n",
    "<center>\n",
    "    <a href=\"https://github.com/ai-technipreneurs\" ><img src=\"https://avatars.githubusercontent.com/u/83169416?v=4\" style=\"float:center; max-width: 650px; display: inline\" alt=\"IMSP\"/> </a>\n",
    "    </center>\n",
    "\n",
    "### <center> <b> <span style=\"color:blue;\">Jour 01: Introduction à Python  </span> </b></center>\n",
    "\n",
    "#### <left> <b> <span style=\"color:brown;\">Instructeur : </span> </b></left>[ai-technipreneurs](https://github.com/ai-technipreneurs)\n",
    "\n",
    "****"
   ]
  },
  {
   "cell_type": "markdown",
   "metadata": {
    "id": "DRx_RvXsXBki"
   },
   "source": [
    "Cette section a pour but de presenter les`chaînes de caractères`, de passer en revues certaines les opérations les plus couramment rencontrées notamment dans les opérations\n",
    "de traitement de texte."
   ]
  },
  {
   "cell_type": "markdown",
   "metadata": {
    "id": "RPDYw9BmXBkm"
   },
   "source": [
    "Les chaînes de caractères ne sont pas des objets en tant que tels dans un programme python.\n",
    "Ce sont plutôt des séquences de valeurs (tout comme les données de type numériques) qui\n",
    "servent à définir les objets proprement dits comme les listes, les tuples -dont nous parlerons plus tard-, etc... Tout comme dans le cas des opérations mathématiques réalisables les données numériques (addition,\n",
    "multiplication, division, etc..), il existe également un ensemble d’opérations servant à la manipulation des chaînes de caractères. "
   ]
  },
  {
   "cell_type": "markdown",
   "metadata": {
    "id": "tF_Nq1ZfXBkr"
   },
   "source": [
    "##  <left> <b> <span style=\"color:orange;\"> 0. Définition d’une variable de type chaîne de caractères</span> </b></left>\n",
    "\n",
    "Une variable chaîne de caractère se définit de manière classique par une assignation directe en\n",
    "utilisant le symbole de l’égalité (comme cela a été discutée dans la section sur la création de\n",
    "variable). La seule particularité des variables caractères par rapport aux variables numériques est que leurs valeurs doivent être spécifiées entre guillemets lors de l’assignation. Les trois\n",
    "exemples ci-dessous sont des illustrations."
   ]
  },
  {
   "cell_type": "code",
   "execution_count": null,
   "metadata": {
    "id": "2KXT46kqXBkt",
    "outputId": "528f903d-d937-4ba8-cfbc-cadea92a218f"
   },
   "outputs": [
    {
     "name": "stdout",
     "output_type": "stream",
     "text": [
      "Seriez-vous à la réunion de ce soir ?\n",
      "================================================\n",
      "\t\n",
      "\"Oui\", répond-il.\n",
      "================================================\n",
      "\t\n",
      "D’accord, j'apprécierai bien.\n",
      "================================================\n",
      "\t\n",
      "Cette phrase est une longue chaîne de caractères contenant\n",
      "tous les types de guillemets: \" ' « » mais aussi de nombreux\n",
      "caractères spéciaux.\n"
     ]
    }
   ],
   "source": [
    "ch1 = 'Seriez-vous à la réunion de ce soir ?'\n",
    "ch2 = '\"Oui\", répond-il.'\n",
    "ch3 = \"D’accord, j'apprécierai bien.\"\n",
    "ch4 = \"\"\"Cette phrase est une longue chaîne de caractères contenant\n",
    "tous les types de guillemets: \" ' « » mais aussi de nombreux\n",
    "caractères spéciaux.\"\"\"\n",
    "print(ch1)\n",
    "print(\"================================================\")\n",
    "print('\\t')\n",
    "\n",
    "\n",
    "\n",
    "print(ch2)\n",
    "print(\"================================================\")\n",
    "print('\\t')\n",
    "\n",
    "\n",
    "print(ch3)\n",
    "print(\"================================================\")\n",
    "print('\\t')\n",
    "\n",
    "\n",
    "print(ch4)"
   ]
  },
  {
   "cell_type": "markdown",
   "metadata": {
    "id": "fgiXo8haXBkw"
   },
   "source": [
    "Ces quatre exemples montrent différentes utilisations des guillemets lors de la définition d’une\n",
    "variable en chaines de caractères.\n",
    "\n",
    " - Dans le premier exemple (`ch1`), on utilise des guillemets simples car il n’y a aucun inconvénient\n",
    "à cela compte tenu de la chaîne spécifiées. On pouvait aussi utiliser des guillemets doubles.\n",
    " - Dans le deuxième exemple (`ch2`), on utilise des guillemets simples car la chaînes spécifiée\n",
    "contient déjà des guillemets doubles comme valeur.\n",
    " - Dans le troisième exemple (`ch3`), on utilise les guillemets doubles car le texte contient des\n",
    "apostrophes qui sont en fait des guillemets simples.\n",
    " - Dans le quatrième exemple (ch4), on utilise les guillemets triples car le texte contient non\n",
    "seulement des guillemets simples, apostrophes et les guillemets doubles mais s’étend sur\n",
    "plusieurs lignes. Dans ces conditions, l’utilisation des guillemets triples s’impose."
   ]
  },
  {
   "cell_type": "markdown",
   "metadata": {
    "id": "fXGomVJPXBkx"
   },
   "source": [
    "##  <left> <b> <span style=\"color:orange;\"> 1. Indiçage des chaînes et sous-chaînes (*Slicing*) </span> </b></left> \n",
    "\n",
    "###  <left> <b> <span style=\"color:brown;\"> 1.0 Indiçage des chaînes et sous-chaînes (*Slicing*) </span> </b></left> \n",
    " \n",
    "\n",
    "Une chaîne de caractère est une séquence de valeurs ordonnées et indicées. Ce qui signifie\n",
    "qu’on peut accéder à chacun des éléments de la séquence en spécifiant son indice comme dans\n",
    "les liste.\n",
    "Aussi des portions d’une chaîne peuvent être extraites en utilisant des *slices* (« tranches »), de notation\n",
    "générique `[start=0]:[stop=len][:step=1]`. L’indexation en python commence à 0 : le 1er élément d’une liste est l’élément n°0, le\n",
    "2nd est le n°1, etc. Les n éléments d’une liste sont donc indexés de *0* à *n-1*. \n",
    "Les exemples ci-dessous sont des illustrations.\n",
    "\n",
    "```python\n",
    "ch=\"Christelle\"\n",
    "ch[0] # renvoie 'C'\n",
    "ch[2] # renvoie 'r'\n",
    "ch[-1] # renvoie 'e', le dernier élément de ch\n",
    "ch[:6] # Renvoie 'Christ'\n",
    "ch[6 :] # Renvoie 'elle'\n",
    "ch[0:10:2] # renvoie 'Crsel'\n",
    "```"
   ]
  },
  {
   "cell_type": "markdown",
   "metadata": {
    "id": "QEUcw4zpXBky"
   },
   "source": [
    "Les éléments d’une chaîne de caractères ne sont pas définie en fonction des mots\n",
    "séparés par des espace mais par les caractères qui le constituent. En effet, même si la chaîne\n",
    "avait été constituée par une phrase de plusieurs mots, les indiçages se feront uniquement sur la\n",
    "base des caractères qui forment la longue chaînes. Exemple :\n",
    "```python\n",
    "    ch=\"Ceci est une chaîne de plusieurs mots\"\n",
    "    ch[1] # renvoie 'e'\n",
    "    ch[4] # renvoie ' ', l’espace vide qui sépare Ceci et est.\n",
    "    ch[0:4] # renvoie 'Ceci'\n",
    "```"
   ]
  },
  {
   "cell_type": "markdown",
   "metadata": {
    "id": "WOWk8mTZXBk0"
   },
   "source": [
    "<left> <b> <span style=\"color:brown;\">On peut agir sur une chaîne (et plus généralement sur une séquence) en utilisant des\n",
    "fonctions (notion procédurale) ou des méthodes (notion objet). Nous en discutons plus bas.</span> </b></left> "
   ]
  },
  {
   "cell_type": "markdown",
   "metadata": {
    "id": "Qftq5wdCXBk2"
   },
   "source": [
    "###  <left> <b> <span style=\"color:brown;\"> 1.1  Longueur d’une chaîne de caractères </span> </b></left> \n",
    "\n",
    "\n",
    "Pour déterminer la longueur d’une chaîne, on utilise la fonction `len()`."
   ]
  },
  {
   "cell_type": "code",
   "execution_count": null,
   "metadata": {
    "id": "j2h15V_hXBk5",
    "outputId": "f52abb92-ce4b-4b5b-c1c6-b7e521a07ce3"
   },
   "outputs": [
    {
     "name": "stdout",
     "output_type": "stream",
     "text": [
      "37\n"
     ]
    }
   ],
   "source": [
    "ch=\"Ceci est une chaîne de plusieurs mots\"\n",
    "print(len(ch)) # renvoie 37; La chaîne ch est constituée de 37 caractères (espace compris)."
   ]
  },
  {
   "cell_type": "markdown",
   "metadata": {
    "id": "NuS1HNK9XBk6"
   },
   "source": [
    "###  <left> <b> <span style=\"color:brown;\"> 1.2  Addition de chaînes de caractères (**concaténation**) </span> </b></left> \n",
    "\n",
    "L’addition de chaînes de caractères est la juxtaposition de chaînes de caractères les unes à la\n",
    "suite des autres pour une former une chaîne de caractères unique. Il s’agit de la **concaténation**.\n",
    "Pour réaliser cette opération, on utilise le symbole + entre les noms des variables chaînes. Le\n",
    "résultat obtenu est ensuite assignée à une nouvelle variable. Exemples :"
   ]
  },
  {
   "cell_type": "code",
   "execution_count": null,
   "metadata": {
    "id": "lEEzDa1HXBk7",
    "outputId": "88770846-2e42-402e-ebcd-450a92b08f32"
   },
   "outputs": [
    {
     "name": "stdout",
     "output_type": "stream",
     "text": [
      "Un petit pas pour l'homme,un grand pas pour l'humanité\n"
     ]
    }
   ],
   "source": [
    "x = \"Un petit pas pour l'homme,\"\n",
    "y = \"un grand pas pour l'humanité\"\n",
    "z = x + y\n",
    "print(z) # renvoie 'Un petit pas pour l'homme, un grand pas pour l'humanité'"
   ]
  },
  {
   "cell_type": "markdown",
   "metadata": {
    "id": "Cm714Fc3XBk8"
   },
   "source": [
    "Attention toutefois dans l’utilisation de l’opérateur de concaténation lorsqu’il s’agit d’associer\n",
    "une valeur numérique à une chaîne pour former une chaîne unique. Exemple:\n",
    "```python\n",
    "    x = 'Le prix du stylo est'\n",
    "    y = 5\n",
    "    z = 'euros'\n",
    "\n",
    "```\n",
    "On veut concaténer x, y et z de sorte à obtenir la phrase 'Le prix du stylo est 5 euros'.\n",
    "Dans cette situation, on ne peut pas faire x+y+z car y est de type numérique. Il faut d’abord\n",
    "convertir celle-ci en utilisant la fonction str(). Ainsi on a :\n",
    "    "
   ]
  },
  {
   "cell_type": "code",
   "execution_count": null,
   "metadata": {
    "id": "2Pxq1H6aXBk-",
    "outputId": "adb0204b-73c3-4513-f8fe-86dd6b6b7954"
   },
   "outputs": [
    {
     "name": "stdout",
     "output_type": "stream",
     "text": [
      "Le prix du stylo est5euros\n"
     ]
    }
   ],
   "source": [
    "x = 'Le prix du stylo est'\n",
    "y = 5\n",
    "z = 'euros'\n",
    "ch = x+str(y)+z\n",
    "print(ch) # renvoie 'Le prix du stylo est5euros'"
   ]
  },
  {
   "cell_type": "markdown",
   "metadata": {
    "id": "3bjGOu8XXBk_"
   },
   "source": [
    "On voit que est 5 euros est sans espace, on peut alors modifier l’opération de concaténation en\n",
    "insérant des espace entre les valeurs. Ainsi, on a :\n"
   ]
  },
  {
   "cell_type": "code",
   "execution_count": null,
   "metadata": {
    "id": "EgjlouOvXBk_",
    "outputId": "70071e78-8ea5-4e5f-9346-088c204115db"
   },
   "outputs": [
    {
     "name": "stdout",
     "output_type": "stream",
     "text": [
      "Le prix du stylo est 5 euros\n"
     ]
    }
   ],
   "source": [
    "ch = x + ' '+ str(y) + ' '+ z\n",
    "print(ch) # renvoie Le prix du stylo est 5 euros"
   ]
  },
  {
   "cell_type": "markdown",
   "metadata": {
    "id": "cMl1sl9YXBlA"
   },
   "source": [
    "Ce résultat pouvait aussi être obtenu par une expression directe telle que :\n"
   ]
  },
  {
   "cell_type": "code",
   "execution_count": null,
   "metadata": {
    "id": "1DjjfsbpXBlB",
    "outputId": "524d96f6-1b14-4402-9a8d-fb35fca039ad"
   },
   "outputs": [
    {
     "name": "stdout",
     "output_type": "stream",
     "text": [
      "Le prix du stylo est 5 euros\n"
     ]
    }
   ],
   "source": [
    "ch = 'Le prix du stylo est'+ ' '+ '5' + ' '+ 'euros'\n",
    "print(ch) # renvoie 'Le prix du stylo est 5 euros'"
   ]
  },
  {
   "cell_type": "markdown",
   "metadata": {
    "id": "vi5MM7bwXBlU"
   },
   "source": [
    "###  <left> <b> <span style=\"color:brown;\"> 1.3 Méthodes </span> </b></left> \n",
    "\n",
    "Les chaînes de caractères disposent de [nombreuses fonctionnalités](https://docs.python.org/2/library/stdtypes.html#string-methods) – appelées `méthodes` en POO\n",
    "(Programmation Orientée Objet) – facilitant leur manipulation.\n",
    "La fonction `dir()` liste toutes les méthodes des chaînes. Au nombres de celles-ci, les plus courantes sont \n",
    "`upper()`, `lower()`, `capitalize()`, `find()`, `replace()`,`count()`,`startwith()`,`endwith()`, `in`."
   ]
  },
  {
   "cell_type": "code",
   "execution_count": null,
   "metadata": {
    "id": "INNZq1aaXBlW",
    "outputId": "5aaca088-4489-4cf9-9890-534742b54696"
   },
   "outputs": [
    {
     "name": "stdout",
     "output_type": "stream",
     "text": [
      "Help on built-in function replace:\n",
      "\n",
      "replace(old, new, count=-1, /) method of builtins.str instance\n",
      "    Return a copy with all occurrences of substring old replaced by new.\n",
      "    \n",
      "      count\n",
      "        Maximum number of occurrences to replace.\n",
      "        -1 (the default value) means replace all occurrences.\n",
      "    \n",
      "    If the optional argument count is given, only the first count occurrences are\n",
      "    replaced.\n",
      "\n"
     ]
    }
   ],
   "source": [
    "help(titre.replace)"
   ]
  },
  {
   "cell_type": "code",
   "execution_count": null,
   "metadata": {
    "id": "DPgi_pnrXBlZ",
    "outputId": "16de968a-b3ea-4881-f7fb-44001761c6bf"
   },
   "outputs": [
    {
     "name": "stdout",
     "output_type": "stream",
     "text": [
      "BONJOUR\n"
     ]
    }
   ],
   "source": [
    "# Tout en majuscules\n",
    "mot=\"Bonjour\"\n",
    "mot=mot.upper()\n",
    "print(mot)"
   ]
  },
  {
   "cell_type": "code",
   "execution_count": null,
   "metadata": {
    "id": "gmo8vtUUXBlb",
    "outputId": "86078fea-6249-46f4-9817-4e054dc17dfe"
   },
   "outputs": [
    {
     "name": "stdout",
     "output_type": "stream",
     "text": [
      "bonjour\n"
     ]
    }
   ],
   "source": [
    "#Tout en minuscules\n",
    "mot=\"Bonjour\"\n",
    "mot=mot.lower()\n",
    "print(mot)"
   ]
  },
  {
   "cell_type": "code",
   "execution_count": null,
   "metadata": {
    "id": "OGsXGdHtXBlc",
    "outputId": "1c0b723a-2934-4610-f4b0-6688a244d17f"
   },
   "outputs": [
    {
     "name": "stdout",
     "output_type": "stream",
     "text": [
      "Bonjour\n"
     ]
    }
   ],
   "source": [
    "# Seule la première lettre en majuscule\n",
    "mot=\"bonJOUR\"\n",
    "mot=mot.title()\n",
    "print(mot)"
   ]
  },
  {
   "cell_type": "code",
   "execution_count": null,
   "metadata": {
    "id": "6kU_7p-9XBld",
    "outputId": "34f079be-4b2b-4e89-9197-07c981a0b7a4"
   },
   "outputs": [
    {
     "name": "stdout",
     "output_type": "stream",
     "text": [
      "Calvin et Hobbes\n",
      "================================================\n",
      "\t\n",
      "Calvin & Hobbes\n",
      "================================================\n",
      "\t\n",
      "================================================\n",
      "\t\n",
      "True\n",
      "================================================\n",
      "\t\n",
      "10\n",
      "-------Calvin et Hobbes-------\n"
     ]
    },
    {
     "data": {
      "text/plain": [
       "['__add__',\n",
       " '__class__',\n",
       " '__contains__',\n",
       " '__delattr__',\n",
       " '__dir__',\n",
       " '__doc__',\n",
       " '__eq__',\n",
       " '__format__',\n",
       " '__ge__',\n",
       " '__getattribute__',\n",
       " '__getitem__',\n",
       " '__getnewargs__',\n",
       " '__gt__',\n",
       " '__hash__',\n",
       " '__init__',\n",
       " '__init_subclass__',\n",
       " '__iter__',\n",
       " '__le__',\n",
       " '__len__',\n",
       " '__lt__',\n",
       " '__mod__',\n",
       " '__mul__',\n",
       " '__ne__',\n",
       " '__new__',\n",
       " '__reduce__',\n",
       " '__reduce_ex__',\n",
       " '__repr__',\n",
       " '__rmod__',\n",
       " '__rmul__',\n",
       " '__setattr__',\n",
       " '__sizeof__',\n",
       " '__str__',\n",
       " '__subclasshook__',\n",
       " 'capitalize',\n",
       " 'casefold',\n",
       " 'center',\n",
       " 'count',\n",
       " 'encode',\n",
       " 'endswith',\n",
       " 'expandtabs',\n",
       " 'find',\n",
       " 'format',\n",
       " 'format_map',\n",
       " 'index',\n",
       " 'isalnum',\n",
       " 'isalpha',\n",
       " 'isascii',\n",
       " 'isdecimal',\n",
       " 'isdigit',\n",
       " 'isidentifier',\n",
       " 'islower',\n",
       " 'isnumeric',\n",
       " 'isprintable',\n",
       " 'isspace',\n",
       " 'istitle',\n",
       " 'isupper',\n",
       " 'join',\n",
       " 'ljust',\n",
       " 'lower',\n",
       " 'lstrip',\n",
       " 'maketrans',\n",
       " 'partition',\n",
       " 'replace',\n",
       " 'rfind',\n",
       " 'rindex',\n",
       " 'rjust',\n",
       " 'rpartition',\n",
       " 'rsplit',\n",
       " 'rstrip',\n",
       " 'split',\n",
       " 'splitlines',\n",
       " 'startswith',\n",
       " 'strip',\n",
       " 'swapcase',\n",
       " 'title',\n",
       " 'translate',\n",
       " 'upper',\n",
       " 'zfill']"
      ]
     },
     "execution_count": 35,
     "metadata": {
      "tags": []
     },
     "output_type": "execute_result"
    }
   ],
   "source": [
    "enfant, peluche = \"Calvin\", 'Hobbes' # Affectation mutiple\n",
    "\n",
    "\n",
    "\n",
    "titre = enfant + ' et ' + peluche; titre # +: Concaténation de chaînes\n",
    "print(titre)\n",
    "print(\"================================================\")\n",
    "print('\\t')\n",
    "\n",
    "\n",
    "\n",
    "\n",
    "\n",
    "print(titre.replace('et', '&')) # Remplacement de sous-chaînes 'Calvin & Hobbes'\n",
    "print(\"================================================\")\n",
    "print('\\t')\n",
    "\n",
    "\n",
    "\n",
    "' & '.join(titre.split(' et ')) # Découpage (split) et jonction (join)\n",
    "print(\"================================================\")\n",
    "print('\\t')\n",
    "\n",
    "\n",
    "\n",
    "\n",
    "print('Hobbes' in titre) # in: Test d'inclusion\n",
    "print(\"================================================\")\n",
    "print('\\t')\n",
    "\n",
    "\n",
    "\n",
    "print(titre.find(\"Hobbes\")) # str.find: Recherche de sous-chaîne\n",
    "\n",
    "\n",
    "print(titre.center(30, '-')) # '-------Calvin et Hobbes-------'\n",
    "\n",
    "\n",
    "dir(str) # Liste toutes les méthodes des chaînes"
   ]
  },
  {
   "cell_type": "markdown",
   "metadata": {
    "id": "Ncvysi3KXBle"
   },
   "source": [
    "###  <left> <b> <span style=\"color:brown;\"> 1.4 Formatage </span> </b></left> \n",
    "\n",
    "Il arrive très souvent que l’on veuille récupérer la valeur d’une variable et l’intégrer à une chaine\n",
    "de caractères pour former une nouvelle chaine de caractères utilisable à d’autres fins.\n",
    "Soit\n",
    "la variable prix définie comme suit\n",
    "```python prix=2\n",
    "```\n",
    "Nous voulons afficher un message de genre \n",
    "`\"Le prix du stylo est de 2 euros\"`.\n",
    "\n",
    "Le but de\n",
    "l’opération de l’opération de formatage de faire afficher la valeur d’une variable à l’intérieur\n",
    "d’une chaine de caractères. Pour cela, on dispose de trois principales méthodes:\n",
    "  - l'utilisation de l'opérateur de concaténation \"+ \"\n",
    "  - l'utilisation de l’opérateur de formatage \"%\" %\n",
    "  - l'utilisation de la fonction format \"{}\".format().\n",
    "  \n",
    "Nous montrerons juste un example avec la méthode `str.format()`.\n",
    "Le système de [formatage](https://docs.python.org/2/library/string.html#formatstrings) permet un contrôle précis de la conversion de variables en chaînes de caractères.\n",
    "Il s’appuie essentiellement sur la méthode `str.format()`:"
   ]
  },
  {
   "cell_type": "code",
   "execution_count": null,
   "metadata": {
    "id": "XdYHzH3rXBlf",
    "outputId": "b258639c-683d-44fc-b95c-32408136c1d2"
   },
   "outputs": [
    {
     "name": "stdout",
     "output_type": "stream",
     "text": [
      "Calvin a 6 ans\n",
      "================================================\n",
      "\t\n",
      "Calvin a 6 ans\n",
      "================================================\n",
      "\t\n",
      "3.141593 3.14 3141592653.589793 3.14159e+09 \n"
     ]
    }
   ],
   "source": [
    "print(\"{nom} a {age} ans\".format(nom='Calvin', age=6)) #'Calvin a 6 ans'\n",
    "print(\"================================================\")\n",
    "print('\\t')\n",
    "\n",
    "\n",
    "print(\"{} a {} ans\".format('Calvin', 6)) # Raccourci  'Calvin a 6 ans'\n",
    "print(\"================================================\")\n",
    "print('\\t')\n",
    "\n",
    "\n",
    "\n",
    "pi = 3.1415926535897931\n",
    "print(\"{x:f} {x:.2f} {y:f} {y:g} \".format(x=pi, y=pi*1e9)) # '3.141593 3.14 3141592653.589793 3.14159e+09'"
   ]
  },
  {
   "cell_type": "markdown",
   "metadata": {
    "id": "LjAD8w_gXBlg"
   },
   "source": [
    "[print](https://docs.python.org/2/library/functions.html#print) affiche à l’écran (plus spécifiquement la sortie standard) la conversion d’une variable en chaîne\n",
    "de caractères :"
   ]
  },
  {
   "cell_type": "code",
   "execution_count": null,
   "metadata": {
    "id": "5o7J1FaJXBlg",
    "outputId": "7a7de11a-3173-44d8-b82e-f25958a6d053"
   },
   "outputs": [
    {
     "name": "stdout",
     "output_type": "stream",
     "text": [
      "Calvin and Hobbes\n",
      "Scientific progress goes 'boink'\n"
     ]
    }
   ],
   "source": [
    "print(\"Calvin and Hobbes\\nScientific progress goes 'boink'\") # Calvin and Hobbes Scientific progress goes 'boink'"
   ]
  },
  {
   "cell_type": "code",
   "execution_count": null,
   "metadata": {
    "id": "4JOgPokrXBlg",
    "outputId": "f6a6bfff-7b18-4e0b-ecc4-952f544764ac"
   },
   "outputs": [
    {
     "name": "stdout",
     "output_type": "stream",
     "text": [
      "3 fois 4 font 12 \n"
     ]
    }
   ],
   "source": [
    "print((\"{0} fois {1} font {2} \").format(3, 4, 3*4)) # Formatage et affichage\n",
    "#3 fois 4 font 12\n",
    "#Un petit exercice dans cette section est d'afficher une table de multiplication."
   ]
  },
  {
   "cell_type": "markdown",
   "metadata": {
    "id": "vrppkQ_UXBlh"
   },
   "source": [
    "Un point que nous n'aborderons pas dans le present calepin mais qu'il serait bon de lire est l'utilisation de l’opérateur **antislash** `\\`."
   ]
  },
  {
   "cell_type": "markdown",
   "metadata": {
    "id": "jw_-zuOSXBli"
   },
   "source": [
    "En concluant cette section, nous faisons mention de l'etudes des expressions régulières (regex ou re) qui sera l'objet d'un expose. Nous pouvons, a titre de guide, dire que les expressions régulières\n",
    "sont des extensions de la fonction str() qui permettent de réaliser des opérations plus\n",
    "complexes de définition de motifs que ne permettent des fonction str()."
   ]
  },
  {
   "cell_type": "markdown",
   "metadata": {
    "id": "FAUEwzxFXBlj"
   },
   "source": [
    "**Remarque:** Il faut faire une remarque importante concernant la\n",
    "différence entre une valeur de type caractère et une valeur de type alphabétique. En effet, une\n",
    "valeur alphabétique est toujours une chaîne de caractère alors qu’une chaîne de caractère n’est\n",
    "pas nécessairement une valeur alphabétique. Sous python, une valeur caractère est toujours\n",
    "exprimée entre guillemets (simple, double ou triple) alors qu’une valeur numérique est\n",
    "exprimée sans guillemets. On distingue deux principaux types de données : les données\n",
    "numériques et les données en caractères. Il faut noter qu’une valeur numérique exprimée entre\n",
    "guillemets est automatiquement traitée comme une valeur caractère même si elle n’est pas\n",
    "alphabétique. Il est important de garder à l’esprit ces détails lors de la manipulation des\n",
    "séquences de valeurs sous python (voir exemple ci-dessous):\n",
    "\n",
    "```python\n",
    "    x = 12 # x est une variable numérique\n",
    "    y = \"12\" # y est une chaîne de caractère formée par une chiffres\n",
    "    z = \"mon texte\" # z est une chaîne de caractères formée de valeurs alphabétiques\n",
    "    k = \"Ce stylo coûte 5 euros\" # k est une chaîne de caractères formée de valeur alphanumérique\n",
    "```"
   ]
  },
  {
   "cell_type": "markdown",
   "metadata": {
    "id": "68h8gAj2XBlj"
   },
   "source": [
    "Pour plus de détails sur le traitement des chaines de caractères consulter [cette page.](http://www.tutorialspoint.com/python/python_strings.htm)"
   ]
  },
  {
   "cell_type": "markdown",
   "metadata": {
    "id": "1ZJRlE0OXBlm"
   },
   "source": [
    "<!--NAVIGATION-->\n",
    "<  [2. Variables,Types et Opérations](https://nbviewer.jupyter.org/github/ai-technipreneurs/programmation-python-pratique/blob/master/calepins-nbviewer/2_Variables_Types_Op%C3%A9rations.ipynb)| [Sommaire](https://nbviewer.jupyter.org/github/ai-technipreneurs/programmation-python-pratique/blob/master/calepins-nbviewer/Index.ipynb) |  [4. Objets itérables ou conteneurs]() >\n"
   ]
  },
  {
   "cell_type": "code",
   "execution_count": null,
   "metadata": {},
   "outputs": [],
   "source": []
  }
 ],
 "metadata": {
  "colab": {
   "include_colab_link": true,
   "name": "3_Chaînes-de-caractères.ipynb",
   "provenance": []
  },
  "kernelspec": {
   "display_name": "Python 3",
   "language": "python",
   "name": "python3"
  },
  "language_info": {
   "codemirror_mode": {
    "name": "ipython",
    "version": 3
   },
   "file_extension": ".py",
   "mimetype": "text/x-python",
   "name": "python",
   "nbconvert_exporter": "python",
   "pygments_lexer": "ipython3",
   "version": "3.7.3"
  },
  "varInspector": {
   "cols": {
    "lenName": 16,
    "lenType": 16,
    "lenVar": 40
   },
   "kernels_config": {
    "python": {
     "delete_cmd_postfix": "",
     "delete_cmd_prefix": "del ",
     "library": "var_list.py",
     "varRefreshCmd": "print(var_dic_list())"
    },
    "r": {
     "delete_cmd_postfix": ") ",
     "delete_cmd_prefix": "rm(",
     "library": "var_list.r",
     "varRefreshCmd": "cat(var_dic_list()) "
    }
   },
   "types_to_exclude": [
    "module",
    "function",
    "builtin_function_or_method",
    "instance",
    "_Feature"
   ],
   "window_display": false
  }
 },
 "nbformat": 4,
 "nbformat_minor": 1
}
