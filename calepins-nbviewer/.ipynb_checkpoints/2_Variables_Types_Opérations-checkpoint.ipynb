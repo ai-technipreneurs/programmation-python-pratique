{
 "cells": [
  {
   "cell_type": "markdown",
   "metadata": {
    "colab_type": "text",
    "id": "view-in-github"
   },
   "source": [
    "<a href=\"https://colab.research.google.com/github/ai-technipreneurs/programmation-python-pratique/blob/master/2_Variables_Types_Op%C3%A9rations.ipynb\" target=\"_parent\"><img src=\"https://colab.research.google.com/assets/colab-badge.svg\" alt=\"Open In Colab\"/></a>"
   ]
  },
  {
   "cell_type": "markdown",
   "metadata": {
    "id": "Fe-QJHTzUObe"
   },
   "source": [
    "****\n",
    "\n",
    "# <center> <b> <span style=\"color:orange;\"> Atelier 3P </span> </b></center>\n",
    "\n",
    "## <center> <b> <span style=\"color:green;\">Programmation Python Pratique</span> </b></center>\n",
    "\n",
    "<center>\n",
    "    <a href=\"https://github.com/ai-technipreneurs\" ><img src=\"https://avatars.githubusercontent.com/u/83169416?v=4\" style=\"float:center; max-width: 650px; display: inline\" alt=\"IMSP\"/> </a>\n",
    "    </center>\n",
    "\n",
    "### <center> <b> <span style=\"color:blue;\">Jour 01: Introduction à Python  </span> </b></center>\n",
    "\n",
    "#### <left> <b> <span style=\"color:brown;\">Instructeur : </span> </b></left>[ai-technipreneurs](https://github.com/ai-technipreneurs)\n",
    "\n",
    "****"
   ]
  },
  {
   "cell_type": "markdown",
   "metadata": {
    "id": "aHOJAzhJUObm"
   },
   "source": [
    "Dès que l’on possède des *types de données*, on a besoin des *variables* pour stocker les\n",
    "    données.\n",
    "    En réalité, Python n’offre pas la notion de variable, mais plutôt celle de *référence d’objet*. Tant\n",
    "    que l’objet n’est pas modifiable (comme les entiers, les flottants, etc.), il n’y a pas de différence\n",
    "    notable. Dans le présent calepin, nous discutons les grandes lignes atour de l'utilisation des variables sous Python."
   ]
  },
  {
   "cell_type": "markdown",
   "metadata": {
    "id": "Hf8s19kkUObz"
   },
   "source": [
    "#  <left> <b> <span style=\"color:orange;\"> 0. Définir une variable</span> </b></left>\n",
    "\n",
    "Sous Python, une variable est un objet de programmation permettant de stocker une\n",
    "information en mémoire de la machine en attribuant un nom symbolique. Une variable est\n",
    "définie en utilisant l’opérateur mathématique `=` soit par assignation directe de sa valeur, ou par\n",
    "une assignation à partir de la valeur d’une autre variable. Exemples :"
   ]
  },
  {
   "cell_type": "markdown",
   "metadata": {
    "id": "1XtDNGDvUOb1"
   },
   "source": [
    "## <left> <b> <span style=\"color:brown;\"> 0.0 Assignation directe</span> </b></left>"
   ]
  },
  {
   "cell_type": "code",
   "execution_count": null,
   "metadata": {
    "id": "TPsVwXJTUOb3"
   },
   "outputs": [],
   "source": [
    "x = 86 # définit la variable nommée x et lui assigne la valeur 86"
   ]
  },
  {
   "cell_type": "code",
   "execution_count": null,
   "metadata": {
    "id": "LGFBV404UOb5"
   },
   "outputs": [],
   "source": [
    "y = 4.8134 # définit la variable nommée y et lui assigne la valeur 4.8134\n"
   ]
  },
  {
   "cell_type": "code",
   "execution_count": null,
   "metadata": {
    "id": "F_BxxSHeUOb5"
   },
   "outputs": [],
   "source": [
    "salutation = \"Comment allez-vous ?\" # Définit la variable nommée salutation et lui assigne la valeur \" Comment allez-vous ?\""
   ]
  },
  {
   "cell_type": "markdown",
   "metadata": {
    "id": "zEHz3asPUOb6"
   },
   "source": [
    "## <left> <b> <span style=\"color:brown;\"> 0.1 Affichage</span> </b></left>\n",
    "\n",
    "Pour afficher les valeurs des trois variables définies, on utilise la fonction `print()`-sur laquelle nous reviendrons quand nous parlerons des *objets fonctions sous Python*."
   ]
  },
  {
   "cell_type": "code",
   "execution_count": null,
   "metadata": {
    "id": "0InQACGpUOb7",
    "outputId": "71ce12c9-4136-4f3b-df91-7a77e9894caf"
   },
   "outputs": [
    {
     "name": "stdout",
     "output_type": "stream",
     "text": [
      "86\n"
     ]
    }
   ],
   "source": [
    "print(x)"
   ]
  },
  {
   "cell_type": "code",
   "execution_count": null,
   "metadata": {
    "id": "wT02fq0FUOb_",
    "outputId": "92e4a9bf-4752-4988-ac84-46e6aae9881f"
   },
   "outputs": [
    {
     "name": "stdout",
     "output_type": "stream",
     "text": [
      "4.8134\n"
     ]
    }
   ],
   "source": [
    "print(y)"
   ]
  },
  {
   "cell_type": "code",
   "execution_count": null,
   "metadata": {
    "id": "maU6TveuUOcA",
    "outputId": "8caf38a4-69e2-4bb7-8539-d26b36881e89"
   },
   "outputs": [
    {
     "name": "stdout",
     "output_type": "stream",
     "text": [
      "Comment allez-vous ?\n"
     ]
    }
   ],
   "source": [
    "print(salutation)"
   ]
  },
  {
   "cell_type": "markdown",
   "metadata": {
    "id": "gS4gs4HNUOcC"
   },
   "source": [
    "Pour afficher les trois valeurs sur la même ligne on utilise une seule fonction print() en séparant\n",
    "les variables par des virgules :"
   ]
  },
  {
   "cell_type": "code",
   "execution_count": null,
   "metadata": {
    "id": "TaNFF6kuUOcD",
    "outputId": "b4359b01-bf3f-4265-850c-b20ff0d4ea67"
   },
   "outputs": [
    {
     "name": "stdout",
     "output_type": "stream",
     "text": [
      "86 4.8134 Comment allez-vous ?\n"
     ]
    }
   ],
   "source": [
    "print(x,y,salutation)"
   ]
  },
  {
   "cell_type": "markdown",
   "metadata": {
    "id": "zmNBeMIKUOcG"
   },
   "source": [
    "## <left> <b> <span style=\"color:brown;\"> 0.2 Assignation multiple</span> </b></left>\n",
    "\n",
    "Les examples présentes entrent dans le cadre de ce qe nous appelons `assignation directe`. Une `assignation multiple` est un cas d'`assignation directe` qui consiste à attribuer une même valeur à plusieurs variables dans la\n",
    "même ligne de code. Exemple :"
   ]
  },
  {
   "cell_type": "code",
   "execution_count": null,
   "metadata": {
    "id": "hkXJg7jZUOcH"
   },
   "outputs": [],
   "source": [
    "x = y = 7 # x et y prennent la même valeur simultanément 7."
   ]
  },
  {
   "cell_type": "markdown",
   "metadata": {
    "id": "kim9IIwJUOcH"
   },
   "source": [
    "## <left> <b> <span style=\"color:brown;\"> 0.3 Assignation parallèle</span> </b></left>\n",
    "Une `assignation parallèle` consiste à définir plusieurs variables en utilisant un seul symbole\n",
    "d’égalité. Exemple :"
   ]
  },
  {
   "cell_type": "code",
   "execution_count": null,
   "metadata": {
    "id": "XknS8csEUOcJ"
   },
   "outputs": [],
   "source": [
    "x, y = 4, 8.33 # On définit deux variables x et y dont les valeurs sont respectivement 4 et 8.33."
   ]
  },
  {
   "cell_type": "code",
   "execution_count": null,
   "metadata": {
    "id": "WyD8XblGUOcJ",
    "outputId": "c408f16b-834e-47ed-fa96-7d9217966dc0"
   },
   "outputs": [
    {
     "ename": "SyntaxError",
     "evalue": "can't assign to literal (<ipython-input-110-74505f970abb>, line 3)",
     "output_type": "error",
     "traceback": [
      "\u001b[0;36m  File \u001b[0;32m\"<ipython-input-110-74505f970abb>\"\u001b[0;36m, line \u001b[0;32m3\u001b[0m\n\u001b[0;31m    128 = a\u001b[0m\n\u001b[0m           ^\u001b[0m\n\u001b[0;31mSyntaxError\u001b[0m\u001b[0;31m:\u001b[0m can't assign to literal\n"
     ]
    }
   ],
   "source": [
    "## 0.2 Erreur d'assignation\n",
    "\n",
    "128 = a"
   ]
  },
  {
   "cell_type": "code",
   "execution_count": null,
   "metadata": {
    "id": "Q6HLgFpPUOcL",
    "outputId": "35b665fa-4104-41bf-bcd3-7263b0cb94e7"
   },
   "outputs": [
    {
     "ename": "SyntaxError",
     "evalue": "invalid syntax (<ipython-input-111-857d56225df4>, line 1)",
     "output_type": "error",
     "traceback": [
      "\u001b[0;36m  File \u001b[0;32m\"<ipython-input-111-857d56225df4>\"\u001b[0;36m, line \u001b[0;32m1\u001b[0m\n\u001b[0;31m    Ceci nous appelle a parler brièvement des noms de variables admissibles sous Python.\u001b[0m\n\u001b[0m            ^\u001b[0m\n\u001b[0;31mSyntaxError\u001b[0m\u001b[0;31m:\u001b[0m invalid syntax\n"
     ]
    }
   ],
   "source": [
    "Ceci nous appelle a parler brièvement des noms de variables admissibles sous Python. "
   ]
  },
  {
   "cell_type": "markdown",
   "metadata": {
    "id": "digc9fLcUOcT"
   },
   "source": [
    "##  <left> <b> <span style=\"color:brown;\">0.4 Conventions de nommage </span> </b></left>"
   ]
  },
  {
   "cell_type": "markdown",
   "metadata": {
    "id": "GRGZv0AUUOcV"
   },
   "source": [
    "Les conventions de nommage des différents éléments de code sont importantes car elles donnent des informations supplémentaires aux développeurs quant à la nature de certains attributs ou certaines variables. Il faut garder à l'esprit certaines règles concernant les noms de variables.\n",
    "La convention pour les noms de variable est la suivante:\n",
    " \n",
    "   - Ils ne doivent être constitués que de caractères alphanumériques (a-z, A-Z, 0-9) et du caractère de soulignement` _`.\n",
    "   - Les noms de variables peuvent debuter avec `_` , `$` , ou une lettre;\n",
    "   - Les noms de variables peuvent etre en miniscule ou en majuscule;\n",
    "   - Les noms de variables ne peuvent debuter avec un chiffre;\n",
    "   - Les espaces blancs ne sont pas autorisés dans les noms de variables;\n",
    "   - Les mots réservés tels que `if`, `else` , etc., ne peuvent être utilisés comme noms de variables;\n",
    "\n",
    "\n",
    "<left> <b> <span style=\"color:brown;\"> Le bon programmeur s’efforce bien entendu de choisir les noms de variables les plus pertinents possible. </span> </b></left>"
   ]
  },
  {
   "cell_type": "markdown",
   "metadata": {
    "id": "bofqUjNiUOcW"
   },
   "source": [
    "Sous Python, il existe **33** mots réservés dont la liste est fournie ci-dessous:"
   ]
  },
  {
   "cell_type": "markdown",
   "metadata": {
    "id": "FT1kqw3UUOcY"
   },
   "source": [
    "|             |                  |                  |                  |                  | \n",
    "|-------------|------------------|------------------|------------------|------------------|\n",
    "|``and``      | ``elif``         | ``if``           | ``or``           | ``yield``        |\n",
    "|``as``       | ``else``         | ``import``       | ``pass``         |                  | \n",
    "|``assert``   | ``except``       | ``in``           | ``raise``        |                  |  \n",
    "|``break``    | ``False``        | ``is``           | ``return``       |                  |\n",
    "|``class``    | ``finally``      | ``lambda``       | ``True``         |                  |\n",
    "|``continue`` | ``for``          | ``None``         | ``try``          |                  |\n",
    "|``def``      | ``from``         | ``nonlocal``     | ``while``        |                  |\n",
    "|``del``      | ``global``       | ``not``          | ``with``         |                  |"
   ]
  },
  {
   "cell_type": "markdown",
   "metadata": {
    "id": "waG7S-3XUOcY"
   },
   "source": [
    "### <left> <b> <span style=\"color:red;\"> Note</span> </b></left>\n",
    "\n",
    "Vous pouvez toujours obtenir la liste des mots-clés dans votre version actuelle de Python en tapant \n",
    "`import keyword ; print(keyword.kwlist)` dans un environnement Python. "
   ]
  },
  {
   "cell_type": "code",
   "execution_count": null,
   "metadata": {
    "id": "Iw7Cx_glUOcZ",
    "outputId": "c8aad8fd-c6af-4e07-da5d-c61efecaf6fc"
   },
   "outputs": [
    {
     "name": "stdout",
     "output_type": "stream",
     "text": [
      "['False', 'None', 'True', 'and', 'as', 'assert', 'async', 'await', 'break', 'class', 'continue', 'def', 'del', 'elif', 'else', 'except', 'finally', 'for', 'from', 'global', 'if', 'import', 'in', 'is', 'lambda', 'nonlocal', 'not', 'or', 'pass', 'raise', 'return', 'try', 'while', 'with', 'yield']\n"
     ]
    }
   ],
   "source": [
    "import keyword ; print(keyword.kwlist)"
   ]
  },
  {
   "cell_type": "markdown",
   "metadata": {
    "id": "CsNq5kanUOca"
   },
   "source": [
    "**Remarque**: Python est sensible à la casse, ainsi, les noms de variables `Age` et `age` sont distincts. Suivant le langage, il y a une [convention de nommage](https://en.wikipedia.org/wiki/Naming_convention_(programming)#Python_and_Ruby) pour les variables qui est recommandée. \n",
    "\n",
    "- `UpperCamelCase` pour les noms de classe;\n",
    "\n",
    "- `CAPITALIZED_WITH_UNDERSCORES` pour les constantes;\n",
    "\n",
    "- `lowercase_separated_by_underscores` ou `snake_case` pour les autres variables."
   ]
  },
  {
   "cell_type": "markdown",
   "metadata": {
    "id": "U2xHcxAgUOca"
   },
   "source": [
    "****\n",
    "**Un exercice fondamental : l’échange des contenus de deux variables**\n",
    "\n",
    "> On suppose que les variables `x` et `y` ont pour valeurs respectives des entiers $\\alpha$ et $\\beta$. On souhaite\n",
    "échanger le contenu de ces deux variables.\n",
    "\n",
    ">   - a. Première méthode : Proposer une méthode qui utilise une variable auxiliaire `tmp`.\n",
    "       ```python\n",
    "          tmp = x\n",
    "          x = y\n",
    "          y = tmp\n",
    "       ```\n",
    ">   - b. Deuxième méthode : On exécute la séquence d’instructions suivante :\n",
    "       ```python \n",
    "          x = x + y; y = x - y; x = x - y  \n",
    "       ```\n",
    "       \n",
    ">   - c. Troisième méthode (la plus « pythonique ») : Utiliser une affectation parallèle.\n",
    "      ```python\n",
    "         x, y = y, x\n",
    "      ```   \n",
    "**** "
   ]
  },
  {
   "cell_type": "markdown",
   "metadata": {
    "id": "ljpJuja2UOca"
   },
   "source": [
    "### <left> <b> <span style=\"color:red;\"> Première méthode </span> </b></left>"
   ]
  },
  {
   "cell_type": "code",
   "execution_count": null,
   "metadata": {
    "id": "7GKADryQUOcb",
    "outputId": "a444a889-3e80-4f13-ff6c-2d1c841211d9"
   },
   "outputs": [
    {
     "name": "stdout",
     "output_type": "stream",
     "text": [
      "5 4\n",
      "================================================\n",
      "\t\n",
      "4 5\n"
     ]
    }
   ],
   "source": [
    "x = 5\n",
    "y = 4  \n",
    "print(x,y)\n",
    "print(\"================================================\")\n",
    "print('\\t')\n",
    "\n",
    "tmp = x\n",
    "x = y\n",
    "y = tmp\n",
    "print(x,y)"
   ]
  },
  {
   "cell_type": "markdown",
   "metadata": {
    "id": "y39wJW3uUOcc"
   },
   "source": [
    "### <left> <b> <span style=\"color:red;\"> Deuxième méthode </span> </b></left> "
   ]
  },
  {
   "cell_type": "code",
   "execution_count": null,
   "metadata": {
    "id": "E0JZDkqoUOcc",
    "outputId": "14c068e6-95f1-4f6b-d8bd-b3a09bbed58d"
   },
   "outputs": [
    {
     "name": "stdout",
     "output_type": "stream",
     "text": [
      "7 9\n",
      "================================================\n",
      "\t\n",
      "9 7\n"
     ]
    }
   ],
   "source": [
    "x = 7\n",
    "y = 9 \n",
    "print(x,y)\n",
    "print(\"================================================\")\n",
    "print('\\t')\n",
    "\n",
    "\n",
    "x = x + y; y = x - y; x = x - y \n",
    "print(x,y)"
   ]
  },
  {
   "cell_type": "markdown",
   "metadata": {
    "id": "Hyl7xIqgUOcd"
   },
   "source": [
    "### <left> <b> <span style=\"color:red;\"> Troisième méthode </span> </b></left> "
   ]
  },
  {
   "cell_type": "code",
   "execution_count": null,
   "metadata": {
    "id": "UTVGan3eUOce",
    "outputId": "3a29723f-eff3-401b-ed20-f5361c76740f"
   },
   "outputs": [
    {
     "name": "stdout",
     "output_type": "stream",
     "text": [
      "90 15\n",
      "================================================\n",
      "\t\n",
      "15 90\n"
     ]
    }
   ],
   "source": [
    "x = 90\n",
    "y = 15\n",
    "print(x,y)\n",
    "print(\"================================================\")\n",
    "print('\\t')\n",
    "\n",
    "\n",
    "x, y = y, x\n",
    "print(x,y)"
   ]
  },
  {
   "cell_type": "code",
   "execution_count": null,
   "metadata": {
    "id": "7g_m3-9jUOcf",
    "outputId": "50f740b1-5859-4acd-d8aa-f64a93562045"
   },
   "outputs": [
    {
     "data": {
      "text/plain": [
       "15"
      ]
     },
     "execution_count": 116,
     "metadata": {
      "tags": []
     },
     "output_type": "execute_result"
    }
   ],
   "source": [
    "x"
   ]
  },
  {
   "cell_type": "markdown",
   "metadata": {
    "id": "gl_PgOPUUOch"
   },
   "source": [
    "Signalons rapidement que pour supprimer une variable, on dispose de la fonction `del`. Supprimons la variable `x` avec `del x`"
   ]
  },
  {
   "cell_type": "code",
   "execution_count": null,
   "metadata": {
    "id": "YbaPtKwpUOci"
   },
   "outputs": [],
   "source": [
    "del x"
   ]
  },
  {
   "cell_type": "markdown",
   "metadata": {
    "id": "cGPeOMN4UOcj"
   },
   "source": [
    "Vérifions que la variable `x` n'existe plus."
   ]
  },
  {
   "cell_type": "code",
   "execution_count": null,
   "metadata": {
    "id": "okNd-nsMUOcj",
    "outputId": "eca5f3aa-b373-4276-cd9c-0ec8851751a0"
   },
   "outputs": [
    {
     "ename": "NameError",
     "evalue": "name 'x' is not defined",
     "output_type": "error",
     "traceback": [
      "\u001b[0;31m---------------------------------------------------------------------------\u001b[0m",
      "\u001b[0;31mNameError\u001b[0m                                 Traceback (most recent call last)",
      "\u001b[0;32m<ipython-input-118-fc17d851ef81>\u001b[0m in \u001b[0;36m<module>\u001b[0;34m()\u001b[0m\n\u001b[0;32m----> 1\u001b[0;31m \u001b[0mprint\u001b[0m\u001b[0;34m(\u001b[0m\u001b[0mx\u001b[0m\u001b[0;34m)\u001b[0m\u001b[0;34m\u001b[0m\u001b[0;34m\u001b[0m\u001b[0m\n\u001b[0m",
      "\u001b[0;31mNameError\u001b[0m: name 'x' is not defined"
     ]
    }
   ],
   "source": [
    "print(x)"
   ]
  },
  {
   "cell_type": "markdown",
   "metadata": {
    "id": "5a4908d-UOcn"
   },
   "source": [
    "#  <left> <b> <span style=\"color:orange;\"> 1. Type d’une variable </span> </b></left>\n",
    "\n",
    "\n",
    "Le type d’une variable correspond à la nature de celle-ci. Il existe de nombreux autres types de\n",
    "variables (nombre entier, nombre réel, chaînes de caractères, etc). Les types de variables les\n",
    "plus couramment rencontrés sont les entier (int) , les nombres réels (float), les chaînes de\n",
    "caractères (str).\n",
    "\n",
    "Les types de base sont:\n",
    "\n",
    "   - Types numériques :\n",
    "      - Entiers `int`\n",
    "      - Réels `float`\n",
    "      - Booléens `bool`, (vrai/faux) : `True`, `False`,\n",
    "\n",
    "   \n",
    "   - Chaînes de caractères : `str`\n",
    "      - Entre (simples, doubles ou triples) apostrophes `'` ou guillemets `\"` : `'Calvin'`, `\"Calvin'n'Hobbes\"`,\n",
    "       `'''Deux\\nlignes'''`, `\"\"\"'Pourquoi?' demanda-t-il.\"\"\"`\n",
    "       \n",
    "Des types plus complexes comme   \n",
    "   - None (rien)\n",
    "   - Complexes`complex`:`1+2j`, `5.1j`, `complex(-3.14)`, `complex('j')`\n",
    "exstent aussi mais ne seront abordés que plus tard dans cette formation.   "
   ]
  },
  {
   "cell_type": "markdown",
   "metadata": {
    "id": "HAJcSs4cUOco"
   },
   "source": [
    "Python est un langage au typage dynamique, c’est-à-dire qu’il reconnaît directement le type\n",
    "des variables lorsque sa valeur est indiquée. Ainsi, contrairement à d'autres langages comme le\n",
    "langage C, il n'y a pas de déclaration de type obligatoire lors de la création d'une variable.\n",
    "Exemples :"
   ]
  },
  {
   "cell_type": "code",
   "execution_count": null,
   "metadata": {
    "id": "lyZwO6U3UOcp"
   },
   "outputs": [],
   "source": [
    "x = 2 # type entier (int)\n",
    "x = 2. # type réel (float avec décimaux)\n",
    "x = '2' # type caractère (string)"
   ]
  },
  {
   "cell_type": "markdown",
   "metadata": {
    "id": "fDvMkR3jUOcq"
   },
   "source": [
    "Pour connaitre le type d’une variable, on utilise la fonction `type()`."
   ]
  },
  {
   "cell_type": "code",
   "execution_count": null,
   "metadata": {
    "id": "uaWyzvsPUOcq",
    "outputId": "75975e99-f181-4627-edec-15ca9ea54e20"
   },
   "outputs": [
    {
     "data": {
      "text/plain": [
       "int"
      ]
     },
     "execution_count": 120,
     "metadata": {
      "tags": []
     },
     "output_type": "execute_result"
    }
   ],
   "source": [
    "i = 123\n",
    "type(i) # renvoie <type 'int'>"
   ]
  },
  {
   "cell_type": "code",
   "execution_count": null,
   "metadata": {
    "id": "GQcUFTCHUOcs",
    "outputId": "ece993cc-14fb-4554-c85d-7deecd071d0f"
   },
   "outputs": [
    {
     "data": {
      "text/plain": [
       "True"
      ]
     },
     "execution_count": 121,
     "metadata": {
      "tags": []
     },
     "output_type": "execute_result"
    }
   ],
   "source": [
    "type(i) is int # renvoie True"
   ]
  },
  {
   "cell_type": "code",
   "execution_count": null,
   "metadata": {
    "id": "Q5TIie80UOcs",
    "outputId": "597635a5-3369-4fbe-edb7-59ff73537d7a"
   },
   "outputs": [
    {
     "data": {
      "text/plain": [
       "float"
      ]
     },
     "execution_count": 122,
     "metadata": {
      "tags": []
     },
     "output_type": "execute_result"
    }
   ],
   "source": [
    "k = 123.456\n",
    "type(k) # renvoie <type 'float'>"
   ]
  },
  {
   "cell_type": "code",
   "execution_count": null,
   "metadata": {
    "id": "9d3IymDDUOct",
    "outputId": "6b0085a6-1bf0-44d9-e0a0-7a188e3c93ba"
   },
   "outputs": [
    {
     "data": {
      "text/plain": [
       "True"
      ]
     },
     "execution_count": 123,
     "metadata": {
      "tags": []
     },
     "output_type": "execute_result"
    }
   ],
   "source": [
    "type(k) is float # renvoie True"
   ]
  },
  {
   "cell_type": "code",
   "execution_count": null,
   "metadata": {
    "id": "aUs4GdM1UOcu",
    "outputId": "7911e317-458d-4600-a72d-2576b9663e1d"
   },
   "outputs": [
    {
     "data": {
      "text/plain": [
       "str"
      ]
     },
     "execution_count": 124,
     "metadata": {
      "tags": []
     },
     "output_type": "execute_result"
    }
   ],
   "source": [
    "m = 'ABCD'\n",
    "type(m) # renvoie <type 'str'>"
   ]
  },
  {
   "cell_type": "code",
   "execution_count": null,
   "metadata": {
    "id": "F1nb_sDOUOcv",
    "outputId": "ae2e8db8-a8b8-4357-fa11-f702952d16c0"
   },
   "outputs": [
    {
     "data": {
      "text/plain": [
       "True"
      ]
     },
     "execution_count": 125,
     "metadata": {
      "tags": []
     },
     "output_type": "execute_result"
    }
   ],
   "source": [
    "type(m) is str # renvoie True"
   ]
  },
  {
   "cell_type": "markdown",
   "metadata": {
    "id": "e0dDXaKXUOcw"
   },
   "source": [
    "#  <left> <b> <span style=\"color:orange;\"> 2. Conversion de types (casting) </span> </b></left>\n",
    "\n",
    "Il faut remarquer que les variables en chaînes de caractères sont toujours définies avec des\n",
    "guillemets. Avec des guillemets\n",
    "simples, on a des chaines de types char alors qu’avec des guillemets doubles, on obtient des\n",
    "chaînes de type string. Noter aussi que même si une variable est définie avec des nombres,\n",
    "lorsque ces nombres sont indiqués avec des guillemets, python traite cette variable comme\n",
    "une chaine de caractères. Néanmoins, il existe des fonctions pour convertir une variable d’un\n",
    "type à un autre lorsque cette conversion est autorisée. Voir les exemples suivants.\n",
    "\n",
    "* Lorsque c'est possible, un type de données peut être converti vers un autre type de données.\n",
    "  * convertir un **`int`** en **`str`**:    **`str(4)`** => \"4\"\n",
    "  * convertir un **`str`** en **`int`**:    **`int(\"4\")`** => 4\n",
    "  * convertir un **`float`** en **`int`**:    **`int(4.8)`** => 4\n",
    "  * conversion en **`bool`**: **`bool(\"\"), bool(0.0), bool(0)`** => **`False`**. Tout le reste renvoie **`True`**"
   ]
  },
  {
   "cell_type": "code",
   "execution_count": null,
   "metadata": {
    "id": "0aVWo7SYUOcw",
    "outputId": "597d34bb-7d0e-414a-f7dd-92fa55d418b6"
   },
   "outputs": [
    {
     "name": "stdout",
     "output_type": "stream",
     "text": [
      "2\n",
      "================================================\n",
      "\t\n",
      "2\n",
      "================================================\n",
      "\t\n",
      "2.0\n"
     ]
    }
   ],
   "source": [
    "#Conversion d’une variable de type caractère en variable de type entier ou réel.\n",
    "\n",
    "x='2'\n",
    "print(x)\n",
    "print(\"================================================\")\n",
    "print('\\t')\n",
    "\n",
    "\n",
    "x = int(x)\n",
    "print(x)\n",
    "print(\"================================================\")\n",
    "print('\\t')\n",
    "\n",
    "\n",
    "\n",
    "x = float(x)\n",
    "print(x)"
   ]
  },
  {
   "cell_type": "code",
   "execution_count": null,
   "metadata": {
    "id": "J6vWQ0y7UOcy",
    "outputId": "af3d4a99-666d-4ae4-ba81-c039f3a317c5"
   },
   "outputs": [
    {
     "name": "stdout",
     "output_type": "stream",
     "text": [
      "2.4756\n"
     ]
    }
   ],
   "source": [
    "#Conversion d’une variable de type numérique (entier ou réel) en variable de type caractère.\n",
    "\n",
    "y = 2.4756\n",
    "\n",
    "y = str(y)\n",
    "\n",
    "print(y)"
   ]
  },
  {
   "cell_type": "code",
   "execution_count": null,
   "metadata": {
    "id": "4r_ZSRnFUOcz",
    "outputId": "a02e8888-0624-40e0-d453-b397cbeda607"
   },
   "outputs": [
    {
     "name": "stdout",
     "output_type": "stream",
     "text": [
      "False False False\n",
      "True True True True\n"
     ]
    },
    {
     "data": {
      "text/plain": [
       "('True', 'False', 1, 0, 1.0, 0.0)"
      ]
     },
     "execution_count": 128,
     "metadata": {
      "tags": []
     },
     "output_type": "execute_result"
    }
   ],
   "source": [
    "print(bool(\"\"), bool(0.0), bool(0))\n",
    "print(bool(\"0\"), bool(-1.2), bool(-10), bool(\"hi\"))\n",
    "str(True), str(False), int(True), int(False), float(True), float(False)"
   ]
  },
  {
   "cell_type": "code",
   "execution_count": null,
   "metadata": {
    "id": "oSFw1sA0UOc1",
    "outputId": "071e287f-e745-40be-9798-2eea1b9e7ae9"
   },
   "outputs": [
    {
     "data": {
      "text/plain": [
       "(4, 3.5, '3.5', True, True, False)"
      ]
     },
     "execution_count": 129,
     "metadata": {
      "tags": []
     },
     "output_type": "execute_result"
    }
   ],
   "source": [
    "int(4.9), float(\"3.5\"), str(3.5), bool(4.2), bool(-2), bool(0)"
   ]
  },
  {
   "cell_type": "markdown",
   "metadata": {
    "id": "PHROLE5aUOc2"
   },
   "source": [
    "En conclusion, on peut noter que toutes les variables numériques sont convertible en type\n",
    "caractère mais une variable n’est convertible en type numérique que lorsque la valeur de celle-\n",
    "ci est constituée uniquement de chiffres."
   ]
  },
  {
   "cell_type": "code",
   "execution_count": null,
   "metadata": {
    "id": "9TKoBdxqUOc3",
    "outputId": "addfbb69-c45a-4f6d-b6ed-5a9535d74348"
   },
   "outputs": [
    {
     "ename": "ValueError",
     "evalue": "invalid literal for int() with base 10: 'On essaie'",
     "output_type": "error",
     "traceback": [
      "\u001b[0;31m---------------------------------------------------------------------------\u001b[0m",
      "\u001b[0;31mValueError\u001b[0m                                Traceback (most recent call last)",
      "\u001b[0;32m<ipython-input-130-5f6b01452aec>\u001b[0m in \u001b[0;36m<module>\u001b[0;34m()\u001b[0m\n\u001b[1;32m      1\u001b[0m \u001b[0mA\u001b[0m \u001b[0;34m=\u001b[0m \u001b[0;34m\"On essaie\"\u001b[0m\u001b[0;34m\u001b[0m\u001b[0;34m\u001b[0m\u001b[0m\n\u001b[0;32m----> 2\u001b[0;31m \u001b[0mA\u001b[0m \u001b[0;34m=\u001b[0m \u001b[0mint\u001b[0m\u001b[0;34m(\u001b[0m\u001b[0mA\u001b[0m\u001b[0;34m)\u001b[0m\u001b[0;34m\u001b[0m\u001b[0;34m\u001b[0m\u001b[0m\n\u001b[0m\u001b[1;32m      3\u001b[0m \u001b[0mA\u001b[0m\u001b[0;34m\u001b[0m\u001b[0;34m\u001b[0m\u001b[0m\n",
      "\u001b[0;31mValueError\u001b[0m: invalid literal for int() with base 10: 'On essaie'"
     ]
    }
   ],
   "source": [
    "A = \"On essaie\"\n",
    "A = int(A)\n",
    "A"
   ]
  },
  {
   "cell_type": "markdown",
   "metadata": {
    "id": "MHRLCD3lUOc4"
   },
   "source": [
    "#  <left> <b> <span style=\"color:orange;\"> 3. Méthodes associées aux variables </span> </b></left>\n",
    "\n",
    "A chaque variable créée dans python, est associé un ensemble d’attributs (ex : type) mais aussi\n",
    "un ensemble de méthodes, c'est à dire un ensemble d’opérations de traitement et\n",
    "d’exploitation réalisable avec cette variable. Pour afficher l'ensemble des méthodes d'une\n",
    "variable, on utilise la commande `dir()`. Exemple :"
   ]
  },
  {
   "cell_type": "code",
   "execution_count": null,
   "metadata": {
    "id": "VHRe-4EmUOc6"
   },
   "outputs": [],
   "source": [
    "x = 2.5 # Définit une variable numérique x\n",
    "\n",
    "y = 'mon texte' # Définit une variable en chaîne de caractères y."
   ]
  },
  {
   "cell_type": "markdown",
   "metadata": {
    "id": "dNCMs7P_UOc6"
   },
   "source": [
    "Pour afficher l’ensemble des méthodes associées à chacune de ces variables, on fait :\n"
   ]
  },
  {
   "cell_type": "code",
   "execution_count": null,
   "metadata": {
    "id": "yZ4m3vf9UOc7",
    "outputId": "948127d2-b128-401d-b24a-aa476d55c8c2"
   },
   "outputs": [
    {
     "name": "stdout",
     "output_type": "stream",
     "text": [
      "['__abs__', '__add__', '__bool__', '__class__', '__delattr__', '__dir__', '__divmod__', '__doc__', '__eq__', '__float__', '__floordiv__', '__format__', '__ge__', '__getattribute__', '__getformat__', '__getnewargs__', '__gt__', '__hash__', '__init__', '__init_subclass__', '__int__', '__le__', '__lt__', '__mod__', '__mul__', '__ne__', '__neg__', '__new__', '__pos__', '__pow__', '__radd__', '__rdivmod__', '__reduce__', '__reduce_ex__', '__repr__', '__rfloordiv__', '__rmod__', '__rmul__', '__round__', '__rpow__', '__rsub__', '__rtruediv__', '__set_format__', '__setattr__', '__sizeof__', '__str__', '__sub__', '__subclasshook__', '__truediv__', '__trunc__', 'as_integer_ratio', 'conjugate', 'fromhex', 'hex', 'imag', 'is_integer', 'real']\n"
     ]
    }
   ],
   "source": [
    "print(dir(x))"
   ]
  },
  {
   "cell_type": "code",
   "execution_count": null,
   "metadata": {
    "id": "AwV1TtOoUOc7",
    "outputId": "62ae251c-b051-4248-cc16-210b6fbed2dd"
   },
   "outputs": [
    {
     "name": "stdout",
     "output_type": "stream",
     "text": [
      "['__add__', '__class__', '__contains__', '__delattr__', '__dir__', '__doc__', '__eq__', '__format__', '__ge__', '__getattribute__', '__getitem__', '__getnewargs__', '__gt__', '__hash__', '__init__', '__init_subclass__', '__iter__', '__le__', '__len__', '__lt__', '__mod__', '__mul__', '__ne__', '__new__', '__reduce__', '__reduce_ex__', '__repr__', '__rmod__', '__rmul__', '__setattr__', '__sizeof__', '__str__', '__subclasshook__', 'capitalize', 'casefold', 'center', 'count', 'encode', 'endswith', 'expandtabs', 'find', 'format', 'format_map', 'index', 'isalnum', 'isalpha', 'isascii', 'isdecimal', 'isdigit', 'isidentifier', 'islower', 'isnumeric', 'isprintable', 'isspace', 'istitle', 'isupper', 'join', 'ljust', 'lower', 'lstrip', 'maketrans', 'partition', 'replace', 'rfind', 'rindex', 'rjust', 'rpartition', 'rsplit', 'rstrip', 'split', 'splitlines', 'startswith', 'strip', 'swapcase', 'title', 'translate', 'upper', 'zfill']\n"
     ]
    }
   ],
   "source": [
    "print(dir(y))"
   ]
  },
  {
   "cell_type": "markdown",
   "metadata": {
    "id": "dO3XwGJgUOc8"
   },
   "source": [
    "On peut aussi faire `nom_de_la_variable.` suivi de `TAB`."
   ]
  },
  {
   "cell_type": "markdown",
   "metadata": {
    "id": "j3YUvNiDUOc8"
   },
   "source": [
    "Ainsi, pour obtenir de l’aide sur une méthode spécifique, on utilise la fonction `help()` comme\n",
    "suit : `help(x.nomMethode)` où nomMethode est le nom de la méthode considérée. Par exemple, pour une variable numérique de type `float`, il existe une méthode nommé `conjugate`.\n",
    "Pour obtenir de l’aide sur cette fonction, on fait :\n",
    "`print(help(x.conjugate))`"
   ]
  },
  {
   "cell_type": "code",
   "execution_count": null,
   "metadata": {
    "id": "AT18NqdyUOc9",
    "outputId": "390bd9fd-65ba-495c-86bc-b691c2c37204"
   },
   "outputs": [
    {
     "name": "stdout",
     "output_type": "stream",
     "text": [
      "Help on built-in function conjugate:\n",
      "\n",
      "conjugate() method of builtins.float instance\n",
      "    Return self, the complex conjugate of any float.\n",
      "\n",
      "None\n"
     ]
    }
   ],
   "source": [
    "print(help(x.conjugate))"
   ]
  },
  {
   "cell_type": "markdown",
   "metadata": {
    "id": "rpE4uYRuUOc-"
   },
   "source": [
    "Pour afficher l’aide sur toutes les fonctions associées à la variable x, on fait simplement :\n"
   ]
  },
  {
   "cell_type": "code",
   "execution_count": null,
   "metadata": {
    "id": "eywtL2_lUOc_",
    "outputId": "e848feec-3e9b-4a5f-b0f7-8c781d3d829a"
   },
   "outputs": [
    {
     "name": "stdout",
     "output_type": "stream",
     "text": [
      "Help on float object:\n",
      "\n",
      "class float(object)\n",
      " |  float(x=0, /)\n",
      " |  \n",
      " |  Convert a string or number to a floating point number, if possible.\n",
      " |  \n",
      " |  Methods defined here:\n",
      " |  \n",
      " |  __abs__(self, /)\n",
      " |      abs(self)\n",
      " |  \n",
      " |  __add__(self, value, /)\n",
      " |      Return self+value.\n",
      " |  \n",
      " |  __bool__(self, /)\n",
      " |      self != 0\n",
      " |  \n",
      " |  __divmod__(self, value, /)\n",
      " |      Return divmod(self, value).\n",
      " |  \n",
      " |  __eq__(self, value, /)\n",
      " |      Return self==value.\n",
      " |  \n",
      " |  __float__(self, /)\n",
      " |      float(self)\n",
      " |  \n",
      " |  __floordiv__(self, value, /)\n",
      " |      Return self//value.\n",
      " |  \n",
      " |  __format__(self, format_spec, /)\n",
      " |      Formats the float according to format_spec.\n",
      " |  \n",
      " |  __ge__(self, value, /)\n",
      " |      Return self>=value.\n",
      " |  \n",
      " |  __getattribute__(self, name, /)\n",
      " |      Return getattr(self, name).\n",
      " |  \n",
      " |  __getnewargs__(self, /)\n",
      " |  \n",
      " |  __gt__(self, value, /)\n",
      " |      Return self>value.\n",
      " |  \n",
      " |  __hash__(self, /)\n",
      " |      Return hash(self).\n",
      " |  \n",
      " |  __int__(self, /)\n",
      " |      int(self)\n",
      " |  \n",
      " |  __le__(self, value, /)\n",
      " |      Return self<=value.\n",
      " |  \n",
      " |  __lt__(self, value, /)\n",
      " |      Return self<value.\n",
      " |  \n",
      " |  __mod__(self, value, /)\n",
      " |      Return self%value.\n",
      " |  \n",
      " |  __mul__(self, value, /)\n",
      " |      Return self*value.\n",
      " |  \n",
      " |  __ne__(self, value, /)\n",
      " |      Return self!=value.\n",
      " |  \n",
      " |  __neg__(self, /)\n",
      " |      -self\n",
      " |  \n",
      " |  __pos__(self, /)\n",
      " |      +self\n",
      " |  \n",
      " |  __pow__(self, value, mod=None, /)\n",
      " |      Return pow(self, value, mod).\n",
      " |  \n",
      " |  __radd__(self, value, /)\n",
      " |      Return value+self.\n",
      " |  \n",
      " |  __rdivmod__(self, value, /)\n",
      " |      Return divmod(value, self).\n",
      " |  \n",
      " |  __repr__(self, /)\n",
      " |      Return repr(self).\n",
      " |  \n",
      " |  __rfloordiv__(self, value, /)\n",
      " |      Return value//self.\n",
      " |  \n",
      " |  __rmod__(self, value, /)\n",
      " |      Return value%self.\n",
      " |  \n",
      " |  __rmul__(self, value, /)\n",
      " |      Return value*self.\n",
      " |  \n",
      " |  __round__(self, ndigits=None, /)\n",
      " |      Return the Integral closest to x, rounding half toward even.\n",
      " |      \n",
      " |      When an argument is passed, work like built-in round(x, ndigits).\n",
      " |  \n",
      " |  __rpow__(self, value, mod=None, /)\n",
      " |      Return pow(value, self, mod).\n",
      " |  \n",
      " |  __rsub__(self, value, /)\n",
      " |      Return value-self.\n",
      " |  \n",
      " |  __rtruediv__(self, value, /)\n",
      " |      Return value/self.\n",
      " |  \n",
      " |  __str__(self, /)\n",
      " |      Return str(self).\n",
      " |  \n",
      " |  __sub__(self, value, /)\n",
      " |      Return self-value.\n",
      " |  \n",
      " |  __truediv__(self, value, /)\n",
      " |      Return self/value.\n",
      " |  \n",
      " |  __trunc__(self, /)\n",
      " |      Return the Integral closest to x between 0 and x.\n",
      " |  \n",
      " |  as_integer_ratio(self, /)\n",
      " |      Return integer ratio.\n",
      " |      \n",
      " |      Return a pair of integers, whose ratio is exactly equal to the original float\n",
      " |      and with a positive denominator.\n",
      " |      \n",
      " |      Raise OverflowError on infinities and a ValueError on NaNs.\n",
      " |      \n",
      " |      >>> (10.0).as_integer_ratio()\n",
      " |      (10, 1)\n",
      " |      >>> (0.0).as_integer_ratio()\n",
      " |      (0, 1)\n",
      " |      >>> (-.25).as_integer_ratio()\n",
      " |      (-1, 4)\n",
      " |  \n",
      " |  conjugate(self, /)\n",
      " |      Return self, the complex conjugate of any float.\n",
      " |  \n",
      " |  hex(self, /)\n",
      " |      Return a hexadecimal representation of a floating-point number.\n",
      " |      \n",
      " |      >>> (-0.1).hex()\n",
      " |      '-0x1.999999999999ap-4'\n",
      " |      >>> 3.14159.hex()\n",
      " |      '0x1.921f9f01b866ep+1'\n",
      " |  \n",
      " |  is_integer(self, /)\n",
      " |      Return True if the float is an integer.\n",
      " |  \n",
      " |  ----------------------------------------------------------------------\n",
      " |  Class methods defined here:\n",
      " |  \n",
      " |  __getformat__(typestr, /) from builtins.type\n",
      " |      You probably don't want to use this function.\n",
      " |      \n",
      " |        typestr\n",
      " |          Must be 'double' or 'float'.\n",
      " |      \n",
      " |      It exists mainly to be used in Python's test suite.\n",
      " |      \n",
      " |      This function returns whichever of 'unknown', 'IEEE, big-endian' or 'IEEE,\n",
      " |      little-endian' best describes the format of floating point numbers used by the\n",
      " |      C type named by typestr.\n",
      " |  \n",
      " |  __set_format__(typestr, fmt, /) from builtins.type\n",
      " |      You probably don't want to use this function.\n",
      " |      \n",
      " |        typestr\n",
      " |          Must be 'double' or 'float'.\n",
      " |        fmt\n",
      " |          Must be one of 'unknown', 'IEEE, big-endian' or 'IEEE, little-endian',\n",
      " |          and in addition can only be one of the latter two if it appears to\n",
      " |          match the underlying C reality.\n",
      " |      \n",
      " |      It exists mainly to be used in Python's test suite.\n",
      " |      \n",
      " |      Override the automatic determination of C-level floating point type.\n",
      " |      This affects how floats are converted to and from binary strings.\n",
      " |  \n",
      " |  fromhex(string, /) from builtins.type\n",
      " |      Create a floating-point number from a hexadecimal string.\n",
      " |      \n",
      " |      >>> float.fromhex('0x1.ffffp10')\n",
      " |      2047.984375\n",
      " |      >>> float.fromhex('-0x1p-1074')\n",
      " |      -5e-324\n",
      " |  \n",
      " |  ----------------------------------------------------------------------\n",
      " |  Static methods defined here:\n",
      " |  \n",
      " |  __new__(*args, **kwargs) from builtins.type\n",
      " |      Create and return a new object.  See help(type) for accurate signature.\n",
      " |  \n",
      " |  ----------------------------------------------------------------------\n",
      " |  Data descriptors defined here:\n",
      " |  \n",
      " |  imag\n",
      " |      the imaginary part of a complex number\n",
      " |  \n",
      " |  real\n",
      " |      the real part of a complex number\n",
      "\n",
      "None\n"
     ]
    }
   ],
   "source": [
    "print(help(x))"
   ]
  },
  {
   "cell_type": "markdown",
   "metadata": {
    "id": "9A3OermqUOdA"
   },
   "source": [
    "#  <left> <b> <span style=\"color:orange;\"> 3. Opérations sur les types numériques </span> </b></left>"
   ]
  },
  {
   "cell_type": "markdown",
   "metadata": {
    "id": "z8dW093nUOdB"
   },
   "source": [
    "Deux grandes catégories [d’opérateurs](https://fr.wikibooks.org/wiki/Programmation_Python/Op%C3%A9rateurs) sont utilisées en Python pour définir les variables et les\n",
    "instructions. Il s’agit des opérateurs arithmétiques et les opérateurs logiques.\n",
    "Les premiers permettent de réaliser les opérations mathématiques courantes tandis que les\n",
    "seconds permettent de réaliser des comparaisons de valeurs. Une valeur booléenne est une\n",
    "évaluation logique représentant l’une des deux possibilités suivantes : vrai ou faux. Les valeurs\n",
    "booléennes sont le résultat de l’évaluation d’expressions logiques et elles servent à faire des\n",
    "choix dans un programme (effectuer telle action quand telle condition est réalisée)."
   ]
  },
  {
   "cell_type": "markdown",
   "metadata": {
    "id": "BrwFMt9iUOdB"
   },
   "source": [
    "## <left> <b> <span style=\"color:brown;\"> 3.0 Les opérateurs arithmétiques </span> </b></left>\n",
    "\n",
    "\n",
    "   \n",
    "|  Opérations    $\\quad \\qquad$        | Opérateur en Python \t  $\\qquad$          | Exemples          |\n",
    "|-------------:|:------------------:|------------------:|\n",
    "| Addition $ \\qquad \\qquad$     |       $+ \\quad \\qquad$            |  $x = 2 + 3$          | \n",
    "| Soustraction $\\qquad \\quad$     |    $- \\quad \\qquad$      |   $z = x -y$      |                 \n",
    "| Multiplication $\\qquad \\quad$  |  $* \\quad \\qquad$      |   $y=3*x$         | \n",
    "| Division (quotient réel)  $\\qquad \\quad$        | $/\\quad \\qquad$  | $5/2=2.5 $ |\n",
    "| Division (quotient entier)  $\\qquad \\quad$         |$//\\quad \\qquad$  | $5//2=2$|\n",
    "| Puissance $\\qquad \\quad$          | $**\\quad \\qquad$ | $x^{**}2=x*x$ |\n",
    "| Reste de la division modulo $\\qquad \\quad$          | $\\% \\quad \\qquad$  |$17\\%3 =2$  |\n",
    "| Addition incrémentée    $\\qquad \\quad$       | $+$$=\\quad \\qquad$ | ($x$$+$$=$$4$ ) $\\iff$ $x=x+4$|\n",
    "| Soustraction incrémentée    $\\qquad \\quad$       | $-$$=\\quad \\qquad$ | ($x$$-$$=$$4$ ) $\\iff$ $x=x-4$|"
   ]
  },
  {
   "cell_type": "markdown",
   "metadata": {
    "id": "dbJ14eDLUOdB"
   },
   "source": [
    "### <left> <b> <span style=\"color:red;\"> Quelques exemples </span> </b></left>\n"
   ]
  },
  {
   "cell_type": "code",
   "execution_count": null,
   "metadata": {
    "id": "3QaNI6INUOdC",
    "outputId": "cdced148-20b8-4888-83f9-a4487082104e"
   },
   "outputs": [
    {
     "name": "stdout",
     "output_type": "stream",
     "text": [
      "20\n",
      "------------------------\n",
      "7\n",
      "------------------------\n",
      "5.0\n",
      "------------------------\n",
      "0\n",
      "------------------------\n",
      "100\n",
      "------------------------\n",
      "14\n",
      "10\n"
     ]
    }
   ],
   "source": [
    "print(10 + 10)  \n",
    "print('------------------------')\n",
    "\n",
    "\n",
    "print(10 - 3)\n",
    "print('------------------------')\n",
    "\n",
    "print(10 / 2) \n",
    "print('------------------------')\n",
    "\n",
    "\n",
    "print(10 % 2)  \n",
    "print('------------------------')\n",
    "\n",
    "print(10 ** 2)\n",
    "print('------------------------')\n",
    "\n",
    "x = 10  \n",
    "y = x + 4\n",
    "x += 9  \n",
    "x -= 9  \n",
    "print(y)\n",
    "print(x)"
   ]
  },
  {
   "cell_type": "markdown",
   "metadata": {
    "id": "qYFniRSxUOdC"
   },
   "source": [
    "## <left> <b> <span style=\"color:brown;\"> 3.1 Les opérateurs logiques </span> </b></left>\n",
    "\n",
    "\n",
    "|  Opérations    $\\quad \\qquad$        | Opérateur en Python \t  $\\qquad$          | Description          |\n",
    "|-------------:|:------------------:|------------------:|\n",
    "| Égalité $ \\qquad \\qquad$     |       $== \\quad \\qquad$            |    Égal à        | \n",
    "| Inégalité $\\qquad \\quad$     |    $!=$ (ou $<>$) $\\quad \\qquad$      |   Différent de      |                 \n",
    "| Infériorité stricte $\\qquad \\quad$  |  $< \\quad \\qquad$      |   Inférieur à         | \n",
    "| Supériorité stricte  $\\qquad \\quad$        | $>\\quad \\qquad$  | Supérieur à |\n",
    "| Infériorité large  $\\qquad \\quad$         |$<=\\quad \\qquad$  | Inférieur ou égal à|\n",
    "| Supériorité large $\\qquad \\quad$          | $>=\\quad \\qquad$ | Supérieur ou égal à |\n",
    "| Inclusion(appartenance) $\\qquad \\quad$          | `in`  $ \\quad \\qquad $  |Appartient à (`dans`) |\n",
    "| Exclusion (non appartenance)  $\\qquad \\quad$       | `not in`$\\quad \\qquad$ |N'appartient pas à (`exclu`) |\n",
    "| `Et` logique   $\\qquad \\quad$       | `and` $\\quad \\qquad$ | Comparaisons `ET` logiques|\n",
    "| `Ou` logique   $\\qquad \\quad$       | `or` $\\quad \\qquad$ | Comparaisons `OU` logique|\n",
    "| `Non` logique   $\\qquad \\quad$       | `not`$\\quad \\qquad$ | Évalue la valeur opposée|"
   ]
  },
  {
   "cell_type": "markdown",
   "metadata": {
    "id": "_-dhALMsUOdD"
   },
   "source": [
    "<left> <b> <span style=\"color:red;\">Affecter n’est pas comparer !</span> </b></left>\n",
    "Il faut bien prendre garde au fait que l’instruction d’affectation `« = »` n’a pas la même signification que le symbole d’égalité `« = »` en mathématiques. Par exemple, le premier n’est pas\n",
    "symétrique, alors que le second l’est : vouloir échanger l’ordre des éléments dans une instruction d’affectation produira immanquablement une erreur dans l’interpréteur."
   ]
  },
  {
   "cell_type": "markdown",
   "metadata": {
    "id": "nbHhJqt6UOdE"
   },
   "source": [
    "Nous verrons l'utilité de ces opératuers au fil des sessions. Ils retournent toujours des booléens et permettent en l'occurence de faire des tests. Ils apparaissent dans l'écriture des boucles et dans l'écritutre des sturctures itératives et des structures conditionnelles."
   ]
  },
  {
   "cell_type": "markdown",
   "metadata": {
    "id": "Xf6llJfiUOdE"
   },
   "source": [
    "Pour accéder à la liste complète des opérateurs standards de python et leurs équivalents fonctions, voir [cette page](https://docs.python.org/2/library/operator.html). L'on pourra aussi consulter [cette page](http://www.tutorialspoint.com/python/python_basic_operators.htm) pour quelques exemples\n",
    "d’utilisations des opérateurs standards."
   ]
  }
 ],
 "metadata": {
  "colab": {
   "include_colab_link": true,
   "name": "2_Variables-Types-Opérations.ipynb",
   "provenance": []
  },
  "kernelspec": {
   "display_name": "Python 3",
   "language": "python",
   "name": "python3"
  },
  "language_info": {
   "codemirror_mode": {
    "name": "ipython",
    "version": 3
   },
   "file_extension": ".py",
   "mimetype": "text/x-python",
   "name": "python",
   "nbconvert_exporter": "python",
   "pygments_lexer": "ipython3",
   "version": "3.7.3"
  },
  "varInspector": {
   "cols": {
    "lenName": 16,
    "lenType": 16,
    "lenVar": 40
   },
   "kernels_config": {
    "python": {
     "delete_cmd_postfix": "",
     "delete_cmd_prefix": "del ",
     "library": "var_list.py",
     "varRefreshCmd": "print(var_dic_list())"
    },
    "r": {
     "delete_cmd_postfix": ") ",
     "delete_cmd_prefix": "rm(",
     "library": "var_list.r",
     "varRefreshCmd": "cat(var_dic_list()) "
    }
   },
   "types_to_exclude": [
    "module",
    "function",
    "builtin_function_or_method",
    "instance",
    "_Feature"
   ],
   "window_display": false
  }
 },
 "nbformat": 4,
 "nbformat_minor": 1
}
