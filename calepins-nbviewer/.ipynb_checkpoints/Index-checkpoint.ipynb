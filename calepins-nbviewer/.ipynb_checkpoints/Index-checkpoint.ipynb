{
 "cells": [
  {
   "cell_type": "markdown",
   "metadata": {
    "colab_type": "text",
    "id": "view-in-github"
   },
   "source": [
    "<a href=\"https://colab.research.google.com/github/ai-technipreneurs/programmation-python-pratique/blob/master/Index.ipynb\" target=\"_parent\"><img src=\"https://colab.research.google.com/assets/colab-badge.svg\" alt=\"Open In Colab\"/></a>"
   ]
  },
  {
   "cell_type": "markdown",
   "metadata": {
    "id": "PCgbsYAeZ-Rf"
   },
   "source": [
    "****\n",
    "\n",
    "# <center> <b> <span style=\"color:orange;\"> Atelier 3P </span> </b></center>\n",
    "\n",
    "## <center> <b> <span style=\"color:green;\">Programmation Python Pratique</span> </b></center>\n",
    "\n",
    "<center>\n",
    "    <a href=\"https://github.com/ai-technipreneurs\" ><img src=\"https://avatars.githubusercontent.com/u/83169416?v=4\" style=\"float:center; max-width: 650px; display: inline\" alt=\"IMSP\"/> </a>\n",
    "    </center>\n",
    "\n",
    "\n",
    "#### <left> <b> <span style=\"color:brown;\">Instructeur : </span> </b></left>[ai-technipreneurs](https://github.com/ai-technipreneurs)\n",
    "\n",
    "****"
   ]
  },
  {
   "cell_type": "markdown",
   "metadata": {
    "id": "IazLgW6yZ-Rh"
   },
   "source": [
    "## Sommaire\n",
    "\n",
    "### [0. Sur Colab](https://nbviewer.jupyter.org/github/ai-technipreneurs/programmation-python-pratique/blob/master/calepins-nbviewer/0_Sur_Colab.ipynb)\n",
    "### [1. Python en bref](https://nbviewer.jupyter.org/github/ai-technipreneurs/programmation-python-pratique/blob/master/calepins-nbviewer/1_Python_en_bref.ipynb)\n",
    "### [2. Variables,Types et Opérations](https://nbviewer.jupyter.org/github/ai-technipreneurs/programmation-python-pratique/blob/master/calepins-nbviewer/2_Variables_Types_Op%C3%A9rations.ipynb)\n",
    "### [3. Chaînes de caractères](https://nbviewer.jupyter.org/github/ai-technipreneurs/programmation-python-pratique/blob/master/calepins-nbviewer/3_Cha%C3%AEnes_de_caract%C3%A8res.ipynb)\n",
    "\n",
    "\n"
   ]
  },
  {
   "cell_type": "code",
   "execution_count": null,
   "metadata": {},
   "outputs": [],
   "source": []
  }
 ],
 "metadata": {
  "colab": {
   "include_colab_link": true,
   "name": "Index.ipynb",
   "provenance": []
  },
  "kernelspec": {
   "display_name": "Python 3",
   "language": "python",
   "name": "python3"
  },
  "language_info": {
   "codemirror_mode": {
    "name": "ipython",
    "version": 3
   },
   "file_extension": ".py",
   "mimetype": "text/x-python",
   "name": "python",
   "nbconvert_exporter": "python",
   "pygments_lexer": "ipython3",
   "version": "3.7.3"
  }
 },
 "nbformat": 4,
 "nbformat_minor": 1
}
