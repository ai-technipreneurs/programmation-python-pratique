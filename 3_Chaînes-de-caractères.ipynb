{
  "nbformat": 4,
  "nbformat_minor": 0,
  "metadata": {
    "colab": {
      "name": "3_Chaînes-de-caractères.ipynb",
      "provenance": [],
      "include_colab_link": true
    },
    "kernelspec": {
      "display_name": "Python 3",
      "language": "python",
      "name": "python3"
    },
    "language_info": {
      "codemirror_mode": {
        "name": "ipython",
        "version": 3
      },
      "file_extension": ".py",
      "mimetype": "text/x-python",
      "name": "python",
      "nbconvert_exporter": "python",
      "pygments_lexer": "ipython3",
      "version": "3.7.3"
    },
    "varInspector": {
      "cols": {
        "lenName": 16,
        "lenType": 16,
        "lenVar": 40
      },
      "kernels_config": {
        "python": {
          "delete_cmd_postfix": "",
          "delete_cmd_prefix": "del ",
          "library": "var_list.py",
          "varRefreshCmd": "print(var_dic_list())"
        },
        "r": {
          "delete_cmd_postfix": ") ",
          "delete_cmd_prefix": "rm(",
          "library": "var_list.r",
          "varRefreshCmd": "cat(var_dic_list()) "
        }
      },
      "types_to_exclude": [
        "module",
        "function",
        "builtin_function_or_method",
        "instance",
        "_Feature"
      ],
      "window_display": false
    }
  },
  "cells": [
    {
      "cell_type": "markdown",
      "metadata": {
        "id": "view-in-github",
        "colab_type": "text"
      },
      "source": [
        "<a href=\"https://colab.research.google.com/github/ai-technipreneurs/programmation-python-pratique/blob/master/3_Cha%C3%AEnes-de-caract%C3%A8res.ipynb\" target=\"_parent\"><img src=\"https://colab.research.google.com/assets/colab-badge.svg\" alt=\"Open In Colab\"/></a>"
      ]
    },
    {
      "cell_type": "markdown",
      "metadata": {
        "id": "FW1QDIAlXBkb"
      },
      "source": [
        "****\n",
        "\n",
        "# <center> <b> <span style=\"color:orange;\"> Atelier 3P </span> </b></center>\n",
        "\n",
        "## <center> <b> <span style=\"color:green;\">Programmation Python Pratique</span> </b></center>\n",
        "\n",
        "<center>\n",
        "    <a href=\"https://github.com/ai-technipreneurs\" ><img src=\"https://avatars.githubusercontent.com/u/83169416?v=4\" style=\"float:center; max-width: 650px; display: inline\" alt=\"IMSP\"/> </a>\n",
        "    </center>\n",
        "\n",
        "### <center> <b> <span style=\"color:blue;\">  Chaînes de caractères </span> </b></center>\n",
        "\n",
        "#### <left> <b> <span style=\"color:brown;\">Instructeur : </span> </b></left>[ai-technipreneurs](https://github.com/ai-technipreneurs)\n",
        "\n",
        "****"
      ]
    },
    {
      "cell_type": "markdown",
      "metadata": {
        "id": "DRx_RvXsXBki"
      },
      "source": [
        "Cette section a pour but de presenter les`chaînes de caractères`, de passer en revues certaines les opérations les plus couramment rencontrées notamment dans les opérations\n",
        "de traitement de texte."
      ]
    },
    {
      "cell_type": "markdown",
      "metadata": {
        "id": "RPDYw9BmXBkm"
      },
      "source": [
        "Les chaînes de caractères ne sont pas des objets en tant que tels dans un programme python.\n",
        "Ce sont plutôt des séquences de valeurs (tout comme les données de type numériques) qui\n",
        "servent à définir les objets proprement dits comme les listes, les tuples -dont nous parlerons plus tard-, etc... Tout comme dans le cas des opérations mathématiques réalisables les données numériques (addition,\n",
        "multiplication, division, etc..), il existe également un ensemble d’opérations servant à la manipulation des chaînes de caractères. "
      ]
    },
    {
      "cell_type": "markdown",
      "metadata": {
        "id": "tF_Nq1ZfXBkr"
      },
      "source": [
        "##  <left> <b> <span style=\"color:orange;\"> 0. Définition d’une variable de type chaîne de caractères</span> </b></left>\n",
        "\n",
        "Une variable chaîne de caractère se définit de manière classique par une assignation directe en\n",
        "utilisant le symbole de l’égalité (comme cela a été discutée dans la section sur la création de\n",
        "variable). La seule particularité des variables caractères par rapport aux variables numériques est que leurs valeurs doivent être spécifiées entre guillemets lors de l’assignation. Les trois\n",
        "exemples ci-dessous sont des illustrations."
      ]
    },
    {
      "cell_type": "code",
      "metadata": {
        "id": "2KXT46kqXBkt"
      },
      "source": [
        "ch1 = 'Seriez-vous à la réunion de ce soir ?'\n",
        "ch2 = '\"Oui\", répond-il.'\n",
        "ch3 = \"D’accord, j'apprécierai bien.\"\n",
        "ch4 = \"\"\"Cette phrase est une longue chaîne de caractères contenant\n",
        "tous les types de guillemets: \" ' « » mais aussi de nombreux\n",
        "caractères spéciaux.\"\"\"\n",
        "print(ch1)\n",
        "print(\"================================================\")\n",
        "print('\\t')\n",
        "\n",
        "\n",
        "\n",
        "print(ch2)\n",
        "print(\"================================================\")\n",
        "print('\\t')\n",
        "\n",
        "\n",
        "print(ch3)\n",
        "print(\"================================================\")\n",
        "print('\\t')\n",
        "\n",
        "\n",
        "print(ch4)"
      ],
      "execution_count": null,
      "outputs": []
    },
    {
      "cell_type": "markdown",
      "metadata": {
        "id": "fgiXo8haXBkw"
      },
      "source": [
        "Ces quatre exemples montrent différentes utilisations des guillemets lors de la définition d’une\n",
        "variable en chaines de caractères.\n",
        "\n",
        " - Dans le premier exemple (`ch1`), on utilise des guillemets simples car il n’y a aucun inconvénient\n",
        "à cela compte tenu de la chaîne spécifiées. On pouvait aussi utiliser des guillemets doubles.\n",
        " - Dans le deuxième exemple (`ch2`), on utilise des guillemets simples car la chaînes spécifiée\n",
        "contient déjà des guillemets doubles comme valeur.\n",
        " - Dans le troisième exemple (`ch3`), on utilise les guillemets doubles car le texte contient des\n",
        "apostrophes qui sont en fait des guillemets simples.\n",
        " - Dans le quatrième exemple (ch4), on utilise les guillemets triples car le texte contient non\n",
        "seulement des guillemets simples, apostrophes et les guillemets doubles mais s’étend sur\n",
        "plusieurs lignes. Dans ces conditions, l’utilisation des guillemets triples s’impose."
      ]
    },
    {
      "cell_type": "markdown",
      "metadata": {
        "id": "fXGomVJPXBkx"
      },
      "source": [
        "##  <left> <b> <span style=\"color:orange;\"> 1. Indiçage des chaînes et sous-chaînes (*Slicing*) </span> </b></left> \n",
        "\n",
        "###  <left> <b> <span style=\"color:brown;\"> 1.0 Indiçage des chaînes et sous-chaînes (*Slicing*) </span> </b></left> \n",
        " \n",
        "\n",
        "Une chaîne de caractère est une séquence de valeurs ordonnées et indicées. Ce qui signifie\n",
        "qu’on peut accéder à chacun des éléments de la séquence en spécifiant son indice comme dans\n",
        "les liste.\n",
        "Aussi des portions d’une chaîne peuvent être extraites en utilisant des *slices* (« tranches »), de notation\n",
        "générique `[start=0]:[stop=len][:step=1]`. L’indexation en python commence à 0 : le 1er élément d’une liste est l’élément n°0, le\n",
        "2nd est le n°1, etc. Les n éléments d’une liste sont donc indexés de *0* à *n-1*. \n",
        "Les exemples ci-dessous sont des illustrations.\n",
        "\n",
        "```python\n",
        "ch=\"Christelle\"\n",
        "ch[0] # renvoie 'C'\n",
        "ch[2] # renvoie 'r'\n",
        "ch[-1] # renvoie 'e', le dernier élément de ch\n",
        "ch[:6] # Renvoie 'Christ'\n",
        "ch[6 :] # Renvoie 'elle'\n",
        "ch[0:10:2] # renvoie 'Crsel'\n",
        "```"
      ]
    },
    {
      "cell_type": "code",
      "metadata": {
        "id": "LrM6o5cfv3r2"
      },
      "source": [
        "ch=\"Christelle\"\n",
        "ch[0] # renvoie 'C'\n",
        "ch[2] # renvoie 'r'\n",
        "ch[-1] # renvoie 'e', le dernier élément de ch\n",
        "ch[:6] # Renvoie 'Christ'\n",
        "ch[6 :] # Renvoie 'elle'\n",
        "ch[0:10:2] # renvoie 'Crsel'"
      ],
      "execution_count": null,
      "outputs": []
    },
    {
      "cell_type": "markdown",
      "metadata": {
        "id": "QEUcw4zpXBky"
      },
      "source": [
        "Les éléments d’une chaîne de caractères ne sont pas définie en fonction des mots\n",
        "séparés par des espace mais par les caractères qui le constituent. En effet, même si la chaîne\n",
        "avait été constituée par une phrase de plusieurs mots, les indiçages se feront uniquement sur la\n",
        "base des caractères qui forment la longue chaînes. Exemple :\n",
        "```python\n",
        "    ch=\"Ceci est une chaîne de plusieurs mots\"\n",
        "    ch[1] # renvoie 'e'\n",
        "    ch[4] # renvoie ' ', l’espace vide qui sépare Ceci et est.\n",
        "    ch[0:4] # renvoie 'Ceci'\n",
        "```"
      ]
    },
    {
      "cell_type": "code",
      "metadata": {
        "id": "HNVlMhkKv7Iz"
      },
      "source": [
        "ch=\"Ceci est une chaîne de plusieurs mots\"\n",
        "ch[1] # renvoie 'e'\n",
        "ch[4] # renvoie ' ', l’espace vide qui sépare Ceci et est.\n",
        "ch[0:4] # renvoie 'Ceci'"
      ],
      "execution_count": null,
      "outputs": []
    },
    {
      "cell_type": "markdown",
      "metadata": {
        "id": "WOWk8mTZXBk0"
      },
      "source": [
        "<left> <b> <span style=\"color:brown;\">On peut agir sur une chaîne (et plus généralement sur une séquence) en utilisant des\n",
        "fonctions (notion procédurale) ou des méthodes (notion objet). Nous en discutons plus bas.</span> </b></left> "
      ]
    },
    {
      "cell_type": "markdown",
      "metadata": {
        "id": "Qftq5wdCXBk2"
      },
      "source": [
        "###  <left> <b> <span style=\"color:brown;\"> 1.1  Longueur d’une chaîne de caractères </span> </b></left> \n",
        "\n",
        "\n",
        "Pour déterminer la longueur d’une chaîne, on utilise la fonction `len()`."
      ]
    },
    {
      "cell_type": "code",
      "metadata": {
        "id": "j2h15V_hXBk5"
      },
      "source": [
        "ch=\"Ceci est une chaîne de plusieurs mots\"\n",
        "print(len(ch)) # renvoie 37; La chaîne ch est constituée de 37 caractères (espace compris)."
      ],
      "execution_count": null,
      "outputs": []
    },
    {
      "cell_type": "markdown",
      "metadata": {
        "id": "NuS1HNK9XBk6"
      },
      "source": [
        "###  <left> <b> <span style=\"color:brown;\"> 1.2  Addition de chaînes de caractères (**concaténation**) </span> </b></left> \n",
        "\n",
        "L’addition de chaînes de caractères est la juxtaposition de chaînes de caractères les unes à la\n",
        "suite des autres pour une former une chaîne de caractères unique. Il s’agit de la **concaténation**.\n",
        "Pour réaliser cette opération, on utilise le symbole + entre les noms des variables chaînes. Le\n",
        "résultat obtenu est ensuite assignée à une nouvelle variable. Exemples :"
      ]
    },
    {
      "cell_type": "code",
      "metadata": {
        "id": "lEEzDa1HXBk7"
      },
      "source": [
        "x = \"Un petit pas pour l'homme,\"\n",
        "y = \"un grand pas pour l'humanité\"\n",
        "z = x + y\n",
        "print(z) # renvoie 'Un petit pas pour l'homme, un grand pas pour l'humanité'"
      ],
      "execution_count": null,
      "outputs": []
    },
    {
      "cell_type": "markdown",
      "metadata": {
        "id": "Cm714Fc3XBk8"
      },
      "source": [
        "Attention toutefois dans l’utilisation de l’opérateur de concaténation lorsqu’il s’agit d’associer\n",
        "une valeur numérique à une chaîne pour former une chaîne unique. Exemple:\n",
        "```python\n",
        "    x = 'Le prix du stylo est'\n",
        "    y = 5\n",
        "    z = 'euros'\n",
        "\n",
        "```\n",
        "On veut concaténer x, y et z de sorte à obtenir la phrase 'Le prix du stylo est 5 euros'.\n",
        "Dans cette situation, on ne peut pas faire x+y+z car y est de type numérique. Il faut d’abord\n",
        "convertir celle-ci en utilisant la fonction str(). Ainsi on a :\n",
        "    "
      ]
    },
    {
      "cell_type": "code",
      "metadata": {
        "id": "2Pxq1H6aXBk-"
      },
      "source": [
        "x = 'Le prix du stylo est'\n",
        "y = 5\n",
        "z = 'euros'\n",
        "ch = x+str(y)+z\n",
        "print(ch) # renvoie 'Le prix du stylo est5euros'"
      ],
      "execution_count": null,
      "outputs": []
    },
    {
      "cell_type": "markdown",
      "metadata": {
        "id": "3bjGOu8XXBk_"
      },
      "source": [
        "On voit que est 5 euros est sans espace, on peut alors modifier l’opération de concaténation en\n",
        "insérant des espace entre les valeurs. Ainsi, on a :\n"
      ]
    },
    {
      "cell_type": "code",
      "metadata": {
        "id": "EgjlouOvXBk_"
      },
      "source": [
        "ch = x + ' '+ str(y) + ' '+ z\n",
        "print(ch) # renvoie Le prix du stylo est 5 euros"
      ],
      "execution_count": null,
      "outputs": []
    },
    {
      "cell_type": "markdown",
      "metadata": {
        "id": "cMl1sl9YXBlA"
      },
      "source": [
        "Ce résultat pouvait aussi être obtenu par une expression directe telle que :\n"
      ]
    },
    {
      "cell_type": "code",
      "metadata": {
        "id": "1DjjfsbpXBlB"
      },
      "source": [
        "ch = 'Le prix du stylo est'+ ' '+ '5' + ' '+ 'euros'\n",
        "print(ch) # renvoie 'Le prix du stylo est 5 euros'"
      ],
      "execution_count": null,
      "outputs": []
    },
    {
      "cell_type": "markdown",
      "metadata": {
        "id": "vi5MM7bwXBlU"
      },
      "source": [
        "###  <left> <b> <span style=\"color:brown;\"> 1.3 Méthodes </span> </b></left> \n",
        "\n",
        "Les chaînes de caractères disposent de [nombreuses fonctionnalités](https://docs.python.org/2/library/stdtypes.html#string-methods) – appelées `méthodes` en POO\n",
        "(Programmation Orientée Objet) – facilitant leur manipulation.\n",
        "La fonction `dir()` liste toutes les méthodes des chaînes. Au nombres de celles-ci, les plus courantes sont \n",
        "`upper()`, `lower()`, `capitalize()`, `find()`, `replace()`,`count()`,`startwith()`,`endwith()`, `in`."
      ]
    },
    {
      "cell_type": "code",
      "metadata": {
        "id": "INNZq1aaXBlW"
      },
      "source": [
        "help(titre.replace)"
      ],
      "execution_count": null,
      "outputs": []
    },
    {
      "cell_type": "code",
      "metadata": {
        "id": "DPgi_pnrXBlZ"
      },
      "source": [
        "# Tout en majuscules\n",
        "mot=\"Bonjour\"\n",
        "mot=mot.upper()\n",
        "print(mot)"
      ],
      "execution_count": null,
      "outputs": []
    },
    {
      "cell_type": "code",
      "metadata": {
        "id": "gmo8vtUUXBlb"
      },
      "source": [
        "#Tout en minuscules\n",
        "mot=\"Bonjour\"\n",
        "mot=mot.lower()\n",
        "print(mot)"
      ],
      "execution_count": null,
      "outputs": []
    },
    {
      "cell_type": "code",
      "metadata": {
        "id": "OGsXGdHtXBlc"
      },
      "source": [
        "# Seule la première lettre en majuscule\n",
        "mot=\"bonJOUR\"\n",
        "mot=mot.title()\n",
        "print(mot)"
      ],
      "execution_count": null,
      "outputs": []
    },
    {
      "cell_type": "code",
      "metadata": {
        "id": "6kU_7p-9XBld"
      },
      "source": [
        "enfant, peluche = \"Calvin\", 'Hobbes' # Affectation mutiple\n",
        "\n",
        "\n",
        "\n",
        "titre = enfant + ' et ' + peluche; titre # +: Concaténation de chaînes\n",
        "print(titre)\n",
        "print(\"================================================\")\n",
        "print('\\t')\n",
        "\n",
        "\n",
        "\n",
        "\n",
        "\n",
        "print(titre.replace('et', '&')) # Remplacement de sous-chaînes 'Calvin & Hobbes'\n",
        "print(\"================================================\")\n",
        "print('\\t')\n",
        "\n",
        "\n",
        "\n",
        "' & '.join(titre.split(' et ')) # Découpage (split) et jonction (join)\n",
        "print(\"================================================\")\n",
        "print('\\t')\n",
        "\n",
        "\n",
        "\n",
        "\n",
        "print('Hobbes' in titre) # in: Test d'inclusion\n",
        "print(\"================================================\")\n",
        "print('\\t')\n",
        "\n",
        "\n",
        "\n",
        "print(titre.find(\"Hobbes\")) # str.find: Recherche de sous-chaîne\n",
        "\n",
        "\n",
        "print(titre.center(30, '-')) # '-------Calvin et Hobbes-------'\n",
        "\n",
        "\n",
        "dir(str) # Liste toutes les méthodes des chaînes"
      ],
      "execution_count": null,
      "outputs": []
    },
    {
      "cell_type": "markdown",
      "metadata": {
        "id": "Ncvysi3KXBle"
      },
      "source": [
        "###  <left> <b> <span style=\"color:brown;\"> 1.4 Formatage </span> </b></left> \n",
        "\n",
        "Il arrive très souvent que l’on veuille récupérer la valeur d’une variable et l’intégrer à une chaine\n",
        "de caractères pour former une nouvelle chaine de caractères utilisable à d’autres fins.\n",
        "Soit\n",
        "la variable prix définie comme suit\n",
        "```python prix=2\n",
        "```\n",
        "Nous voulons afficher un message de genre \n",
        "`\"Le prix du stylo est de 2 euros\"`.\n",
        "\n",
        "Le but de\n",
        "l’opération de l’opération de formatage de faire afficher la valeur d’une variable à l’intérieur\n",
        "d’une chaine de caractères. Pour cela, on dispose de trois principales méthodes:\n",
        "  - l'utilisation de l'opérateur de concaténation \"+ \"\n",
        "  - l'utilisation de l’opérateur de formatage \"%\" %\n",
        "  - l'utilisation de la fonction format \"{}\".format().\n",
        "  \n",
        "Nous montrerons juste un example avec la méthode `str.format()`.\n",
        "Le système de [formatage](https://docs.python.org/2/library/string.html#formatstrings) permet un contrôle précis de la conversion de variables en chaînes de caractères.\n",
        "Il s’appuie essentiellement sur la méthode `str.format()`:"
      ]
    },
    {
      "cell_type": "code",
      "metadata": {
        "id": "XdYHzH3rXBlf"
      },
      "source": [
        "print(\"{nom} a {age} ans\".format(nom='Calvin', age=6)) #'Calvin a 6 ans'\n",
        "print(\"================================================\")\n",
        "print('\\t')\n",
        "\n",
        "\n",
        "print(\"{} a {} ans\".format('Calvin', 6)) # Raccourci  'Calvin a 6 ans'\n",
        "print(\"================================================\")\n",
        "print('\\t')\n",
        "\n",
        "\n",
        "\n",
        "pi = 3.1415926535897931\n",
        "print(\"{x:f} {x:.2f} {y:f} {y:g} \".format(x=pi, y=pi*1e9)) # '3.141593 3.14 3141592653.589793 3.14159e+09'"
      ],
      "execution_count": null,
      "outputs": []
    },
    {
      "cell_type": "markdown",
      "metadata": {
        "id": "LjAD8w_gXBlg"
      },
      "source": [
        "[print](https://docs.python.org/2/library/functions.html#print) affiche à l’écran (plus spécifiquement la sortie standard) la conversion d’une variable en chaîne\n",
        "de caractères :"
      ]
    },
    {
      "cell_type": "code",
      "metadata": {
        "id": "5o7J1FaJXBlg"
      },
      "source": [
        "print(\"Calvin and Hobbes\\nScientific progress goes 'boink'\") # Calvin and Hobbes Scientific progress goes 'boink'"
      ],
      "execution_count": null,
      "outputs": []
    },
    {
      "cell_type": "code",
      "metadata": {
        "id": "4JOgPokrXBlg"
      },
      "source": [
        "print((\"{0} fois {1} font {2} \").format(3, 4, 3*4)) # Formatage et affichage\n",
        "#3 fois 4 font 12\n",
        "#Un petit exercice dans cette section est d'afficher une table de multiplication."
      ],
      "execution_count": null,
      "outputs": []
    },
    {
      "cell_type": "markdown",
      "metadata": {
        "id": "vrppkQ_UXBlh"
      },
      "source": [
        "Un point que nous n'aborderons pas dans le present calepin mais qu'il serait bon de lire est l'utilisation de l’opérateur **antislash** `\\`."
      ]
    },
    {
      "cell_type": "markdown",
      "metadata": {
        "id": "jw_-zuOSXBli"
      },
      "source": [
        "En concluant cette section, nous faisons mention de l'etudes des expressions régulières (regex ou re) qui sera l'objet d'un expose. Nous pouvons, a titre de guide, dire que les expressions régulières\n",
        "sont des extensions de la fonction str() qui permettent de réaliser des opérations plus\n",
        "complexes de définition de motifs que ne permettent des fonction str()."
      ]
    },
    {
      "cell_type": "markdown",
      "metadata": {
        "id": "FAUEwzxFXBlj"
      },
      "source": [
        "**Remarque:** Il faut faire une remarque importante concernant la\n",
        "différence entre une valeur de type caractère et une valeur de type alphabétique. En effet, une\n",
        "valeur alphabétique est toujours une chaîne de caractère alors qu’une chaîne de caractère n’est\n",
        "pas nécessairement une valeur alphabétique. Sous python, une valeur caractère est toujours\n",
        "exprimée entre guillemets (simple, double ou triple) alors qu’une valeur numérique est\n",
        "exprimée sans guillemets. On distingue deux principaux types de données : les données\n",
        "numériques et les données en caractères. Il faut noter qu’une valeur numérique exprimée entre\n",
        "guillemets est automatiquement traitée comme une valeur caractère même si elle n’est pas\n",
        "alphabétique. Il est important de garder à l’esprit ces détails lors de la manipulation des\n",
        "séquences de valeurs sous python (voir exemple ci-dessous):\n",
        "\n",
        "```python\n",
        "    x = 12 # x est une variable numérique\n",
        "    y = \"12\" # y est une chaîne de caractère formée par une chiffres\n",
        "    z = \"mon texte\" # z est une chaîne de caractères formée de valeurs alphabétiques\n",
        "    k = \"Ce stylo coûte 5 euros\" # k est une chaîne de caractères formée de valeur alphanumérique\n",
        "```"
      ]
    },
    {
      "cell_type": "markdown",
      "metadata": {
        "id": "68h8gAj2XBlj"
      },
      "source": [
        "Pour plus de détails sur le traitement des chaines de caractères consulter [cette page.](http://www.tutorialspoint.com/python/python_strings.htm)"
      ]
    },
    {
      "cell_type": "markdown",
      "metadata": {
        "id": "1ZJRlE0OXBlm"
      },
      "source": [
        "<!--NAVIGATION-->\n",
        "<  [2. Variables, Types et Opérations](https://colab.research.google.com/github/ai-technipreneurs/programmation-python-pratique/blob/master/2_Variables_Types_Op%C3%A9rations.ipynb#scrollTo=Qdsuz2iWUOdE)| [Sommaire](https://colab.research.google.com/github/ai-technipreneurs/programmation-python-pratique/blob/master/Index.ipynb) |  [4. Objets itérables ou conteneurs](https://colab.research.google.com/github/ai-technipreneurs/programmation-python-pratique/blob/master/4_Objets-it%C3%A9rables-ou-conteneurs.ipynb) >\n"
      ]
    }
  ]
}