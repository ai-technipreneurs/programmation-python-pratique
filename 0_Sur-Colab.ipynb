{
  "nbformat": 4,
  "nbformat_minor": 0,
  "metadata": {
    "colab": {
      "name": "0_Sur-Colab.ipynb",
      "provenance": [],
      "collapsed_sections": [],
      "include_colab_link": true
    },
    "kernelspec": {
      "display_name": "Python 3",
      "language": "python",
      "name": "python3"
    },
    "language_info": {
      "codemirror_mode": {
        "name": "ipython",
        "version": 3
      },
      "file_extension": ".py",
      "mimetype": "text/x-python",
      "name": "python",
      "nbconvert_exporter": "python",
      "pygments_lexer": "ipython3",
      "version": "3.7.3"
    }
  },
  "cells": [
    {
      "cell_type": "markdown",
      "metadata": {
        "id": "view-in-github",
        "colab_type": "text"
      },
      "source": [
        "<a href=\"https://colab.research.google.com/github/ai-technipreneurs/programmation-python-pratique/blob/master/0_Sur-Colab.ipynb\" target=\"_parent\"><img src=\"https://colab.research.google.com/assets/colab-badge.svg\" alt=\"Open In Colab\"/></a>"
      ]
    },
    {
      "cell_type": "markdown",
      "metadata": {
        "id": "07l8bS2TVjk0"
      },
      "source": [
        "****\n",
        "\n",
        "# <center> <b> <span style=\"color:orange;\"> Atelier 3P </span> </b></center>\n",
        "\n",
        "## <center> <b> <span style=\"color:green;\">Programmation Python Pratique</span> </b></center>\n",
        "\n",
        "<center>\n",
        "    <a href=\"https://github.com/ai-technipreneurs\" ><img src=\"https://avatars.githubusercontent.com/u/83169416?v=4\" style=\"float:center; max-width: 650px; display: inline\" alt=\"IMSP\"/> </a>\n",
        "    </center>\n",
        "\n",
        "### <center> <b> <span style=\"color:blue;\">Jour 01: Introduction à Python  </span> </b></center>\n",
        "\n",
        "#### <left> <b> <span style=\"color:brown;\">Instructeur : </span> </b></left>[ai-technipreneurs](https://github.com/ai-technipreneurs)\n",
        "\n",
        "****"
      ]
    },
    {
      "cell_type": "markdown",
      "metadata": {
        "id": "hyFc8lqvtknr"
      },
      "source": [
        "# Notebooks iPython - Google Colab"
      ]
    },
    {
      "cell_type": "markdown",
      "metadata": {
        "id": "VZiE6Yz3oE_6"
      },
      "source": [
        "Google Colab est un environnement permettant d'exécuter directement un **Notebook iPython**. Un Notebook est une série de **cellules de texte** (comme celle que vous êtes en train de lire), **ou de code Python** (comme la cellule suivante). Les cellules de code sont **interactives**: lorsque vous les lancez, elles réalisent le script ligne par ligne, et renvoient directement les résultats en-dessous de la cellule. \n",
        "\n",
        "Lorsqu'une cellule de code est lancée, le code de la cellule est en fait envoyé à un **interpréteur Python**, c'est-à-dire un système qui va traduire le code en traitements sur des données informatiques.\n",
        "\n",
        "**Chaque cellule de code peut être exécutée individuellement, mais elles partagent toutes le même interpréteur.** L'interpréteur ne peut exécuter qu'une cellule de code à la fois. **Ainsi, si vous en lancez plusieurs en même temps, elles seront réalisées dans l'ordre dans lequel vous les avec lancées.**\n",
        "\n",
        "**Remarque importante: comme chaque cellule partage le même interpréteur, une variable créée dans une cellule sera accessible, et modifiable dans une autre cellule**. C'est ce qui rend intéressant l'utilisation du Notebook: l'exécution séquentielle des cellules permet de vérifier étape par étape, l'évolution des états d'un programme.\n",
        "\n",
        "Pour exécuter une cellule de code, sélectionner la cellule et :\n",
        "* appuyer sur le bouton ![Texte alternatif…](https://raw.githubusercontent.com/titsitits/UNamur_Python_Analytics/master/Images/button1.jpg) apparaissant à gauche\n",
        "* ou utiliser le raccourcis Shift+Enter (ou Ctrl+Enter pour rester sur la cellule après exécution)\n",
        "\n"
      ]
    },
    {
      "cell_type": "code",
      "metadata": {
        "id": "49BULEwsn3G4"
      },
      "source": [
        "salut = 'Bonjour le monde!'\n",
        "print(salut)"
      ],
      "execution_count": null,
      "outputs": []
    },
    {
      "cell_type": "code",
      "metadata": {
        "id": "RAzJLnByXw5r"
      },
      "source": [
        "print(salut, 'Il y a la forme')"
      ],
      "execution_count": null,
      "outputs": []
    },
    {
      "cell_type": "markdown",
      "metadata": {
        "id": "XhZ2PbyJp8sY"
      },
      "source": [
        "Pour ajouter une cellule, utiliser les boutons de contrôle du menu principal:\n",
        "\n",
        "![Texte alternatif…](https://raw.githubusercontent.com/titsitits/UNamur_Python_Analytics/master/Images/notebook0_image1.png) \n",
        "\n",
        "ou le menu apparaissant sous une cellule existante:\n",
        "\n",
        "![Texte alternatif…](https://raw.githubusercontent.com/titsitits/UNamur_Python_Analytics/master/Images/notebook0_image2.png)"
      ]
    },
    {
      "cell_type": "markdown",
      "metadata": {
        "id": "Hiq4Pkiw-z9B"
      },
      "source": [
        "Pour plus de détails sur Colab, voir [ici](https://colab.research.google.com/notebooks/basic_features_overview.ipynb)."
      ]
    },
    {
      "cell_type": "markdown",
      "metadata": {
        "id": "-Q3oDl6tX931"
      },
      "source": [
        "Maintenant que vous connaissez les bases de Colab, vous pouvez passer sur [1_Python en bref](https://colab.research.google.com/github/ai-technipreneurs/programmation-python-pratique/blob/master/1_Python_en_bref.ipynb)\n",
        "\n",
        "\n",
        "<!--NAVIGATION-->\n",
        "< [Sommaire](Index.ipynb) | [1. Python en bref](https://colab.research.google.com/drive/1pZCx7_J30i-DgJmEe4NdRoXzD3AjS7Rv?authuser=2#scrollTo=SnSuv8RjqwzB) >\n"
      ]
    }
  ]
}