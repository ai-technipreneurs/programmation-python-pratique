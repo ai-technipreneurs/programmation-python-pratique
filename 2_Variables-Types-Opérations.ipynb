{
  "nbformat": 4,
  "nbformat_minor": 0,
  "metadata": {
    "kernelspec": {
      "display_name": "Python 3",
      "language": "python",
      "name": "python3"
    },
    "language_info": {
      "codemirror_mode": {
        "name": "ipython",
        "version": 3
      },
      "file_extension": ".py",
      "mimetype": "text/x-python",
      "name": "python",
      "nbconvert_exporter": "python",
      "pygments_lexer": "ipython3",
      "version": "3.7.3"
    },
    "varInspector": {
      "cols": {
        "lenName": 16,
        "lenType": 16,
        "lenVar": 40
      },
      "kernels_config": {
        "python": {
          "delete_cmd_postfix": "",
          "delete_cmd_prefix": "del ",
          "library": "var_list.py",
          "varRefreshCmd": "print(var_dic_list())"
        },
        "r": {
          "delete_cmd_postfix": ") ",
          "delete_cmd_prefix": "rm(",
          "library": "var_list.r",
          "varRefreshCmd": "cat(var_dic_list()) "
        }
      },
      "types_to_exclude": [
        "module",
        "function",
        "builtin_function_or_method",
        "instance",
        "_Feature"
      ],
      "window_display": false
    },
    "colab": {
      "name": "2_Variables-Types-Opérations.ipynb",
      "provenance": [],
      "include_colab_link": true
    }
  },
  "cells": [
    {
      "cell_type": "markdown",
      "metadata": {
        "id": "view-in-github",
        "colab_type": "text"
      },
      "source": [
        "<a href=\"https://colab.research.google.com/github/ai-technipreneurs/programmation-python-pratique/blob/master/2_Variables-Types-Op%C3%A9rations.ipynb\" target=\"_parent\"><img src=\"https://colab.research.google.com/assets/colab-badge.svg\" alt=\"Open In Colab\"/></a>"
      ]
    },
    {
      "cell_type": "markdown",
      "metadata": {
        "id": "Fe-QJHTzUObe"
      },
      "source": [
        "****\n",
        "\n",
        "# <center> <b> <span style=\"color:orange;\"> Atelier 3P </span> </b></center>\n",
        "\n",
        "## <center> <b> <span style=\"color:green;\">Programmation Python Pratique</span> </b></center>\n",
        "\n",
        "<center>\n",
        "    <a href=\"https://github.com/ai-technipreneurs\" ><img src=\"https://avatars.githubusercontent.com/u/83169416?v=4\" style=\"float:center; max-width: 650px; display: inline\" alt=\"IMSP\"/> </a>\n",
        "    </center>\n",
        "\n",
        "### <center> <b> <span style=\"color:blue;\">Jour 01: Introduction à Python  </span> </b></center>\n",
        "\n",
        "#### <left> <b> <span style=\"color:brown;\">Instructeur : </span> </b></left>[ai-technipreneurs](https://github.com/ai-technipreneurs)\n",
        "\n",
        "****"
      ]
    },
    {
      "cell_type": "markdown",
      "metadata": {
        "id": "aHOJAzhJUObm"
      },
      "source": [
        "Dès que l’on possède des *types de données*, on a besoin des *variables* pour stocker les\n",
        "    données.\n",
        "    En réalité, Python n’offre pas la notion de variable, mais plutôt celle de *référence d’objet*. Tant\n",
        "    que l’objet n’est pas modifiable (comme les entiers, les flottants, etc.), il n’y a pas de différence\n",
        "    notable. Dans le présent calepin, nous discutons les grandes lignes atour de l'utilisation des variables sous Python."
      ]
    },
    {
      "cell_type": "markdown",
      "metadata": {
        "id": "Hf8s19kkUObz"
      },
      "source": [
        "#  <left> <b> <span style=\"color:orange;\"> 0. Définir une variable</span> </b></left>\n",
        "\n",
        "Sous Python, une variable est un objet de programmation permettant de stocker une\n",
        "information en mémoire de la machine en attribuant un nom symbolique. Une variable est\n",
        "définie en utilisant l’opérateur mathématique `=` soit par assignation directe de sa valeur, ou par\n",
        "une assignation à partir de la valeur d’une autre variable. Exemples :"
      ]
    },
    {
      "cell_type": "markdown",
      "metadata": {
        "id": "1XtDNGDvUOb1"
      },
      "source": [
        "## <left> <b> <span style=\"color:brown;\"> 0.0 Assignation directe</span> </b></left>"
      ]
    },
    {
      "cell_type": "code",
      "metadata": {
        "id": "TPsVwXJTUOb3"
      },
      "source": [
        "x = 86 # définit la variable nommée x et lui assigne la valeur 86"
      ],
      "execution_count": null,
      "outputs": []
    },
    {
      "cell_type": "code",
      "metadata": {
        "id": "LGFBV404UOb5"
      },
      "source": [
        "y = 4.8134 # définit la variable nommée y et lui assigne la valeur 4.8134\n"
      ],
      "execution_count": null,
      "outputs": []
    },
    {
      "cell_type": "code",
      "metadata": {
        "id": "F_BxxSHeUOb5"
      },
      "source": [
        "salutation = \"Comment allez-vous ?\" # Définit la variable nommée salutation et lui assigne la valeur \" Comment allez-vous ?\""
      ],
      "execution_count": null,
      "outputs": []
    },
    {
      "cell_type": "markdown",
      "metadata": {
        "id": "zEHz3asPUOb6"
      },
      "source": [
        "## <left> <b> <span style=\"color:brown;\"> 0.1 Affichage</span> </b></left>\n",
        "\n",
        "Pour afficher les valeurs des trois variables définies, on utilise la fonction `print()`-sur laquelle nous reviendrons quand nous parlerons des *objets fonctions sous Python*."
      ]
    },
    {
      "cell_type": "code",
      "metadata": {
        "id": "0InQACGpUOb7"
      },
      "source": [
        "print(x)"
      ],
      "execution_count": null,
      "outputs": []
    },
    {
      "cell_type": "code",
      "metadata": {
        "id": "wT02fq0FUOb_"
      },
      "source": [
        "print(y)"
      ],
      "execution_count": null,
      "outputs": []
    },
    {
      "cell_type": "code",
      "metadata": {
        "id": "maU6TveuUOcA"
      },
      "source": [
        "print(salutation)"
      ],
      "execution_count": null,
      "outputs": []
    },
    {
      "cell_type": "markdown",
      "metadata": {
        "id": "gS4gs4HNUOcC"
      },
      "source": [
        "Pour afficher les trois valeurs sur la même ligne on utilise une seule fonction print() en séparant\n",
        "les variables par des virgules :"
      ]
    },
    {
      "cell_type": "code",
      "metadata": {
        "id": "TaNFF6kuUOcD"
      },
      "source": [
        "print(x,y,salutation)"
      ],
      "execution_count": null,
      "outputs": []
    },
    {
      "cell_type": "markdown",
      "metadata": {
        "id": "zmNBeMIKUOcG"
      },
      "source": [
        "## <left> <b> <span style=\"color:brown;\"> 0.2 Assignation multiple</span> </b></left>\n",
        "\n",
        "Les examples présentes entrent dans le cadre de ce qe nous appelons `assignation directe`. Une `assignation multiple` est un cas d'`assignation directe` qui consiste à attribuer une même valeur à plusieurs variables dans la\n",
        "même ligne de code. Exemple :"
      ]
    },
    {
      "cell_type": "code",
      "metadata": {
        "id": "hkXJg7jZUOcH"
      },
      "source": [
        "x = y = 7 # x et y prennent la même valeur simultanément 7."
      ],
      "execution_count": null,
      "outputs": []
    },
    {
      "cell_type": "markdown",
      "metadata": {
        "id": "kim9IIwJUOcH"
      },
      "source": [
        "## <left> <b> <span style=\"color:brown;\"> 0.3 Assignation parallèle</span> </b></left>\n",
        "Une `assignation parallèle` consiste à définir plusieurs variables en utilisant un seul symbole\n",
        "d’égalité. Exemple :"
      ]
    },
    {
      "cell_type": "code",
      "metadata": {
        "id": "XknS8csEUOcJ"
      },
      "source": [
        "x, y = 4, 8.33 # On définit deux variables x et y dont les valeurs sont respectivement 4 et 8.33."
      ],
      "execution_count": null,
      "outputs": []
    },
    {
      "cell_type": "code",
      "metadata": {
        "id": "WyD8XblGUOcJ",
        "outputId": "c408f16b-834e-47ed-fa96-7d9217966dc0"
      },
      "source": [
        "## 0.2 Erreur d'assignation\n",
        "\n",
        "128 = a"
      ],
      "execution_count": null,
      "outputs": [
        {
          "output_type": "error",
          "ename": "SyntaxError",
          "evalue": "can't assign to literal (<ipython-input-110-74505f970abb>, line 3)",
          "traceback": [
            "\u001b[0;36m  File \u001b[0;32m\"<ipython-input-110-74505f970abb>\"\u001b[0;36m, line \u001b[0;32m3\u001b[0m\n\u001b[0;31m    128 = a\u001b[0m\n\u001b[0m           ^\u001b[0m\n\u001b[0;31mSyntaxError\u001b[0m\u001b[0;31m:\u001b[0m can't assign to literal\n"
          ]
        }
      ]
    },
    {
      "cell_type": "code",
      "metadata": {
        "id": "Q6HLgFpPUOcL",
        "outputId": "35b665fa-4104-41bf-bcd3-7263b0cb94e7"
      },
      "source": [
        "Ceci nous appelle a parler brièvement des noms de variables admissibles sous Python. "
      ],
      "execution_count": null,
      "outputs": [
        {
          "output_type": "error",
          "ename": "SyntaxError",
          "evalue": "invalid syntax (<ipython-input-111-857d56225df4>, line 1)",
          "traceback": [
            "\u001b[0;36m  File \u001b[0;32m\"<ipython-input-111-857d56225df4>\"\u001b[0;36m, line \u001b[0;32m1\u001b[0m\n\u001b[0;31m    Ceci nous appelle a parler brièvement des noms de variables admissibles sous Python.\u001b[0m\n\u001b[0m            ^\u001b[0m\n\u001b[0;31mSyntaxError\u001b[0m\u001b[0;31m:\u001b[0m invalid syntax\n"
          ]
        }
      ]
    },
    {
      "cell_type": "markdown",
      "metadata": {
        "id": "digc9fLcUOcT"
      },
      "source": [
        "##  <left> <b> <span style=\"color:brown;\">0.4 Conventions de nommage </span> </b></left>"
      ]
    },
    {
      "cell_type": "markdown",
      "metadata": {
        "id": "GRGZv0AUUOcV"
      },
      "source": [
        "Les conventions de nommage des différents éléments de code sont importantes car elles donnent des informations supplémentaires aux développeurs quant à la nature de certains attributs ou certaines variables. Il faut garder à l'esprit certaines règles concernant les noms de variables.\n",
        "La convention pour les noms de variable est la suivante:\n",
        " \n",
        "   - Ils ne doivent être constitués que de caractères alphanumériques (a-z, A-Z, 0-9) et du caractère de soulignement` _`.\n",
        "   - Les noms de variables peuvent debuter avec `_` , `$` , ou une lettre;\n",
        "   - Les noms de variables peuvent etre en miniscule ou en majuscule;\n",
        "   - Les noms de variables ne peuvent debuter avec un chiffre;\n",
        "   - Les espaces blancs ne sont pas autorisés dans les noms de variables;\n",
        "   - Les mots réservés tels que `if`, `else` , etc., ne peuvent être utilisés comme noms de variables;\n",
        "\n",
        "\n",
        "<left> <b> <span style=\"color:brown;\"> Le bon programmeur s’efforce bien entendu de choisir les noms de variables les plus pertinents possible. </span> </b></left>"
      ]
    },
    {
      "cell_type": "markdown",
      "metadata": {
        "id": "bofqUjNiUOcW"
      },
      "source": [
        "Sous Python, il existe **33** mots réservés dont la liste est fournie ci-dessous:"
      ]
    },
    {
      "cell_type": "markdown",
      "metadata": {
        "id": "FT1kqw3UUOcY"
      },
      "source": [
        "|             |                  |                  |                  |                  | \n",
        "|-------------|------------------|------------------|------------------|------------------|\n",
        "|``and``      | ``elif``         | ``if``           | ``or``           | ``yield``        |\n",
        "|``as``       | ``else``         | ``import``       | ``pass``         |                  | \n",
        "|``assert``   | ``except``       | ``in``           | ``raise``        |                  |  \n",
        "|``break``    | ``False``        | ``is``           | ``return``       |                  |\n",
        "|``class``    | ``finally``      | ``lambda``       | ``True``         |                  |\n",
        "|``continue`` | ``for``          | ``None``         | ``try``          |                  |\n",
        "|``def``      | ``from``         | ``nonlocal``     | ``while``        |                  |\n",
        "|``del``      | ``global``       | ``not``          | ``with``         |                  |"
      ]
    },
    {
      "cell_type": "markdown",
      "metadata": {
        "id": "waG7S-3XUOcY"
      },
      "source": [
        "### <left> <b> <span style=\"color:red;\"> Note</span> </b></left>\n",
        "\n",
        "Vous pouvez toujours obtenir la liste des mots-clés dans votre version actuelle de Python en tapant \n",
        "`import keyword ; print(keyword.kwlist)` dans un environnement Python. "
      ]
    },
    {
      "cell_type": "code",
      "metadata": {
        "id": "Iw7Cx_glUOcZ"
      },
      "source": [
        "import keyword ; print(keyword.kwlist)"
      ],
      "execution_count": null,
      "outputs": []
    },
    {
      "cell_type": "markdown",
      "metadata": {
        "id": "CsNq5kanUOca"
      },
      "source": [
        "**Remarque**: Python est sensible à la casse, ainsi, les noms de variables `Age` et `age` sont distincts. Suivant le langage, il y a une [convention de nommage](https://en.wikipedia.org/wiki/Naming_convention_(programming)#Python_and_Ruby) pour les variables qui est recommandée. \n",
        "\n",
        "- `UpperCamelCase` pour les noms de classe;\n",
        "\n",
        "- `CAPITALIZED_WITH_UNDERSCORES` pour les constantes;\n",
        "\n",
        "- `lowercase_separated_by_underscores` ou `snake_case` pour les autres variables."
      ]
    },
    {
      "cell_type": "markdown",
      "metadata": {
        "id": "U2xHcxAgUOca"
      },
      "source": [
        "****\n",
        "**Un exercice fondamental : l’échange des contenus de deux variables**\n",
        "\n",
        "> On suppose que les variables `x` et `y` ont pour valeurs respectives des entiers $\\alpha$ et $\\beta$. On souhaite\n",
        "échanger le contenu de ces deux variables.\n",
        "\n",
        ">   - a. Première méthode : Proposer une méthode qui utilise une variable auxiliaire `tmp`.\n",
        "       ```python\n",
        "          tmp = x\n",
        "          x = y\n",
        "          y = tmp\n",
        "       ```\n",
        ">   - b. Deuxième méthode : On exécute la séquence d’instructions suivante :\n",
        "       ```python \n",
        "          x = x + y; y = x - y; x = x - y  \n",
        "       ```\n",
        "       \n",
        ">   - c. Troisième méthode (la plus « pythonique ») : Utiliser une affectation parallèle.\n",
        "      ```python\n",
        "         x, y = y, x\n",
        "      ```   \n",
        "**** "
      ]
    },
    {
      "cell_type": "markdown",
      "metadata": {
        "id": "ljpJuja2UOca"
      },
      "source": [
        "### <left> <b> <span style=\"color:red;\"> Première méthode </span> </b></left>"
      ]
    },
    {
      "cell_type": "code",
      "metadata": {
        "id": "7GKADryQUOcb"
      },
      "source": [
        "x = 5\n",
        "y = 4  \n",
        "print(x,y)\n",
        "print(\"================================================\")\n",
        "print('\\t')\n",
        "\n",
        "tmp = x\n",
        "x = y\n",
        "y = tmp\n",
        "print(x,y)"
      ],
      "execution_count": null,
      "outputs": []
    },
    {
      "cell_type": "markdown",
      "metadata": {
        "id": "y39wJW3uUOcc"
      },
      "source": [
        "### <left> <b> <span style=\"color:red;\"> Deuxième méthode </span> </b></left> "
      ]
    },
    {
      "cell_type": "code",
      "metadata": {
        "id": "E0JZDkqoUOcc"
      },
      "source": [
        "x = 7\n",
        "y = 9 \n",
        "print(x,y)\n",
        "print(\"================================================\")\n",
        "print('\\t')\n",
        "\n",
        "\n",
        "x = x + y; y = x - y; x = x - y \n",
        "print(x,y)"
      ],
      "execution_count": null,
      "outputs": []
    },
    {
      "cell_type": "markdown",
      "metadata": {
        "id": "Hyl7xIqgUOcd"
      },
      "source": [
        "### <left> <b> <span style=\"color:red;\"> Troisième méthode </span> </b></left> "
      ]
    },
    {
      "cell_type": "code",
      "metadata": {
        "id": "UTVGan3eUOce"
      },
      "source": [
        "x = 90\n",
        "y = 15\n",
        "print(x,y)\n",
        "print(\"================================================\")\n",
        "print('\\t')\n",
        "\n",
        "\n",
        "x, y = y, x\n",
        "print(x,y)"
      ],
      "execution_count": null,
      "outputs": []
    },
    {
      "cell_type": "code",
      "metadata": {
        "id": "7g_m3-9jUOcf"
      },
      "source": [
        "x"
      ],
      "execution_count": null,
      "outputs": []
    },
    {
      "cell_type": "markdown",
      "metadata": {
        "id": "gl_PgOPUUOch"
      },
      "source": [
        "Signalons rapidement que pour supprimer une variable, on dispose de la fonction `del`. Supprimons la variable `x` avec `del x`"
      ]
    },
    {
      "cell_type": "code",
      "metadata": {
        "id": "YbaPtKwpUOci"
      },
      "source": [
        "del x"
      ],
      "execution_count": null,
      "outputs": []
    },
    {
      "cell_type": "markdown",
      "metadata": {
        "id": "cGPeOMN4UOcj"
      },
      "source": [
        "Vérifions que la variable `x` n'existe plus."
      ]
    },
    {
      "cell_type": "code",
      "metadata": {
        "id": "okNd-nsMUOcj"
      },
      "source": [
        "print(x)"
      ],
      "execution_count": null,
      "outputs": []
    },
    {
      "cell_type": "markdown",
      "metadata": {
        "id": "5a4908d-UOcn"
      },
      "source": [
        "#  <left> <b> <span style=\"color:orange;\"> 1. Type d’une variable </span> </b></left>\n",
        "\n",
        "\n",
        "Le type d’une variable correspond à la nature de celle-ci. Il existe de nombreux autres types de\n",
        "variables (nombre entier, nombre réel, chaînes de caractères, etc). Les types de variables les\n",
        "plus couramment rencontrés sont les entier (int) , les nombres réels (float), les chaînes de\n",
        "caractères (str).\n",
        "\n",
        "Les types de base sont:\n",
        "\n",
        "   - Types numériques :\n",
        "      - Entiers `int`\n",
        "      - Réels `float`\n",
        "      - Booléens `bool`, (vrai/faux) : `True`, `False`,\n",
        "\n",
        "   \n",
        "   - Chaînes de caractères : `str`\n",
        "      - Entre (simples, doubles ou triples) apostrophes `'` ou guillemets `\"` : `'Calvin'`, `\"Calvin'n'Hobbes\"`,\n",
        "       `'''Deux\\nlignes'''`, `\"\"\"'Pourquoi?' demanda-t-il.\"\"\"`\n",
        "       \n",
        "Des types plus complexes comme   \n",
        "   - None (rien)\n",
        "   - Complexes`complex`:`1+2j`, `5.1j`, `complex(-3.14)`, `complex('j')`\n",
        "exstent aussi mais ne seront abordés que plus tard dans cette formation.   "
      ]
    },
    {
      "cell_type": "markdown",
      "metadata": {
        "id": "HAJcSs4cUOco"
      },
      "source": [
        "Python est un langage au typage dynamique, c’est-à-dire qu’il reconnaît directement le type\n",
        "des variables lorsque sa valeur est indiquée. Ainsi, contrairement à d'autres langages comme le\n",
        "langage C, il n'y a pas de déclaration de type obligatoire lors de la création d'une variable.\n",
        "Exemples :"
      ]
    },
    {
      "cell_type": "code",
      "metadata": {
        "id": "lyZwO6U3UOcp"
      },
      "source": [
        "x = 2 # type entier (int)\n",
        "x = 2. # type réel (float avec décimaux)\n",
        "x = '2' # type caractère (string)"
      ],
      "execution_count": null,
      "outputs": []
    },
    {
      "cell_type": "markdown",
      "metadata": {
        "id": "fDvMkR3jUOcq"
      },
      "source": [
        "Pour connaitre le type d’une variable, on utilise la fonction `type()`."
      ]
    },
    {
      "cell_type": "code",
      "metadata": {
        "id": "uaWyzvsPUOcq"
      },
      "source": [
        "i = 123\n",
        "type(i) # renvoie <type 'int'>"
      ],
      "execution_count": null,
      "outputs": []
    },
    {
      "cell_type": "code",
      "metadata": {
        "id": "GQcUFTCHUOcs"
      },
      "source": [
        "type(i) is int # renvoie True"
      ],
      "execution_count": null,
      "outputs": []
    },
    {
      "cell_type": "code",
      "metadata": {
        "id": "Q5TIie80UOcs"
      },
      "source": [
        "k = 123.456\n",
        "type(k) # renvoie <type 'float'>"
      ],
      "execution_count": null,
      "outputs": []
    },
    {
      "cell_type": "code",
      "metadata": {
        "id": "9d3IymDDUOct"
      },
      "source": [
        "type(k) is float # renvoie True"
      ],
      "execution_count": null,
      "outputs": []
    },
    {
      "cell_type": "code",
      "metadata": {
        "id": "aUs4GdM1UOcu"
      },
      "source": [
        "m = 'ABCD'\n",
        "type(m) # renvoie <type 'str'>"
      ],
      "execution_count": null,
      "outputs": []
    },
    {
      "cell_type": "code",
      "metadata": {
        "id": "F1nb_sDOUOcv"
      },
      "source": [
        "type(m) is str # renvoie True"
      ],
      "execution_count": null,
      "outputs": []
    },
    {
      "cell_type": "markdown",
      "metadata": {
        "id": "e0dDXaKXUOcw"
      },
      "source": [
        "#  <left> <b> <span style=\"color:orange;\"> 2. Conversion de types (casting) </span> </b></left>\n",
        "\n",
        "Il faut remarquer que les variables en chaînes de caractères sont toujours définies avec des\n",
        "guillemets. Avec des guillemets\n",
        "simples, on a des chaines de types char alors qu’avec des guillemets doubles, on obtient des\n",
        "chaînes de type string. Noter aussi que même si une variable est définie avec des nombres,\n",
        "lorsque ces nombres sont indiqués avec des guillemets, python traite cette variable comme\n",
        "une chaine de caractères. Néanmoins, il existe des fonctions pour convertir une variable d’un\n",
        "type à un autre lorsque cette conversion est autorisée. Voir les exemples suivants.\n",
        "\n",
        "* Lorsque c'est possible, un type de données peut être converti vers un autre type de données.\n",
        "  * convertir un **`int`** en **`str`**:    **`str(4)`** => \"4\"\n",
        "  * convertir un **`str`** en **`int`**:    **`int(\"4\")`** => 4\n",
        "  * convertir un **`float`** en **`int`**:    **`int(4.8)`** => 4\n",
        "  * conversion en **`bool`**: **`bool(\"\"), bool(0.0), bool(0)`** => **`False`**. Tout le reste renvoie **`True`**"
      ]
    },
    {
      "cell_type": "code",
      "metadata": {
        "id": "0aVWo7SYUOcw"
      },
      "source": [
        "#Conversion d’une variable de type caractère en variable de type entier ou réel.\n",
        "\n",
        "x='2'\n",
        "print(x)\n",
        "print(\"================================================\")\n",
        "print('\\t')\n",
        "\n",
        "\n",
        "x = int(x)\n",
        "print(x)\n",
        "print(\"================================================\")\n",
        "print('\\t')\n",
        "\n",
        "\n",
        "\n",
        "x = float(x)\n",
        "print(x)"
      ],
      "execution_count": null,
      "outputs": []
    },
    {
      "cell_type": "code",
      "metadata": {
        "id": "J6vWQ0y7UOcy"
      },
      "source": [
        "#Conversion d’une variable de type numérique (entier ou réel) en variable de type caractère.\n",
        "\n",
        "y = 2.4756\n",
        "\n",
        "y = str(y)\n",
        "\n",
        "print(y)"
      ],
      "execution_count": null,
      "outputs": []
    },
    {
      "cell_type": "code",
      "metadata": {
        "id": "4r_ZSRnFUOcz"
      },
      "source": [
        "print(bool(\"\"), bool(0.0), bool(0))\n",
        "print(bool(\"0\"), bool(-1.2), bool(-10), bool(\"hi\"))\n",
        "str(True), str(False), int(True), int(False), float(True), float(False)"
      ],
      "execution_count": null,
      "outputs": []
    },
    {
      "cell_type": "code",
      "metadata": {
        "id": "oSFw1sA0UOc1"
      },
      "source": [
        "int(4.9), float(\"3.5\"), str(3.5), bool(4.2), bool(-2), bool(0)"
      ],
      "execution_count": null,
      "outputs": []
    },
    {
      "cell_type": "markdown",
      "metadata": {
        "id": "PHROLE5aUOc2"
      },
      "source": [
        "En conclusion, on peut noter que toutes les variables numériques sont convertible en type\n",
        "caractère mais une variable n’est convertible en type numérique que lorsque la valeur de celle-\n",
        "ci est constituée uniquement de chiffres."
      ]
    },
    {
      "cell_type": "code",
      "metadata": {
        "id": "9TKoBdxqUOc3"
      },
      "source": [
        "A = \"On essaie\"\n",
        "A = int(A)\n",
        "A"
      ],
      "execution_count": null,
      "outputs": []
    },
    {
      "cell_type": "markdown",
      "metadata": {
        "id": "MHRLCD3lUOc4"
      },
      "source": [
        "#  <left> <b> <span style=\"color:orange;\"> 3. Méthodes associées aux variables </span> </b></left>\n",
        "\n",
        "A chaque variable créée dans python, est associé un ensemble d’attributs (ex : type) mais aussi\n",
        "un ensemble de méthodes, c'est à dire un ensemble d’opérations de traitement et\n",
        "d’exploitation réalisable avec cette variable. Pour afficher l'ensemble des méthodes d'une\n",
        "variable, on utilise la commande `dir()`. Exemple :"
      ]
    },
    {
      "cell_type": "code",
      "metadata": {
        "id": "VHRe-4EmUOc6"
      },
      "source": [
        "x = 2.5 # Définit une variable numérique x\n",
        "\n",
        "y = 'mon texte' # Définit une variable en chaîne de caractères y."
      ],
      "execution_count": null,
      "outputs": []
    },
    {
      "cell_type": "markdown",
      "metadata": {
        "id": "dNCMs7P_UOc6"
      },
      "source": [
        "Pour afficher l’ensemble des méthodes associées à chacune de ces variables, on fait :\n"
      ]
    },
    {
      "cell_type": "code",
      "metadata": {
        "id": "yZ4m3vf9UOc7"
      },
      "source": [
        "print(dir(x))"
      ],
      "execution_count": null,
      "outputs": []
    },
    {
      "cell_type": "code",
      "metadata": {
        "id": "AwV1TtOoUOc7"
      },
      "source": [
        "print(dir(y))"
      ],
      "execution_count": null,
      "outputs": []
    },
    {
      "cell_type": "markdown",
      "metadata": {
        "id": "dO3XwGJgUOc8"
      },
      "source": [
        "On peut aussi faire `nom_de_la_variable.` suivi de `TAB`."
      ]
    },
    {
      "cell_type": "markdown",
      "metadata": {
        "id": "j3YUvNiDUOc8"
      },
      "source": [
        "Ainsi, pour obtenir de l’aide sur une méthode spécifique, on utilise la fonction `help()` comme\n",
        "suit : `help(x.nomMethode)` où nomMethode est le nom de la méthode considérée. Par exemple, pour une variable numérique de type `float`, il existe une méthode nommé `conjugate`.\n",
        "Pour obtenir de l’aide sur cette fonction, on fait :\n",
        "`print(help(x.conjugate))`"
      ]
    },
    {
      "cell_type": "code",
      "metadata": {
        "id": "AT18NqdyUOc9"
      },
      "source": [
        "print(help(x.conjugate))"
      ],
      "execution_count": null,
      "outputs": []
    },
    {
      "cell_type": "markdown",
      "metadata": {
        "id": "rpE4uYRuUOc-"
      },
      "source": [
        "Pour afficher l’aide sur toutes les fonctions associées à la variable x, on fait simplement :\n"
      ]
    },
    {
      "cell_type": "code",
      "metadata": {
        "id": "eywtL2_lUOc_"
      },
      "source": [
        "print(help(x))"
      ],
      "execution_count": null,
      "outputs": []
    },
    {
      "cell_type": "markdown",
      "metadata": {
        "id": "9A3OermqUOdA"
      },
      "source": [
        "#  <left> <b> <span style=\"color:orange;\"> 3. Opérations sur les types numériques </span> </b></left>"
      ]
    },
    {
      "cell_type": "markdown",
      "metadata": {
        "id": "z8dW093nUOdB"
      },
      "source": [
        "Deux grandes catégories [d’opérateurs](https://fr.wikibooks.org/wiki/Programmation_Python/Op%C3%A9rateurs) sont utilisées en Python pour définir les variables et les\n",
        "instructions. Il s’agit des opérateurs arithmétiques et les opérateurs logiques.\n",
        "Les premiers permettent de réaliser les opérations mathématiques courantes tandis que les\n",
        "seconds permettent de réaliser des comparaisons de valeurs. Une valeur booléenne est une\n",
        "évaluation logique représentant l’une des deux possibilités suivantes : vrai ou faux. Les valeurs\n",
        "booléennes sont le résultat de l’évaluation d’expressions logiques et elles servent à faire des\n",
        "choix dans un programme (effectuer telle action quand telle condition est réalisée)."
      ]
    },
    {
      "cell_type": "markdown",
      "metadata": {
        "id": "BrwFMt9iUOdB"
      },
      "source": [
        "## <left> <b> <span style=\"color:brown;\"> 3.0 Les opérateurs arithmétiques </span> </b></left>\n",
        "\n",
        "\n",
        "   \n",
        "|  Opérations    $\\quad \\qquad$        | Opérateur en Python \t  $\\qquad$          | Exemples          |\n",
        "|-------------:|:------------------:|------------------:|\n",
        "| Addition $ \\qquad \\qquad$     |       $+ \\quad \\qquad$            |  $x = 2 + 3$          | \n",
        "| Soustraction $\\qquad \\quad$     |    $- \\quad \\qquad$      |   $z = x -y$      |                 \n",
        "| Multiplication $\\qquad \\quad$  |  $* \\quad \\qquad$      |   $y=3*x$         | \n",
        "| Division (quotient réel)  $\\qquad \\quad$        | $/\\quad \\qquad$  | $5/2=2.5 $ |\n",
        "| Division (quotient entier)  $\\qquad \\quad$         |$//\\quad \\qquad$  | $5//2=2$|\n",
        "| Puissance $\\qquad \\quad$          | $**\\quad \\qquad$ | $x^{**}2=x*x$ |\n",
        "| Reste de la division modulo $\\qquad \\quad$          | $\\% \\quad \\qquad$  |$17\\%3 =2$  |\n",
        "| Addition incrémentée    $\\qquad \\quad$       | $+$$=\\quad \\qquad$ | ($x$$+$$=$$4$ ) $\\iff$ $x=x+4$|\n",
        "| Soustraction incrémentée    $\\qquad \\quad$       | $-$$=\\quad \\qquad$ | ($x$$-$$=$$4$ ) $\\iff$ $x=x-4$|"
      ]
    },
    {
      "cell_type": "markdown",
      "metadata": {
        "id": "dbJ14eDLUOdB"
      },
      "source": [
        "### <left> <b> <span style=\"color:red;\"> Quelques exemples </span> </b></left>\n"
      ]
    },
    {
      "cell_type": "code",
      "metadata": {
        "id": "3QaNI6INUOdC",
        "outputId": "cdced148-20b8-4888-83f9-a4487082104e"
      },
      "source": [
        "print(10 + 10)  \n",
        "print('------------------------')\n",
        "\n",
        "\n",
        "print(10 - 3)\n",
        "print('------------------------')\n",
        "\n",
        "print(10 / 2) \n",
        "print('------------------------')\n",
        "\n",
        "\n",
        "print(10 % 2)  \n",
        "print('------------------------')\n",
        "\n",
        "print(10 ** 2)\n",
        "print('------------------------')\n",
        "\n",
        "x = 10  \n",
        "y = x + 4\n",
        "x += 9  \n",
        "x -= 9  \n",
        "print(y)\n",
        "print(x)"
      ],
      "execution_count": null,
      "outputs": [
        {
          "output_type": "stream",
          "text": [
            "20\n",
            "------------------------\n",
            "7\n",
            "------------------------\n",
            "5.0\n",
            "------------------------\n",
            "0\n",
            "------------------------\n",
            "100\n",
            "------------------------\n",
            "14\n",
            "10\n"
          ],
          "name": "stdout"
        }
      ]
    },
    {
      "cell_type": "markdown",
      "metadata": {
        "id": "qYFniRSxUOdC"
      },
      "source": [
        "## <left> <b> <span style=\"color:brown;\"> 3.1 Les opérateurs logiques </span> </b></left>\n",
        "\n",
        "\n",
        "|  Opérations    $\\quad \\qquad$        | Opérateur en Python \t  $\\qquad$          | Description          |\n",
        "|-------------:|:------------------:|------------------:|\n",
        "| Égalité $ \\qquad \\qquad$     |       $== \\quad \\qquad$            |    Égal à        | \n",
        "| Inégalité $\\qquad \\quad$     |    $!=$ (ou $<>$) $\\quad \\qquad$      |   Différent de      |                 \n",
        "| Infériorité stricte $\\qquad \\quad$  |  $< \\quad \\qquad$      |   Inférieur à         | \n",
        "| Supériorité stricte  $\\qquad \\quad$        | $>\\quad \\qquad$  | Supérieur à |\n",
        "| Infériorité large  $\\qquad \\quad$         |$<=\\quad \\qquad$  | Inférieur ou égal à|\n",
        "| Supériorité large $\\qquad \\quad$          | $>=\\quad \\qquad$ | Supérieur ou égal à |\n",
        "| Inclusion(appartenance) $\\qquad \\quad$          | `in`  $ \\quad \\qquad $  |Appartient à (`dans`) |\n",
        "| Exclusion (non appartenance)  $\\qquad \\quad$       | `not in`$\\quad \\qquad$ |N'appartient pas à (`exclu`) |\n",
        "| `Et` logique   $\\qquad \\quad$       | `and` $\\quad \\qquad$ | Comparaisons `ET` logiques|\n",
        "| `Ou` logique   $\\qquad \\quad$       | `or` $\\quad \\qquad$ | Comparaisons `OU` logique|\n",
        "| `Non` logique   $\\qquad \\quad$       | `not`$\\quad \\qquad$ | Évalue la valeur opposée|"
      ]
    },
    {
      "cell_type": "markdown",
      "metadata": {
        "id": "_-dhALMsUOdD"
      },
      "source": [
        "<left> <b> <span style=\"color:red;\">Affecter n’est pas comparer !</span> </b></left>\n",
        "Il faut bien prendre garde au fait que l’instruction d’affectation `« = »` n’a pas la même signification que le symbole d’égalité `« = »` en mathématiques. Par exemple, le premier n’est pas\n",
        "symétrique, alors que le second l’est : vouloir échanger l’ordre des éléments dans une instruction d’affectation produira immanquablement une erreur dans l’interpréteur."
      ]
    },
    {
      "cell_type": "markdown",
      "metadata": {
        "id": "nbHhJqt6UOdE"
      },
      "source": [
        "Nous verrons l'utilité de ces opératuers au fil des sessions. Ils retournent toujours des booléens et permettent en l'occurence de faire des tests. Ils apparaissent dans l'écriture des boucles et dans l'écritutre des sturctures itératives et des structures conditionnelles."
      ]
    },
    {
      "cell_type": "markdown",
      "metadata": {
        "id": "Xf6llJfiUOdE"
      },
      "source": [
        "Pour accéder à la liste complète des opérateurs standards de python et leurs équivalents fonctions, voir [cette page](https://docs.python.org/2/library/operator.html). L'on pourra aussi consulter [cette page](http://www.tutorialspoint.com/python/python_basic_operators.htm) pour quelques exemples\n",
        "d’utilisations des opérateurs standards."
      ]
    },
    {
      "cell_type": "markdown",
      "metadata": {
        "id": "Qdsuz2iWUOdE"
      },
      "source": [
        "<!--NAVIGATION-->\n",
        "<  [1. Python en bref](https://colab.research.google.com/drive/1pZCx7_J30i-DgJmEe4NdRoXzD3AjS7Rv?authuser=2#scrollTo=SnSuv8RjqwzB)| [Sommaire](https://colab.research.google.com/github/ai-technipreneurs/programmation-python-pratique/blob/master/Index.ipynb#scrollTo=IazLgW6yZ-Rh) | [3. Chaînes de caractères](https://colab.research.google.com/github/ai-technipreneurs/programmation-python-pratique/blob/master/3_Cha%C3%AEnes_de_caract%C3%A8res.ipynb) >\n"
      ]
    }
  ]
}